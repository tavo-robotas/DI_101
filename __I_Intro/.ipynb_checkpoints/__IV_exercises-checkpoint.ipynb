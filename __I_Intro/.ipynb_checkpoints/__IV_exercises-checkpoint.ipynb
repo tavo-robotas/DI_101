{
 "cells": [
  {
   "cell_type": "markdown",
   "id": "667b7a4f",
   "metadata": {},
   "source": [
    "# Pratybos"
   ]
  },
  {
   "cell_type": "markdown",
   "id": "6af5dbe4",
   "metadata": {},
   "source": [
    "<code>**1-2  : Aritmetika ir kintamieji**</code><br>\n",
    "<code>**3-4  : Funkcijos**</code><br>\n",
    "<code>**4-6  : Duomenų typai**</code><br>\n",
    "<code>**6-8  : Sąlygos ir sąlyginės išraiškos**</code><br>\n",
    "<code>**8-10 : Sąrašas (masyvas)**</code>"
   ]
  },
  {
   "cell_type": "markdown",
   "id": "c3a920fe",
   "metadata": {},
   "source": [
    "## #1"
   ]
  },
  {
   "cell_type": "markdown",
   "id": "4a4ccc30",
   "metadata": {},
   "source": [
    "### Aritmetika ir kintamieji\n",
    "\n",
    "Žemiau esantis kodas kodas apskaičiuoja sekundžių skaičių per ketverius metus."
   ]
  },
  {
   "cell_type": "code",
   "execution_count": 2,
   "id": "8a21c8e8",
   "metadata": {},
   "outputs": [
    {
     "name": "stdout",
     "output_type": "stream",
     "text": [
      "126144000\n"
     ]
    }
   ],
   "source": [
    "years = 4\n",
    "days_per_year = 365 \n",
    "hours_per_day = 24\n",
    "mins_per_hour = 60\n",
    "secs_per_min  = 60\n",
    "\n",
    "total_secs = secs_per_min * mins_per_hour * hours_per_day * days_per_year * years\n",
    "print(total_secs)"
   ]
  },
  {
   "cell_type": "markdown",
   "id": "6e72abbf",
   "metadata": {},
   "source": [
    "Prašau sukurkite aritmetinio skaičaivimo seka kuri nustato kiek žmonių gimsta per diena jeigu per vieną minute gimsta <b>250</b>."
   ]
  },
  {
   "cell_type": "code",
   "execution_count": null,
   "id": "e0995be6",
   "metadata": {},
   "outputs": [],
   "source": [
    "# TODO: nustatykite kintamojo births_per_min reikšmę į tai kiek yra gimusių per minutę.\n",
    "newborns_per_min = \n",
    "\n",
    "# TODO: sukurkte skaičvimų seką kuri apskaičiuoja kintamojo newborns_per_day reikšmę\n",
    "newborns_per_day = \n",
    "\n",
    "print(newborns_per_day)"
   ]
  },
  {
   "cell_type": "markdown",
   "id": "aad70cc1",
   "metadata": {},
   "source": [
    "## #2"
   ]
  },
  {
   "cell_type": "markdown",
   "id": "0a2b4c73",
   "metadata": {},
   "source": [
    "Tragiška istorija. Buvo laivas kuris nuskendo, o visi manė kad jis nenuskandinamas. Laive buvo <b>891</b> keleivių iš kurių <b>342</b>  išgyveno tarp išgyvenusiųjų buvo <b>113</b> vaikai. Prašau parašyti kodą kuris apskaičiuoja kokia dalis keleivių išgyveno ir kokia išgyvenusiųjų dalis buvo vaikai."
   ]
  },
  {
   "cell_type": "code",
   "execution_count": null,
   "id": "a964966e",
   "metadata": {},
   "outputs": [],
   "source": [
    "total    = 891 \n",
    "survived = 342\n",
    "minors   = 113 \n",
    "\n",
    "#TODO apskaičiuoti kokia dalis keleivių išgyveno\n",
    "survived_fraction = \n",
    "\n",
    "print(survived_fraction)\n",
    "\n",
    "# TODO: apskaičiuoti kokia dalis tarp išgyvenusių yra vaikai\n",
    "minors_fraction = \n",
    "\n",
    "print(minors_fraction)"
   ]
  },
  {
   "cell_type": "markdown",
   "id": "8a7837fd",
   "metadata": {},
   "source": [
    "## #3"
   ]
  },
  {
   "cell_type": "markdown",
   "id": "d6ffae09",
   "metadata": {},
   "source": [
    "### Funkcijos\n",
    "\n",
    "Žemiau esančiame kodo langelyje sukurkite funkciją `get_expected_price()`, kuri  prima du argumentus:\n",
    "\n",
    " - beds  – miegamųjų kambarių skaičius\n",
    " - baths – vonios kambarių skaičius\n",
    "\n",
    "Ši funkcija turėtų grąžinti namo kainą kurią apskaičiuoja pagal miegamųjų ir vonios kambarių skaičių. Tarkime, kad:\n",
    "\n",
    " - namo su 0 miegamųjų ir 0 vonios kambarių kaina yra 80 000.\n",
    " - kiekvienas miegamasis prie kainos prideda 30 000\n",
    " - kiekvienas vonios kambarys prie kainos prideda 10 000.\n",
    " \n",
    "Pavyzdžiui,\n",
    " - namo su 1 miegamuoju ir 1 vonios kambariu numatoma kaina 120 000\n",
    " - namo su 2 miegamaisiais ir 1 vonios kambariu numatoma kaina 150 000."
   ]
  },
  {
   "cell_type": "code",
   "execution_count": null,
   "id": "f1a0c89c",
   "metadata": {},
   "outputs": [],
   "source": [
    "# TODO: užbaigite funkciją\n",
    "def get_expected_price(beds, baths):\n",
    "    value = ____\n",
    "    return value"
   ]
  },
  {
   "cell_type": "markdown",
   "id": "c4ed43b0",
   "metadata": {},
   "source": [
    "## #4"
   ]
  },
  {
   "cell_type": "markdown",
   "id": "914a19c2",
   "metadata": {},
   "source": [
    "Apdailinkas prašo padėti  kad supaprastintumėte kai kuriuos jo darbus ir išlaidas. \n",
    "Tiksliau, kuriate įrankį, kurį ketinate naudoti patalpų dažymo išlaidoms apskaičiuoti.<br>\n",
    "\n",
    "Pirmiausia apibrėžkite funkciją `get_cost()`, kuri prims tokius argumentus kaip įvestį:\n",
    "- `sqrmt_walls`     = bendras sienų kvadratinių metrų skaičius\n",
    "- `sqrmt_ceiling`     = kvadratiniai lubų metrai, kurios turi būti nudažytos\n",
    "- `sqrmt_per_liter` = su kiek litrų dažų galima padengti 1 kvadratinį metrą \n",
    "- `cost_per_liter`  = vieno litro dažų kaina (eurais).\n",
    "\n",
    "Ši funkcija turi pasakyti kiek išlaidų turėsite (eurais) kad nudažyti visas sienas ir lupas vienu dažu sluoksniu. Tarkime, kad galite nusipirkti tikslų dažų kiekį, kurio jums reikia (pvz., jei jums reikia 7.523 litro, galite nusipirkti tikslų kiekį už tikslią sumą, o ne pirkti 8 litrus ir iššvaistyti šiek tiek dažų ir pinigų). Neapvalinkite savo atsakymo."
   ]
  },
  {
   "cell_type": "code",
   "execution_count": 1,
   "id": "49c33ebc",
   "metadata": {},
   "outputs": [],
   "source": [
    "# TODO: Užbaigite rašyti funkciją ir išbandykite ją\n",
    "def get_cost(sqrmt_walls, sqrmt_ceiling, sqrmt_per_liter, cost_per_liter):\n",
    "    cost = \n",
    "    return cost"
   ]
  },
  {
   "cell_type": "markdown",
   "id": "fb479054",
   "metadata": {},
   "source": [
    "## #5"
   ]
  },
  {
   "cell_type": "code",
   "execution_count": null,
   "id": "acdb7cd3",
   "metadata": {},
   "outputs": [],
   "source": []
  },
  {
   "cell_type": "markdown",
   "id": "dceaf6ba",
   "metadata": {},
   "source": [
    "## #6"
   ]
  },
  {
   "cell_type": "code",
   "execution_count": null,
   "id": "8b3077dd",
   "metadata": {},
   "outputs": [],
   "source": []
  },
  {
   "cell_type": "markdown",
   "id": "2e8cc286",
   "metadata": {},
   "source": [
    "## #7"
   ]
  },
  {
   "cell_type": "code",
   "execution_count": null,
   "id": "8a20142f",
   "metadata": {},
   "outputs": [],
   "source": []
  },
  {
   "cell_type": "markdown",
   "id": "7806daf5",
   "metadata": {},
   "source": [
    "## #8"
   ]
  },
  {
   "cell_type": "code",
   "execution_count": null,
   "id": "f2606c5b",
   "metadata": {},
   "outputs": [],
   "source": []
  },
  {
   "cell_type": "markdown",
   "id": "f46b6435",
   "metadata": {},
   "source": [
    "## #9"
   ]
  },
  {
   "cell_type": "code",
   "execution_count": null,
   "id": "2fac7807",
   "metadata": {},
   "outputs": [],
   "source": []
  },
  {
   "cell_type": "markdown",
   "id": "bd50d011",
   "metadata": {},
   "source": [
    "## #10"
   ]
  },
  {
   "cell_type": "code",
   "execution_count": null,
   "id": "252526c2",
   "metadata": {},
   "outputs": [],
   "source": []
  },
  {
   "cell_type": "markdown",
   "id": "a5a998f3",
   "metadata": {},
   "source": [
    "## #11"
   ]
  },
  {
   "cell_type": "code",
   "execution_count": null,
   "id": "a7e4ed7a",
   "metadata": {},
   "outputs": [],
   "source": []
  },
  {
   "cell_type": "markdown",
   "id": "cee92109",
   "metadata": {},
   "source": [
    "## #12"
   ]
  },
  {
   "cell_type": "code",
   "execution_count": null,
   "id": "c8b06d43",
   "metadata": {},
   "outputs": [],
   "source": []
  },
  {
   "cell_type": "markdown",
   "id": "89d2f600",
   "metadata": {},
   "source": [
    "## #13"
   ]
  },
  {
   "cell_type": "code",
   "execution_count": null,
   "id": "b7a91fd9",
   "metadata": {},
   "outputs": [],
   "source": []
  },
  {
   "cell_type": "markdown",
   "id": "fa89908d",
   "metadata": {},
   "source": [
    "## #14"
   ]
  },
  {
   "cell_type": "code",
   "execution_count": null,
   "id": "ab4b2dd5",
   "metadata": {},
   "outputs": [],
   "source": []
  },
  {
   "cell_type": "markdown",
   "id": "d98cdde0",
   "metadata": {},
   "source": [
    "## #15"
   ]
  },
  {
   "cell_type": "code",
   "execution_count": null,
   "id": "af894716",
   "metadata": {},
   "outputs": [],
   "source": []
  },
  {
   "cell_type": "markdown",
   "id": "eef4899f",
   "metadata": {},
   "source": [
    "## #16"
   ]
  },
  {
   "cell_type": "code",
   "execution_count": null,
   "id": "1bee64eb",
   "metadata": {},
   "outputs": [],
   "source": []
  },
  {
   "cell_type": "markdown",
   "id": "9449009c",
   "metadata": {},
   "source": [
    "## #17"
   ]
  },
  {
   "cell_type": "code",
   "execution_count": null,
   "id": "7c5a7b99",
   "metadata": {},
   "outputs": [],
   "source": []
  },
  {
   "cell_type": "markdown",
   "id": "79e244aa",
   "metadata": {},
   "source": [
    "## #18"
   ]
  },
  {
   "cell_type": "code",
   "execution_count": null,
   "id": "df446379",
   "metadata": {},
   "outputs": [],
   "source": []
  },
  {
   "cell_type": "markdown",
   "id": "377b4b72",
   "metadata": {},
   "source": [
    "## #19"
   ]
  },
  {
   "cell_type": "code",
   "execution_count": null,
   "id": "a5e3a89a",
   "metadata": {},
   "outputs": [],
   "source": []
  },
  {
   "cell_type": "markdown",
   "id": "5572d8c5",
   "metadata": {},
   "source": [
    "## #20"
   ]
  },
  {
   "cell_type": "code",
   "execution_count": null,
   "id": "c1f4a4aa",
   "metadata": {},
   "outputs": [],
   "source": []
  },
  {
   "cell_type": "markdown",
   "id": "b3551557",
   "metadata": {},
   "source": [
    "## #21"
   ]
  },
  {
   "cell_type": "code",
   "execution_count": null,
   "id": "01db0ead",
   "metadata": {},
   "outputs": [],
   "source": []
  },
  {
   "cell_type": "markdown",
   "id": "4cfae5b3",
   "metadata": {},
   "source": [
    "## #22"
   ]
  },
  {
   "cell_type": "code",
   "execution_count": null,
   "id": "e351bd16",
   "metadata": {},
   "outputs": [],
   "source": []
  },
  {
   "cell_type": "markdown",
   "id": "c2ea8da7",
   "metadata": {},
   "source": [
    "## #23"
   ]
  },
  {
   "cell_type": "code",
   "execution_count": null,
   "id": "b5a15a36",
   "metadata": {},
   "outputs": [],
   "source": []
  },
  {
   "cell_type": "markdown",
   "id": "bc7c42ba",
   "metadata": {},
   "source": [
    "## #24"
   ]
  },
  {
   "cell_type": "code",
   "execution_count": null,
   "id": "0c4ccc0a",
   "metadata": {},
   "outputs": [],
   "source": []
  },
  {
   "cell_type": "markdown",
   "id": "d49f5c0b",
   "metadata": {},
   "source": [
    "## #25"
   ]
  },
  {
   "cell_type": "code",
   "execution_count": null,
   "id": "736889ad",
   "metadata": {},
   "outputs": [],
   "source": []
  }
 ],
 "metadata": {
  "kernelspec": {
   "display_name": "Python 3",
   "language": "python",
   "name": "python3"
  },
  "language_info": {
   "codemirror_mode": {
    "name": "ipython",
    "version": 3
   },
   "file_extension": ".py",
   "mimetype": "text/x-python",
   "name": "python",
   "nbconvert_exporter": "python",
   "pygments_lexer": "ipython3",
   "version": "3.7.4"
  }
 },
 "nbformat": 4,
 "nbformat_minor": 5
}
