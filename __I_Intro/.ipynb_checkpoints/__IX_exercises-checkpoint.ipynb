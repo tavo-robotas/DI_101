{
 "cells": [
  {
   "cell_type": "markdown",
   "id": "1d447132",
   "metadata": {},
   "source": [
    "# Pratybos"
   ]
  },
  {
   "cell_type": "markdown",
   "id": "3412183a",
   "metadata": {},
   "source": [
    "<code>**1-2  : Aritmetika ir kintamieji**</code><br>\n",
    "<code>**3-4  : Funkcijos**</code><br>\n",
    "<code>**4-6  : Duomenų typai**</code><br>\n",
    "<code>**6-8  : Sąlygos ir sąlyginės išraiškos**</code><br>\n",
    "<code>**8-10 : Sąrašas (masyvas)**</code>"
   ]
  },
  {
   "cell_type": "markdown",
   "id": "eb4acee0",
   "metadata": {},
   "source": [
    "## #1"
   ]
  },
  {
   "cell_type": "markdown",
   "id": "cdeef026",
   "metadata": {},
   "source": [
    "Žemiau esantis kodas yra pamokos apie <b>Aritmetika ir kintamieji</b>. Šis kodas apskaičiuoja sekundžių skaičių per ketverius metus."
   ]
  },
  {
   "cell_type": "code",
   "execution_count": 2,
   "id": "c86e22ca",
   "metadata": {},
   "outputs": [
    {
     "name": "stdout",
     "output_type": "stream",
     "text": [
      "126144000\n"
     ]
    }
   ],
   "source": [
    "years = 4\n",
    "days_per_year = 365 \n",
    "hours_per_day = 24\n",
    "mins_per_hour = 60\n",
    "secs_per_min  = 60\n",
    "\n",
    "total_secs = secs_per_min * mins_per_hour * hours_per_day * days_per_year * years\n",
    "print(total_secs)"
   ]
  },
  {
   "cell_type": "markdown",
   "id": "ac418104",
   "metadata": {},
   "source": [
    "Prašau sukurkite aritmetinio skaičaivimo seka kuri nustato kiek žmonių gimsta per diena jeigu per vieną minute gimsta <b>250</b>."
   ]
  },
  {
   "cell_type": "code",
   "execution_count": null,
   "id": "39945be5",
   "metadata": {},
   "outputs": [],
   "source": [
    "# TODO: nustatykite kintamojo births_per_min reikšmę į tai kiek yra gimusių per minutę.\n",
    "newborns_per_min = \n",
    "\n",
    "# TODO: sukurkte skaičvimų seką kuri apskaičiuoja kintamojo newborns_per_day reikšmę\n",
    "newborns_per_day = "
   ]
  },
  {
   "cell_type": "markdown",
   "id": "4129a841",
   "metadata": {},
   "source": [
    "## #2"
   ]
  },
  {
   "cell_type": "markdown",
   "id": "be0d99d0",
   "metadata": {},
   "source": [
    "Tragiška istorija. Buvo laivas kuris nuskendo, o visi manė kad jis nenuskandinamas. Laive buvo <b>891</b> keleivių iš kurių <b>342</b>  išgyveno tarp išgyvnusiujų buvo <b>113</b> vaikai. Prašau parašyti kodą kuris apskaičiuoja kokia dalis keleivių išgyveno ir kokia išgyvenusiųjų dalis buvo vaikai."
   ]
  },
  {
   "cell_type": "code",
   "execution_count": null,
   "id": "aa31443a",
   "metadata": {},
   "outputs": [],
   "source": [
    "total    = 891 \n",
    "survived = 342\n",
    "minors   = 113 \n",
    "\n",
    "#TODO apskaičiuoti kokia dalis keleivių išgyveno\n",
    "survived_fraction = \n",
    "\n",
    "print(survived_fraction)\n",
    "\n",
    "# TODO: apskaičiuoti kokia dalis tarp išgyvenusių yra vaikai\n",
    "minors_fraction = \n",
    "\n",
    "print(minors_fraction)"
   ]
  },
  {
   "cell_type": "markdown",
   "id": "6ff2e20f",
   "metadata": {},
   "source": [
    "## #3"
   ]
  },
  {
   "cell_type": "markdown",
   "id": "67b77cd4",
   "metadata": {},
   "source": [
    "Žemiau esančiame kodo langelyje sukurkite funkciją `get_expected_price()`, kuri  prima du argumentus:\n",
    "\n",
    " - beds  – miegamųjų kambarių skaičius\n",
    " - baths – vonios kambarių skaičius\n",
    "\n",
    "Ši funkcija turėtų grąžinti namo kainą kurią apskaičiuoja pagal miegamųjų ir vonios kambarių skaičių. Tarkime, kad:\n",
    "\n",
    " - namo su 0 miegamųjų ir 0 vonios kambarių kaina yra 80 000.\n",
    " - kiekvienas miegamasis prie kainos prideda 30 000\n",
    " - kiekvienas vonios kambarys prie kainos prideda 10 000.\n",
    " \n",
    "Pavyzdžiui,\n",
    " - namo su 1 miegamuoju ir 1 vonios kambariu numatoma kaina 120 000\n",
    " - namo su 2 miegamaisiais ir 1 vonios kambariu numatoma kaina 150 000."
   ]
  },
  {
   "cell_type": "code",
   "execution_count": null,
   "id": "50246301",
   "metadata": {},
   "outputs": [],
   "source": [
    "# TODO: užbaigite funkciją\n",
    "def get_expected_price(beds, baths):\n",
    "    value = ____\n",
    "    return value"
   ]
  },
  {
   "cell_type": "markdown",
   "id": "a31ab0b9",
   "metadata": {},
   "source": [
    "## #4"
   ]
  },
  {
   "cell_type": "markdown",
   "id": "3ae3644a",
   "metadata": {},
   "source": [
    "Apdailinkas prašo padėti  kad supaprastintumėte kai kuriuos jo darbus ir išlaidas. \n",
    "Tiksliau, kuriate įrankį, kurį ketinate naudoti patalpų dažymo išlaidoms apskaičiuoti.<br>\n",
    "\n",
    "Pirmiausia apibrėžkite funkciją `get_cost()`, kuri prims tokius argumentus kaip įvestį:\n",
    "- `sqrmt_walls`     = bendras sienų kvadratinių metrų skaičius\n",
    "- `sqrmt_ceiling`     = kvadratiniai lubų metrai, kurios turi būti nudažytos\n",
    "- `sqrmt_per_liter` = su kiek litrų dažų galima padengti 1 kvadratinį metrą \n",
    "- `cost_per_liter`  = vieno litro dažų kaina (eurais).\n",
    "\n",
    "Ši funkcija turi pasakyti kiek išlaidų turėsite (eurais) kad nudažyti visas sienas ir lupas vienu dažu sluoksniu. Tarkime, kad galite nusipirkti tikslų dažų kiekį, kurio jums reikia (pvz., jei jums reikia 7.523 litro, galite nusipirkti tikslų kiekį už tikslią sumą, o ne pirkti 8 litrus ir iššvaistyti šiek tiek dažų ir pinigų). Neapvalinkite savo atsakymo."
   ]
  },
  {
   "cell_type": "code",
   "execution_count": 1,
   "id": "1d478c54",
   "metadata": {},
   "outputs": [],
   "source": [
    "# TODO: Užbaigite rašyti funkciją ir išbandykite ją\n",
    "def get_cost(sqrmt_walls, sqrmt_ceiling, sqrmt_per_liter, cost_per_liter):\n",
    "    cost = \n",
    "    return cost"
   ]
  },
  {
   "cell_type": "markdown",
   "id": "d357bc29",
   "metadata": {},
   "source": [
    "## #5"
   ]
  },
  {
   "cell_type": "code",
   "execution_count": null,
   "id": "edf79d75",
   "metadata": {},
   "outputs": [],
   "source": []
  },
  {
   "cell_type": "markdown",
   "id": "68a489a3",
   "metadata": {},
   "source": [
    "## #6"
   ]
  },
  {
   "cell_type": "code",
   "execution_count": null,
   "id": "201857f3",
   "metadata": {},
   "outputs": [],
   "source": []
  },
  {
   "cell_type": "markdown",
   "id": "9c7c2477",
   "metadata": {},
   "source": [
    "## #7"
   ]
  },
  {
   "cell_type": "code",
   "execution_count": null,
   "id": "bc469205",
   "metadata": {},
   "outputs": [],
   "source": []
  },
  {
   "cell_type": "markdown",
   "id": "227da102",
   "metadata": {},
   "source": [
    "## #8"
   ]
  },
  {
   "cell_type": "code",
   "execution_count": null,
   "id": "d0f496d1",
   "metadata": {},
   "outputs": [],
   "source": []
  },
  {
   "cell_type": "markdown",
   "id": "8ecd84e0",
   "metadata": {},
   "source": [
    "## #9"
   ]
  },
  {
   "cell_type": "code",
   "execution_count": null,
   "id": "45018ebb",
   "metadata": {},
   "outputs": [],
   "source": []
  },
  {
   "cell_type": "markdown",
   "id": "313adf92",
   "metadata": {},
   "source": [
    "## #10"
   ]
  },
  {
   "cell_type": "code",
   "execution_count": null,
   "id": "7534b293",
   "metadata": {},
   "outputs": [],
   "source": []
  },
  {
   "cell_type": "markdown",
   "id": "0fbbc41c",
   "metadata": {},
   "source": [
    "## #11"
   ]
  },
  {
   "cell_type": "code",
   "execution_count": null,
   "id": "314931e7",
   "metadata": {},
   "outputs": [],
   "source": []
  },
  {
   "cell_type": "markdown",
   "id": "f361e2d3",
   "metadata": {},
   "source": [
    "## #12"
   ]
  },
  {
   "cell_type": "code",
   "execution_count": null,
   "id": "88c45365",
   "metadata": {},
   "outputs": [],
   "source": []
  },
  {
   "cell_type": "markdown",
   "id": "b9aff920",
   "metadata": {},
   "source": [
    "## #13"
   ]
  },
  {
   "cell_type": "code",
   "execution_count": null,
   "id": "7506406c",
   "metadata": {},
   "outputs": [],
   "source": []
  },
  {
   "cell_type": "markdown",
   "id": "f5551305",
   "metadata": {},
   "source": [
    "## #14"
   ]
  },
  {
   "cell_type": "code",
   "execution_count": null,
   "id": "d6640f48",
   "metadata": {},
   "outputs": [],
   "source": []
  },
  {
   "cell_type": "markdown",
   "id": "3318b0f9",
   "metadata": {},
   "source": [
    "## #15"
   ]
  },
  {
   "cell_type": "code",
   "execution_count": null,
   "id": "b7072cb9",
   "metadata": {},
   "outputs": [],
   "source": []
  },
  {
   "cell_type": "markdown",
   "id": "8d53f8fe",
   "metadata": {},
   "source": [
    "## #16"
   ]
  },
  {
   "cell_type": "code",
   "execution_count": null,
   "id": "87a80678",
   "metadata": {},
   "outputs": [],
   "source": []
  },
  {
   "cell_type": "markdown",
   "id": "fa536ee8",
   "metadata": {},
   "source": [
    "## #17"
   ]
  },
  {
   "cell_type": "code",
   "execution_count": null,
   "id": "cade201c",
   "metadata": {},
   "outputs": [],
   "source": []
  },
  {
   "cell_type": "markdown",
   "id": "2068b141",
   "metadata": {},
   "source": [
    "## #18"
   ]
  },
  {
   "cell_type": "code",
   "execution_count": null,
   "id": "ee82c33e",
   "metadata": {},
   "outputs": [],
   "source": []
  },
  {
   "cell_type": "markdown",
   "id": "e3953ce9",
   "metadata": {},
   "source": [
    "## #19"
   ]
  },
  {
   "cell_type": "code",
   "execution_count": null,
   "id": "22d4fcb0",
   "metadata": {},
   "outputs": [],
   "source": []
  },
  {
   "cell_type": "markdown",
   "id": "9d544996",
   "metadata": {},
   "source": [
    "## #20"
   ]
  },
  {
   "cell_type": "code",
   "execution_count": null,
   "id": "4a526110",
   "metadata": {},
   "outputs": [],
   "source": []
  },
  {
   "cell_type": "markdown",
   "id": "f3867bf9",
   "metadata": {},
   "source": [
    "## #21"
   ]
  },
  {
   "cell_type": "code",
   "execution_count": null,
   "id": "c1d57347",
   "metadata": {},
   "outputs": [],
   "source": []
  },
  {
   "cell_type": "markdown",
   "id": "047cb5d9",
   "metadata": {},
   "source": [
    "## #22"
   ]
  },
  {
   "cell_type": "code",
   "execution_count": null,
   "id": "c3e16f4b",
   "metadata": {},
   "outputs": [],
   "source": []
  },
  {
   "cell_type": "markdown",
   "id": "85b151a5",
   "metadata": {},
   "source": [
    "## #23"
   ]
  },
  {
   "cell_type": "code",
   "execution_count": null,
   "id": "4ff15508",
   "metadata": {},
   "outputs": [],
   "source": []
  },
  {
   "cell_type": "markdown",
   "id": "b45a258b",
   "metadata": {},
   "source": [
    "## #24"
   ]
  },
  {
   "cell_type": "code",
   "execution_count": null,
   "id": "10ed044b",
   "metadata": {},
   "outputs": [],
   "source": []
  },
  {
   "cell_type": "markdown",
   "id": "0030888a",
   "metadata": {},
   "source": [
    "## #25"
   ]
  },
  {
   "cell_type": "code",
   "execution_count": null,
   "id": "ec0e6ef1",
   "metadata": {},
   "outputs": [],
   "source": []
  }
 ],
 "metadata": {
  "kernelspec": {
   "display_name": "Python 3",
   "language": "python",
   "name": "python3"
  },
  "language_info": {
   "codemirror_mode": {
    "name": "ipython",
    "version": 3
   },
   "file_extension": ".py",
   "mimetype": "text/x-python",
   "name": "python",
   "nbconvert_exporter": "python",
   "pygments_lexer": "ipython3",
   "version": "3.7.4"
  }
 },
 "nbformat": 4,
 "nbformat_minor": 5
}
