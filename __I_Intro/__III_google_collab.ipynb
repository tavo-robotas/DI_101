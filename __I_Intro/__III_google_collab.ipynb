{
 "cells": [
  {
   "cell_type": "markdown",
   "id": "f1d2ea95",
   "metadata": {},
   "source": [
    "# Google Collab aplinka"
   ]
  },
  {
   "cell_type": "code",
   "execution_count": null,
   "id": "c8017350",
   "metadata": {},
   "outputs": [],
   "source": []
  },
  {
   "cell_type": "markdown",
   "id": "4070c46b",
   "metadata": {},
   "source": [
    "## Temos"
   ]
  },
  {
   "cell_type": "code",
   "execution_count": null,
   "id": "fb4ea1dd",
   "metadata": {},
   "outputs": [],
   "source": []
  }
 ],
 "metadata": {
  "kernelspec": {
   "display_name": "Python 3",
   "language": "python",
   "name": "python3"
  },
  "language_info": {
   "codemirror_mode": {
    "name": "ipython",
    "version": 3
   },
   "file_extension": ".py",
   "mimetype": "text/x-python",
   "name": "python",
   "nbconvert_exporter": "python",
   "pygments_lexer": "ipython3",
   "version": "3.7.4"
  }
 },
 "nbformat": 4,
 "nbformat_minor": 5
}
