{
 "cells": [
  {
   "cell_type": "markdown",
   "id": "02da7bf5-67ff-499c-a966-fb97272ca8cf",
   "metadata": {},
   "source": [
    "# II Konvoliuciniai neuroniniai tinklai\n",
    "\n",
    "## Temos\n",
    "\n",
    "<code>**1  : Konvoliucijos erdvės užpildas**</code><br>\n",
    "<code>**2  : Erdvinis iškritimas ir BatchNorm**</code><br>\n",
    "<code>**3  : Dažniausios struktūro: VGG16, ResNet**</code><br>\n",
    "<code>**4  : VGG16 (PyTorch)**</code><br>\n",
    "<code>**5  : ResNet (PyTorch)**</code><br>\n",
    "<code>**6  : Max-Pooling pakeitimas konvoliuciniais sluoksniais**</code><br>\n",
    "<code>**7  : Konvoliucinis sluoksnis vietoje visiškai sujungtų sluoksnių**</code><br>\n",
    "<code>**8  : Inception, - lygiagrečios konvoliucijos ir pagalbiniai skaičiavimai**</code><br>\n",
    "<code>**9 : Perkeliamas mokymas (PyTorch)**</code><br>"
   ]
  },
  {
   "cell_type": "code",
   "execution_count": 2,
   "id": "24daa54e-df03-4607-8adc-026c2b3eee6c",
   "metadata": {},
   "outputs": [],
   "source": [
    "#TODO apprx: 2:15:00"
   ]
  },
  {
   "cell_type": "markdown",
   "id": "b2a667c7-943e-4130-97d2-88f8df713a72",
   "metadata": {},
   "source": [
    "## Konvoliucijos erdvės užpildas (padding)"
   ]
  },
  {
   "cell_type": "markdown",
   "id": "26d01a09-6954-42a0-8306-aa852702f249",
   "metadata": {},
   "source": [
    "Tai mechanizmas kuris leidžia mums kontroliuoti išvesties dydį kartu su `stride` operacija. Kol kas kalbėjomės apie paprastus atvejus kuomet `stride` parametras buvo lygus 1. Tai reiškiasi kad mūsų filtras per įvestį juda po vieną pozicija iš kairės į dešinę atliekant konvoliuciją. Jeigu šis parametras bus lygus 2 tuomet filtras judės per dvi pozicijas ir po konvoliucijos operacijos išvestis bus du maždaug du kartus mažesnė nei įvestis. `Padding` yra atvikrštnis procesas kuris leidžia padaryti kad išvestis būtų didensė. Veikimo principas toks lyg aplinkui įvestį sukuriame papildomą erdvę kurios reikšmės dažniausiai yra lygios 0.\n",
    "\n",
    "\\begin{multline*}\n",
    "o = \\dfrac{i + 2p  - k}{s} + 1\n",
    "\\end{multline*}\n",
    "\n",
    " - `o` - išvestis\n",
    " - `i` - įvesties dydis\n",
    " - `p` - užpildo erdvės dydis\n",
    " - `k` - filtor dydis\n",
    " - `s` - žingsnio dydis"
   ]
  },
  {
   "cell_type": "markdown",
   "id": "7ec00087-b89e-47e0-8f3d-8e81c0df67ed",
   "metadata": {},
   "source": [
    "Mes šią lygtį jau naudojome apskaičiuote kokią bus išvestis atživelgiant į filtro ir žingsnio dydį."
   ]
  },
  {
   "cell_type": "code",
   "execution_count": null,
   "id": "2605062a-ba20-46ae-8bf5-912e06434bad",
   "metadata": {},
   "outputs": [],
   "source": []
  }
 ],
 "metadata": {
  "kernelspec": {
   "display_name": "Python 3",
   "language": "python",
   "name": "python3"
  },
  "language_info": {
   "codemirror_mode": {
    "name": "ipython",
    "version": 3
   },
   "file_extension": ".py",
   "mimetype": "text/x-python",
   "name": "python",
   "nbconvert_exporter": "python",
   "pygments_lexer": "ipython3",
   "version": "3.7.4"
  }
 },
 "nbformat": 4,
 "nbformat_minor": 5
}
