{
 "cells": [
  {
   "cell_type": "markdown",
   "id": "d5b13f41-80df-453c-9f00-d396deda711d",
   "metadata": {},
   "source": [
    "# Perkeliamas mokymas "
   ]
  },
  {
   "cell_type": "code",
   "execution_count": null,
   "id": "e02b2c5e-fd00-4a31-8d0a-5d92144c83b5",
   "metadata": {},
   "outputs": [],
   "source": [
    "from google.colab import drive \n",
    "drive.mount('/content/drive')"
   ]
  },
  {
   "cell_type": "code",
   "execution_count": null,
   "id": "e9369cd7-9a07-4a11-a344-c43669fd96c3",
   "metadata": {},
   "outputs": [],
   "source": [
    "import sys\n",
    "import torch\n",
    "import torchvision\n",
    "import numpy as np\n",
    "import matplotlib.pyplot as plt"
   ]
  },
  {
   "cell_type": "code",
   "execution_count": null,
   "id": "097fde5b-780d-45cd-9516-e7a21e66e248",
   "metadata": {},
   "outputs": [],
   "source": [
    "sys.path.append('/content/drive/My Drive/Colab Notebooks')"
   ]
  },
  {
   "cell_type": "code",
   "execution_count": null,
   "id": "a9fd2422-4e3f-45cd-806e-809620bac409",
   "metadata": {},
   "outputs": [],
   "source": [
    "from helper_evaluation import set_all_seeds, set_deterministic, compute_confusion_matrix\n",
    "from helper_train_extended import train_model\n",
    "from helper_plotting_extended import plot_training_loss, plot_accuracy, show_examples, plot_confusion_matrix\n",
    "from helper_dataset_extended import get_dataloaders_cifar10, UnNormalize"
   ]
  },
  {
   "cell_type": "code",
   "execution_count": null,
   "id": "4e325724-1416-4175-9720-c0cd89fd0282",
   "metadata": {},
   "outputs": [],
   "source": [
    "RANDOM_SEED = 123\n",
    "BATCH_SIZE = 256\n",
    "NUM_EPOCHS = 50\n",
    "DEVICE = torch.device('cuda:0' if torch.cuda.is_available() else 'cpu')"
   ]
  },
  {
   "cell_type": "code",
   "execution_count": null,
   "id": "d79c6026-dcb1-461b-b853-cec3a4d03b59",
   "metadata": {},
   "outputs": [],
   "source": [
    "# https://pytorch.org/vision/stable/models/generated/torchvision.models.vgg16.html#torchvision.models.vgg16\n",
    "# mean=[0.485, 0.456, 0.406] and std=[0.229, 0.224, 0.225].\n",
    "\n",
    "train_transforms = torchvision.transforms.Compose([\n",
    "    torchvision.transforms.Resize((224, 224)),\n",
    "    torchvision.transforms.ToTensor(),\n",
    "    torchvision.transforms.Normalize((0.485, 0.456, 0.406), (0.229, 0.224, 0.225))])\n",
    "\n",
    "test_transforms = torchvision.transforms.Compose([\n",
    "    torchvision.transforms.Resize((224, 224)),                 \n",
    "    torchvision.transforms.ToTensor(),                \n",
    "    torchvision.transforms.Normalize((0.485, 0.456, 0.406), (0.229, 0.224, 0.2255))])\n",
    "\n",
    "\n",
    "train_loader, valid_loader, test_loader = get_dataloaders_cifar10(\n",
    "    batch_size=BATCH_SIZE,\n",
    "    validation_fraction=0.1,\n",
    "    train_transforms=train_transforms,\n",
    "    test_transforms=test_transforms,\n",
    "    num_workers=2)\n",
    "\n",
    "\n",
    "for images, labels in train_loader:  \n",
    "    print('Image batch dimensions:', images.shape)\n",
    "    print('Image label dimensions:', labels.shape)\n",
    "    print('Class labels of 10 examples:', labels[:10])\n",
    "    break"
   ]
  },
  {
   "cell_type": "markdown",
   "id": "753377b7-a1c2-40ca-ad2c-19e1963c974f",
   "metadata": {},
   "source": [
    "Kaip sužinoti savo duomenų rinkinio įrašų reikšmių vidurkį ir standartinį nuokrypį:"
   ]
  },
  {
   "cell_type": "code",
   "execution_count": null,
   "id": "6765665f-1281-46e6-9160-5c4c717f5adb",
   "metadata": {},
   "outputs": [],
   "source": [
    "train_mean = []\n",
    "train_std  = []\n",
    "for i, image in enumerate(train_loader, 0):\n",
    "    numpy_image = image[0].numpy()\n",
    "    batch_mean  = np.mean(numpy_image, axis=(0, 2, 3))\n",
    "    batch_std   = np.std(numpy_image, axis=(0, 2, 3))\n",
    "    train_mean.append(batch_mean)\n",
    "    train_std.append(batch_std)\n",
    "    \n",
    "train_mean = np.mean(train_mean, axis=0)\n",
    "train_std  = np.std(train_std, axis=0)\n",
    "\n",
    "print(f'mean: {train_mean}')\n",
    "print(f'std : {train_std}')"
   ]
  },
  {
   "cell_type": "code",
   "execution_count": null,
   "id": "d1125a3e-c2ea-4ff8-96c1-4ef460cdd90d",
   "metadata": {},
   "outputs": [],
   "source": [
    "model = torchvision.models.vgg16(pretrained=True)\n",
    "model"
   ]
  },
  {
   "cell_type": "markdown",
   "id": "e0dd2c24-7fbd-42f9-886e-b780ae4add6c",
   "metadata": {},
   "source": [
    "## Modelio svorių užšaldymas"
   ]
  },
  {
   "cell_type": "markdown",
   "id": "e2804ca6-e990-490a-8d6c-6f983b1d4132",
   "metadata": {},
   "source": [
    "Mes ir toliau galėsime naudoti `forward` ir `backward` metodus bet parametrai nebus atnaujinami."
   ]
  },
  {
   "cell_type": "code",
   "execution_count": null,
   "id": "c2b61c16-d8a3-4e0e-bee9-6901466576ab",
   "metadata": {},
   "outputs": [],
   "source": [
    "for param in model.parameters():\n",
    "    param.requires_grad = False"
   ]
  },
  {
   "cell_type": "markdown",
   "id": "d1849d36-df5b-4eda-a15f-75513fc6a19a",
   "metadata": {},
   "source": [
    "Tarkime, kad norime sureguliuoti (išmokyti) tik paskutinius 3 sluoksnius:"
   ]
  },
  {
   "cell_type": "code",
   "execution_count": null,
   "id": "a335708e-6188-4527-847e-857d3f3c925b",
   "metadata": {},
   "outputs": [],
   "source": [
    "model.classifier[0].requires_grad = True\n",
    "model.classifier[3].requires_grad = True"
   ]
  },
  {
   "cell_type": "markdown",
   "id": "ba8225be-13d2-4b54-9a7e-bfa33b67a305",
   "metadata": {},
   "source": [
    "Paskutiniame sluoksnyje, kadangi klasių etikečių skaičius skiriasi nuo ImageNet, išvesties sluoksnį pakeičiame taip kad atitiktu jūsų duomenų rinkio išvestis:"
   ]
  },
  {
   "cell_type": "code",
   "execution_count": null,
   "id": "24f5682d-ae77-4d7b-beef-e3f4fe3e5c54",
   "metadata": {},
   "outputs": [],
   "source": [
    "model.classifier[6] = torch.nn.Linear(4096, 10)"
   ]
  },
  {
   "cell_type": "markdown",
   "id": "c4eb8438-86b0-449f-8706-532c67764929",
   "metadata": {},
   "source": [
    "## Treniravimas"
   ]
  },
  {
   "cell_type": "code",
   "execution_count": null,
   "id": "d355a07b-9c19-42a3-8da4-8f0c25b2948c",
   "metadata": {},
   "outputs": [],
   "source": [
    "model = model.to(DEVICE)\n",
    "\n",
    "optimizer = torch.optim.SGD(model.parameters(), momentum=0.9, lr=0.01)\n",
    "scheduler = torch.optim.lr_scheduler.ReduceLROnPlateau(optimizer,\n",
    "                                                       factor=0.1,\n",
    "                                                       mode='max',\n",
    "                                                       verbose=True)\n",
    "\n",
    "minibatch_loss_list, train_acc_list, valid_acc_list = train_model(\n",
    "    model=model,\n",
    "    num_epochs=NUM_EPOCHS,\n",
    "    train_loader=train_loader,\n",
    "    valid_loader=valid_loader,\n",
    "    test_loader=test_loader,\n",
    "    optimizer=optimizer,\n",
    "    device=DEVICE,\n",
    "    scheduler=scheduler,\n",
    "    scheduler_on='valid_acc',\n",
    "    logging_interval=100)\n",
    "\n",
    "plot_training_loss(minibatch_loss_list=minibatch_loss_list,\n",
    "                   num_epochs=NUM_EPOCHS,\n",
    "                   iter_per_epoch=len(train_loader),\n",
    "                   results_dir=None,\n",
    "                   averaging_iterations=200)\n",
    "plt.show()\n",
    "\n",
    "plot_accuracy(train_acc_list=train_acc_list,\n",
    "              valid_acc_list=valid_acc_list,\n",
    "              results_dir=None)\n",
    "plt.ylim([60, 100])\n",
    "plt.show()"
   ]
  },
  {
   "cell_type": "code",
   "execution_count": null,
   "id": "16ee9dbf-520a-449e-80a3-8b027b5490dd",
   "metadata": {},
   "outputs": [],
   "source": [
    "model.cpu()\n",
    "unnormalizer = UnNormalize((0.485, 0.456, 0.406), (0.229, 0.224, 0.2255))\n",
    "class_dict = {0: 'airplane',\n",
    "              1: 'automobile',\n",
    "              2: 'bird',\n",
    "              3: 'cat',\n",
    "              4: 'deer',\n",
    "              5: 'dog',\n",
    "              6: 'frog',\n",
    "              7: 'horse',\n",
    "              8: 'ship',\n",
    "              9: 'truck'}\n",
    "\n",
    "show_examples(model=model, data_loader=test_loader, unnormalizer=unnormalizer, class_dict=class_dict)"
   ]
  },
  {
   "cell_type": "code",
   "execution_count": null,
   "id": "7e6e374b-41d4-4310-ac87-654a03e4099c",
   "metadata": {},
   "outputs": [],
   "source": [
    "mat = compute_confusion_matrix(model=model, data_loader=test_loader, device=torch.device('cpu'))\n",
    "plot_confusion_matrix(mat, class_names=class_dict.values())\n",
    "plt.show()"
   ]
  }
 ],
 "metadata": {
  "kernelspec": {
   "display_name": "Python 3",
   "language": "python",
   "name": "python3"
  },
  "language_info": {
   "codemirror_mode": {
    "name": "ipython",
    "version": 3
   },
   "file_extension": ".py",
   "mimetype": "text/x-python",
   "name": "python",
   "nbconvert_exporter": "python",
   "pygments_lexer": "ipython3",
   "version": "3.7.4"
  }
 },
 "nbformat": 4,
 "nbformat_minor": 5
}
