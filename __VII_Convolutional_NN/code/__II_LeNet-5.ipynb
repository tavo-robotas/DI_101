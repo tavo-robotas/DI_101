{
 "cells": [
  {
   "cell_type": "markdown",
   "id": "947a0b00-87bb-4107-9eca-7d1cf5c25957",
   "metadata": {},
   "source": [
    "# LeNet - 5 / MNIST"
   ]
  },
  {
   "cell_type": "code",
   "execution_count": null,
   "id": "b0a8e97c-ec3b-42ad-b824-48ed1590eaf1",
   "metadata": {},
   "outputs": [],
   "source": [
    "import torch\n",
    "import torchvision\n",
    "import numpy as np\n",
    "import matplotlib.pyplot as plt"
   ]
  },
  {
   "cell_type": "code",
   "execution_count": null,
   "id": "df4f4590-63a0-4db0-91d8-a7c645ceaaab",
   "metadata": {},
   "outputs": [],
   "source": [
    "from helper_evaluation import set_all_seeds, set_deterministic, compute_confusion_matrix\n",
    "from helper_train import train_model\n",
    "from helper_plotting import plot_training_loss, plot_accuracy, show_examples, plot_confusion_matrix\n",
    "from helper_dataset import get_dataloaders_mnist"
   ]
  },
  {
   "cell_type": "markdown",
   "id": "8d060e6f-a376-472d-b468-bcb4de13c855",
   "metadata": {},
   "source": [
    "## Nustatymai ir duomenų rinkinys"
   ]
  },
  {
   "cell_type": "code",
   "execution_count": null,
   "id": "02fe7fd6-44ab-49f0-ac8d-5ba2b95a3521",
   "metadata": {},
   "outputs": [],
   "source": [
    "RANDOM_SEED = 123\n",
    "BATCH_SIZE  = 256\n",
    "NUM_EPOCHS  = 15\n",
    "DEVICE      = torch.device('cuda:0' if torch.cuda.is_available() else 'cpu')"
   ]
  },
  {
   "cell_type": "code",
   "execution_count": null,
   "id": "922c2722-4e44-4a46-b8bc-d1c835d53d85",
   "metadata": {},
   "outputs": [],
   "source": [
    "resize_transform = torchvision.transforms.Compose(\n",
    "    [torchvision.transforms.Resize((32, 32)),\n",
    "     torchvision.transforms.ToTensor(),\n",
    "     torchvision.transforms.Normalize((0.5,), (0.5,))])\n",
    "\n",
    "\n",
    "train_loader, valid_loader, test_loader = get_dataloaders_mnist(\n",
    "    batch_size=BATCH_SIZE,\n",
    "    validation_fraction=0.1,\n",
    "    train_transforms=resize_transform,\n",
    "    test_transforms=resize_transform)\n",
    "\n",
    "for images, labels in train_loader:  \n",
    "    print('Image batch dimensions:', images.shape)\n",
    "    print('Image label dimensions:', labels.shape)\n",
    "    print('Class labels of 10 examples:', labels[:10])\n",
    "    break"
   ]
  },
  {
   "cell_type": "markdown",
   "id": "3e00fc6d-a855-4dea-b5d1-51985225ade2",
   "metadata": {},
   "source": [
    "## Modelis"
   ]
  },
  {
   "cell_type": "markdown",
   "id": "bb8725b6-09cf-4a53-a893-1ba7b66b6bfb",
   "metadata": {},
   "source": [
    "[architektrūra](https://www.analyticsvidhya.com/blog/2021/03/the-architecture-of-lenet-5/)"
   ]
  },
  {
   "cell_type": "code",
   "execution_count": null,
   "id": "7d93d32d-738f-4e6e-86cf-4e5a14db85b4",
   "metadata": {},
   "outputs": [],
   "source": [
    "class LeNet5(torch.nn.Module):\n",
    "\n",
    "    def __init__(self, num_classes, grayscale=False):\n",
    "        super().__init__()\n",
    "        \n",
    "        self.grayscale   = grayscale\n",
    "        self.num_classes = num_classes\n",
    "\n",
    "        if self.grayscale:\n",
    "            in_channels = 1\n",
    "        else:\n",
    "            in_channels = 3\n",
    "\n",
    "        self.features = torch.nn.Sequential(\n",
    "            \n",
    "            torch.nn.Conv2d(in_channels, 6, kernel_size=5),\n",
    "            torch.nn.Tanh(),\n",
    "            torch.nn.MaxPool2d(kernel_size=2),\n",
    "            torch.nn.Conv2d(6, 16, kernel_size=5),\n",
    "            torch.nn.Tanh(),\n",
    "            torch.nn.MaxPool2d(kernel_size=2)\n",
    "        )\n",
    "\n",
    "        self.classifier = torch.nn.Sequential(\n",
    "            torch.nn.Linear(16*5*5, 120),\n",
    "            torch.nn.Tanh(),\n",
    "            torch.nn.Linear(120, 84),\n",
    "            torch.nn.Tanh(),\n",
    "            torch.nn.Linear(84, num_classes),\n",
    "        )\n",
    "\n",
    "\n",
    "    def forward(self, x):\n",
    "        x = self.features(x)\n",
    "        x = torch.flatten(x, 1)\n",
    "        logits = self.classifier(x)\n",
    "        return logits"
   ]
  },
  {
   "cell_type": "code",
   "execution_count": null,
   "id": "1db1a1ba-afde-44fc-adb4-b5cb98accdf2",
   "metadata": {},
   "outputs": [],
   "source": [
    "model = LeNet5(grayscale=True, num_classes=10)\n",
    "model = model.to(DEVICE)\n",
    "\n",
    "optimizer = torch.optim.SGD(model.parameters(), lr=0.1)\n",
    "scheduler = torch.optim.lr_scheduler.ReduceLROnPlateau(optimizer,\n",
    "                                                       factor=0.1,\n",
    "                                                       mode='max',\n",
    "                                                       verbose=True)\n",
    "\n",
    "minibatch_loss_list, train_acc_list, valid_acc_list = train_model(\n",
    "    model=model,\n",
    "    num_epochs=NUM_EPOCHS,\n",
    "    train_loader=train_loader,\n",
    "    valid_loader=valid_loader,\n",
    "    test_loader=test_loader,\n",
    "    optimizer=optimizer,\n",
    "    device=DEVICE,\n",
    "    logging_interval=100)\n",
    "\n",
    "plot_training_loss(minibatch_loss_list=minibatch_loss_list,\n",
    "                   num_epochs=NUM_EPOCHS,\n",
    "                   iter_per_epoch=len(train_loader),\n",
    "                   results_dir=None,\n",
    "                   averaging_iterations=100)\n",
    "plt.show()\n",
    "\n",
    "plot_accuracy(train_acc_list=train_acc_list,\n",
    "              valid_acc_list=valid_acc_list,\n",
    "              results_dir=None)\n",
    "plt.ylim([80, 100])\n",
    "plt.show()"
   ]
  },
  {
   "cell_type": "code",
   "execution_count": null,
   "id": "12069813-430d-43d8-a729-839b01a2bc36",
   "metadata": {},
   "outputs": [],
   "source": [
    "model.cpu()\n",
    "show_examples(model=model, data_loader=test_loader)"
   ]
  },
  {
   "cell_type": "code",
   "execution_count": null,
   "id": "27e19104-b52d-4f44-a43b-e50e0ff00bb0",
   "metadata": {},
   "outputs": [],
   "source": [
    "class_dict = {0: '0',\n",
    "              1: '1',\n",
    "              2: '2',\n",
    "              3: '3',\n",
    "              4: '4',\n",
    "              5: '5',\n",
    "              6: '6',\n",
    "              7: '7',\n",
    "              8: '8',\n",
    "              9: '9'}\n",
    "\n",
    "mat = compute_confusion_matrix(model=model, data_loader=test_loader, device=torch.device('cpu'))\n",
    "plot_confusion_matrix(mat, class_names=class_dict.values())\n",
    "plt.show()"
   ]
  }
 ],
 "metadata": {
  "kernelspec": {
   "display_name": "Python 3",
   "language": "python",
   "name": "python3"
  },
  "language_info": {
   "codemirror_mode": {
    "name": "ipython",
    "version": 3
   },
   "file_extension": ".py",
   "mimetype": "text/x-python",
   "name": "python",
   "nbconvert_exporter": "python",
   "pygments_lexer": "ipython3",
   "version": "3.7.4"
  }
 },
 "nbformat": 4,
 "nbformat_minor": 5
}
