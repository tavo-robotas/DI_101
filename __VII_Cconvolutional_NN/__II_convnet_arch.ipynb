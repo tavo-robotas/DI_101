{
 "cells": [
  {
   "cell_type": "markdown",
   "id": "02da7bf5-67ff-499c-a966-fb97272ca8cf",
   "metadata": {},
   "source": [
    "# II Konvoliuciniai neuroniniai tinklai\n",
    "\n",
    "## Temos\n",
    "\n",
    "<code>**1  : Konvoliucinių neuronų tinklų architektūros**</code><br>\n",
    "<code>**2  : Konvoliucijos ir erdvės užpildas**</code><br>\n",
    "<code>**3  : Erdvinis iškritimas ir BatchNorm**</code><br>\n",
    "<code>**4  : Dažniausios struktūro: VGG16, ResNet**</code><br>\n",
    "<code>**5  : VGG16 (PyTorch)**</code><br>\n",
    "<code>**7  : ResNet (PyTorch)**</code><br>\n",
    "<code>**7  : Max-Pooling pakeitimas konvoliuciniais sluoksniais**</code><br>\n",
    "<code>**8  : Konvoliucinis sluoksnis vietoje visiškai sujungtų sluoksnių**</code><br>\n",
    "<code>**9  : Perkeliamas mokymas**</code><br>\n",
    "<code>**10 : Perkeliamo mokymosi taikymas (PyTorch)**</code><br>"
   ]
  },
  {
   "cell_type": "code",
   "execution_count": null,
   "id": "bb9f6007-7c04-4769-8217-f011d550b554",
   "metadata": {},
   "outputs": [],
   "source": []
  }
 ],
 "metadata": {
  "kernelspec": {
   "display_name": "Python 3",
   "language": "python",
   "name": "python3"
  },
  "language_info": {
   "codemirror_mode": {
    "name": "ipython",
    "version": 3
   },
   "file_extension": ".py",
   "mimetype": "text/x-python",
   "name": "python",
   "nbconvert_exporter": "python",
   "pygments_lexer": "ipython3",
   "version": "3.7.4"
  }
 },
 "nbformat": 4,
 "nbformat_minor": 5
}
