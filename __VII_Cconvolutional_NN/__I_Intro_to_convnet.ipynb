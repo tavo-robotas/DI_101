{
 "cells": [
  {
   "cell_type": "markdown",
   "id": "adcc387d-db94-4055-aaca-be85bbc9739b",
   "metadata": {},
   "source": [
    "# I Konvoliuciniai neuroniniai tinklai\n",
    "\n",
    "## Temos\n",
    "\n",
    "<code>**1  : Įvadas į CNN**</code><br>\n",
    "<code>**2  : CNN taikymas**</code><br>\n",
    "<code>**3  : Vaizdų klasifikavimo iššūkiai**</code><br>\n",
    "<code>**4  : CNN parindai**</code><br>\n",
    "<code>**5  : Konvoliuciniai filtrai ir svorio pasidalijimas**</code><br>\n",
    "<code>**7  : Kryžminė koreliacija ir konvoliucija, skirtumas**</code><br>\n",
    "<code>**7  : CNN atgalinis skaičiavimas**</code><br>\n",
    "<code>**8  : CNN architektūra ir AlexNet**</code><br>\n",
    "<code>**9  : Ką mato CNN**</code><br>\n",
    "<code>**10 : LeNet-5 (PyTorch)**</code><br>\n",
    "<code>**11 : AlexNet (PyTorch)**</code><br>\n",
    "<code>**12 : Modelių išsaugojimas ir įkėlimas (PyTorch)**</code><br>"
   ]
  },
  {
   "cell_type": "code",
   "execution_count": null,
   "id": "6e119a5b-99db-47fc-87bf-5c2e5c6055b2",
   "metadata": {},
   "outputs": [],
   "source": []
  }
 ],
 "metadata": {
  "kernelspec": {
   "display_name": "Python 3",
   "language": "python",
   "name": "python3"
  },
  "language_info": {
   "codemirror_mode": {
    "name": "ipython",
    "version": 3
   },
   "file_extension": ".py",
   "mimetype": "text/x-python",
   "name": "python",
   "nbconvert_exporter": "python",
   "pygments_lexer": "ipython3",
   "version": "3.7.4"
  }
 },
 "nbformat": 4,
 "nbformat_minor": 5
}
