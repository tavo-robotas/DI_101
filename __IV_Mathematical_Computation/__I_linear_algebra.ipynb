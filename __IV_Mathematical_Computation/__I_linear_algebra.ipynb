{
 "cells": [
  {
   "cell_type": "markdown",
   "id": "e2f67d97-f6aa-4650-9368-29c8be027121",
   "metadata": {},
   "source": [
    "# Tiesinė algebra"
   ]
  },
  {
   "cell_type": "markdown",
   "id": "023b2e25-e39e-4834-b3fe-6a89d2ad1483",
   "metadata": {},
   "source": [
    "## Temos\n",
    "\n",
    "\n",
    "<code>**1 : Matrica, matricos elementai**</code><br>\n",
    "<code>**2 : Vektorius**</code><br>\n",
    "\n",
    "<code>**4 : Sudėtis ir skaliarinė daugyba**</code><br>\n",
    "<code>**5 : Operandų derinys**</code><br>\n",
    "<code>**6 : Matricos vektorių daugyba**</code><br>\n",
    "<code>**7 : Matricos daugyba su matricaa**</code><br>\n",
    "<code>**8 : Matricos daugybos savybės**</code><br>\n",
    "<code>**9 : Inversija ir transpozicija**</code><br>\n",
    "<code>**10: Praktinis mašininio mokymosi pavyzdys**</code><br>\n",
    "<code>**11: Tenzorius**</code><br>\n",
    "<code>**12: Tenzorius ir PyTorch**</code><br>\n",
    "<code>**13: Vektoriai, matricos ir transliacija**</code><br>\n",
    "<code>**14: Neuroninių tinklų žymėjimo sutartys**</code><br>\n",
    "<code>**15: Visiškai sujungtas (linijinis) sluoksnis neuroniniam tinkle**</code><br>"
   ]
  },
  {
   "cell_type": "markdown",
   "id": "21983c97-63f4-46e6-9d6a-d76650d46622",
   "metadata": {},
   "source": [
    "## Matrica\n",
    "\n",
    "Trumpai apžvelkime, kas yra matricos ir vektoriai. Tačiau labai rekomenduoju labai gerai sudaryti kursą apie <code>**[linijinę algebrą, autorius 3Blue1Brown](https://www.youtube.com/playlist?list=PLZHQObOWTQDPD3MizzM2xVFitgF8hE_ab)**</code>\n",
    "<code>**Matrica**</code> galime laikyti stačiakampiu skaičių masyvu, paprastai rašomu tarp laužtinių skliaustų. Čia yra dvi matricos su daugybe skaičių, kurios gali būti jūsų duomenys, pvz., mašininio mokymosi problemos funkcijos, arba duomenys iš kažkur kitur, tačiau konkrečios reikšmės šiuo metu nėra svarbios.\n",
    "\n",
    "\\begin{align}\n",
    "\\begin{bmatrix}\n",
    "1500 & 544 \\\\\n",
    "1241 & 945 \\\\\n",
    "212 & 678 \\\\\n",
    "185 & 211\n",
    "\\end{bmatrix} \n",
    "\\begin{bmatrix}\n",
    "1 & 2 & 3\\\\\n",
    "4 & 5 & 6\n",
    "\\end{bmatrix} \n",
    "\\end{align}\n",
    "\n",
    "Tai tik dar vienas būdas pasakyti, kad tai 2D (dvimatis) masyvas. Kita ypatybė, kurios mums reikia, yra ta, kad matricos matmenys bus parašyti kaip <code>**eilučių skaičius**</code>, padaugintas iš <code>**stulpelių skaičiaus**</code>, matricos dimensijos.\n",
    "<code>**Matricos matmenys: eilučių skaičius x stulpelių skaičius.**</code> Pirmame pavyzdyje viršuje kairėje yra 4 eilutės ir 2 stulpeliai, todėl jo <code>**4x2 matrica**</code> . Antrasis yra <code>**2x3 matrica**</code>.\n",
    "Kartais matysite, kad tai parašyta taip <code>**(m yra eilutės ir n yra stulpeliai)**</code>:\n",
    "\n",
    "$$\n",
    "\\mathbb{R}^{m x n}\n",
    "$$"
   ]
  },
  {
   "cell_type": "markdown",
   "id": "109c88d1-7b6a-4db9-9acc-830e868bd032",
   "metadata": {},
   "source": [
    "### Matricos elementai (matricos įrašai)\n",
    "\n",
    "Matica visada yra pavadintą <code>**didžiąja raide**</code>.Kaip nurodyti konkretų matricos elementą ? :\n",
    "\n",
    "\\begin{align}\n",
    "A =\n",
    "\\begin{bmatrix}\n",
    "111 & 544 \\\\\n",
    "1241 & 945 \\\\\n",
    "212 & 678 \\\\\n",
    "185 & 211\n",
    "\\end{bmatrix} \n",
    "\\end{align}\n",
    "\n",
    "i, j žymės eilučių ir kolonų indeksus<br>\n",
    "<code>**Pastaba:**</code>(matematikoje dažniausiai matricos ir vektorių indeksavimas prasideda nuo 1, skirtingai nuo programavimo kur indeksuojame masyvų narius nuo 0)\n",
    "<br>\n",
    "\n",
    "\\begin{align}\n",
    "A_{ij} = \\text{i,j entry in the} \\ i^{\\text{th}} \\text{row,} j^{\\text{th}} \\text{column};\n",
    "\\end{align}\n",
    "\n",
    "\\begin{align}\n",
    "A_{11} = 111, A_{12} = 544, A_{32} = 678\n",
    "\\end{align}\n"
   ]
  },
  {
   "cell_type": "markdown",
   "id": "173035a2-d3dd-4ea1-a673-6af999644346",
   "metadata": {},
   "source": [
    "## Vektorius\n",
    "\n",
    "Vektorius pasirodo esąs ypatingas matricos atvejis. Iš esmės vektorius yra matrica, turinti tik 1 stulpelį, todėl mes turime\n",
    "<code>**nx1**</code> matrica. Matricą su vienu stulpeliu vadiname vektoriumi, pavadintą <code>**mažosiomis raidėmis**</code>.\n",
    "\n",
    "\\begin{equation*}\n",
    "y = \n",
    "\\begin{bmatrix}\n",
    "112 \\\\\n",
    "445 \\\\\n",
    "524 \\\\\n",
    "258\n",
    "\\end{bmatrix}\n",
    "\\in \\mathbb{R}^{n}\n",
    "\\end{equation*}\n",
    "\n",
    "Nurodykome  vektoriaus elementus standartine žyma\n",
    "\\begin{align}\n",
    "y_{i} = i^{\\text{th}} \\text{element};\n",
    "\\end{align}\n",
    "\n",
    "\\begin{align}\n",
    "y_{1} = 112, y_{2} = 445, y_{3} = 524\n",
    "\\end{align}\n",
    "\n",
    "Tiesinėje algebroje yra dvi indeksavimo sutartys <code>**1 indeksuotė ir 0 indeksuotė**</code>, panašiai kaip taisyklė, taip pat atitinka kai kurias programavimo kalbas. <code>**Matematikoje indeksuotė nuo 1 yra labiau paplitusi**</code>, tačiau mašininio mokymosi programose <code>**indeksuotė nuo 0**</code> suteikia daugiau techninio patogumo. <code>**Šiame kurse matematiniu koncepcijų aptarime dažniausiai naudosiu indeksuotę nuo 1**</code> ir aiškiai pasakysiu, kada turėsime pereiti prie indeksavinuo nuo 0."
   ]
  },
  {
   "cell_type": "markdown",
   "id": "48878c31-51ba-43c2-9488-2e990c78eb0e",
   "metadata": {},
   "source": [
    "### Matricos vektorių daugyba\n",
    "\n",
    "Matricos sudėjimas ir atėmimas bei matricos padauginimas iš skaičiaus taip pat vadinamas skaliariniu daugyba.\n",
    "Sudėjus dvi matricas, tiesiog sudėjus šių matricų elementus po vieną, bus gauta kita matrica. Ir <code>**galime pridėti tik dvi matricas, kurių matmenys yra vienodi**</code>. Mūsų pavyzdyje yra dvi <code>**3x2**</code> matricos ir rezultatas yra tų pačių matmenų <code>**3x2**</code> matrica.\n",
    "\n",
    "\n",
    "\\begin{align}\n",
    "\\begin{bmatrix}\n",
    "0 & 1 \\\\\n",
    "2 & 4 \\\\\n",
    "0 & 2\n",
    "\\end{bmatrix} \n",
    "+\n",
    "\\begin{bmatrix}\n",
    "0 & 2 \\\\\n",
    "4 & 6 \\\\\n",
    "1 & 0 \n",
    "\\end{bmatrix} \n",
    "=\n",
    "\\begin{bmatrix}\n",
    "0 & 3 \\\\\n",
    "6 & 10 \\\\\n",
    "1 & 2 \n",
    "\\end{bmatrix} \n",
    "\\end{align}\n",
    "\n",
    "Sudėties su dviem matricomis, kurios yra <code>**3x2**</code> ir <code>**2x2**</code>, pavyzdys. Ir kadangi jie nėra vienodi matmenys, tai sukels klaidą. <code>**Negalime jų pridėti**</code>.\n",
    "\n",
    "\\begin{align}\n",
    "\\begin{bmatrix}\n",
    "4 & 0 \\\\\n",
    "8 & 0 \\\\\n",
    "0 & 1\n",
    "\\end{bmatrix} \n",
    "+\n",
    "\\begin{bmatrix}\n",
    "0 & 2 \\\\\n",
    "4 & 6 \\\\ \n",
    "\\end{bmatrix} \n",
    "= \\text{error}\n",
    "\\end{align}"
   ]
  },
  {
   "cell_type": "markdown",
   "id": "9c86b561-b694-44b1-8f23-a634bfc2de3d",
   "metadata": {},
   "source": [
    "### Skaliarinis dauginimas\n",
    "\n",
    "Matricos padauginimas iš skaliarinio skaičiaus yra paprasta operacija nes skaliaras yra tik tikrasis skaičius. Ir padauginus (pakeitus mastelį), rezultatas yra beveik toks, kokio galime tikitės iš daugybos operacijos.\n",
    "\n",
    "\\begin{align}\n",
    "5 \\times\n",
    "\\begin{bmatrix}\n",
    "0 & 1 \\\\\n",
    "2 & 4 \\\\\n",
    "0 & 2\n",
    "\\end{bmatrix} \n",
    "= \n",
    "\\begin{bmatrix}\n",
    "0 & 5 \\\\\n",
    "10 & 20 \\\\\n",
    "0 & 10\n",
    "\\end{bmatrix} \n",
    "\\end{align}\n",
    "\n",
    "\\begin{align}\n",
    "\\begin{bmatrix}\n",
    "0 & 1 \\\\\n",
    "2 & 4 \\\\\n",
    "\\end{bmatrix} \n",
    "/2\n",
    "= \n",
    "0.5 \\times\n",
    "\\begin{bmatrix}\n",
    "0 & 1 \\\\\n",
    "2 & 4 \\\\\n",
    "\\end{bmatrix} \n",
    "=\n",
    "\\begin{bmatrix}\n",
    "0 & 0.5 \\\\\n",
    "1 & 2 \\\\\n",
    "\\end{bmatrix} \n",
    "\\end{align}"
   ]
  },
  {
   "cell_type": "markdown",
   "id": "8e11102a-efb0-4de3-b989-713c01e781e2",
   "metadata": {},
   "source": [
    "## Operandų derinys\n",
    "\n",
    "Šiek tiek sudėtingesnis atvejis kuomet sujungiame aritmetines operacijas. Šiame skaičiavime yra skaliarinė ir vektorinė daugyba, sudėtis ir dalyba. Laikykitės aritemitinės tvarkos, pirmiausia padauginkite, padalinkite ir tada visą kitą kas lieka.\n",
    "Gauname vieną vektorių <code>**(specialus matricos atvejis su vienu stulpeliu yra vektorius)**</code>\n",
    "\n",
    "\n",
    "\\begin{align}\n",
    "3 \\times\n",
    "\\begin{bmatrix}\n",
    "2 \\\\\n",
    "2  \\\\\n",
    "4\n",
    "\\end{bmatrix} \n",
    "+\n",
    "\\begin{bmatrix}\n",
    "0  \\\\\n",
    "2  \\\\\n",
    "0\n",
    "\\end{bmatrix} \n",
    "-\n",
    "\\begin{bmatrix}\n",
    "3  \\\\\n",
    "6  \\\\\n",
    "0\n",
    "\\end{bmatrix} \n",
    "/3\n",
    "= \n",
    "\\begin{bmatrix}\n",
    "6 \\\\\n",
    "6 \\\\\n",
    "12\n",
    "\\end{bmatrix}\n",
    "+\n",
    "\\begin{bmatrix}\n",
    "0  \\\\\n",
    "2  \\\\\n",
    "0\n",
    "\\end{bmatrix} \n",
    "-\n",
    "\\begin{bmatrix}\n",
    "1  \\\\\n",
    "2  \\\\\n",
    "0\n",
    "\\end{bmatrix}\n",
    "=\n",
    "\\begin{bmatrix}\n",
    "5  \\\\\n",
    "6  \\\\\n",
    "12\n",
    "\\end{bmatrix}\n",
    "\\end{align}"
   ]
  },
  {
   "cell_type": "markdown",
   "id": "a3ac747a-b05f-40d4-8679-9135d25319d7",
   "metadata": {},
   "source": [
    "Prieš pažvelgdami į matricos dauginimą, pradėkime nuo vektoriaus ir matricos dauginimo ir pažiūrėkime, kokį rezultatą gausime. Pirmas dalykas, kurį matome, yra žiūrėdami į matmenis. Matrica yra 3x2, o vektorius yra 2x1 dim.<code>**Labai svarbu, kad 3x2 - 2x1, dauginamųjų elementų pirmojo galinis ir antrojo pradinis matmenys būtų identiški**</code>. Mūsų gaminio matmenys taps <code>**3x1**</code>\n",
    "\n",
    "\n",
    "$$ 1\\times 1 + 3 \\times 2 = 7 $$\n",
    "$$ 4\\times 1 + 2 \\times 2 = 6 $$\n",
    "$$ 2\\times 1 + 1 \\times 2 = 4 $$\n",
    "\n",
    "\\begin{align}\n",
    "\\begin{bmatrix}\n",
    "1 & 3 \\\\\n",
    "4 & 2 \\\\\n",
    "2 & 1\n",
    "\\end{bmatrix} \n",
    "\\begin{bmatrix}\n",
    "1 \\\\\n",
    "2\n",
    "\\end{bmatrix} \n",
    "=\n",
    "\\begin{bmatrix}\n",
    "7 \\\\\n",
    "6 \\\\\n",
    "4\n",
    "\\end{bmatrix} \n",
    "\\end{align}\n",
    "\n",
    "Gauname 3 dimensijų vektorių. Jei nesate tikri, ar galite pakartoti šį procesą patys, pažvelkime į tai, kas ką tik įvyko.\n",
    "\n",
    "\\begin{align}\n",
    "\\text{To get} \\ y_{i}, \\text{multiply A's} \\ i^{th} \\text{row with elements of vector} \\ x, \\text{and add themp up}\n",
    "\\end{align}\n",
    "\n",
    "<code>**Pastaba: n matricos turi atitikti vektorius arba kitą matricos n matmenį, kad tai veiktų**</code> Ir šio produkto rezultatas bus n matmenų vektorius."
   ]
  },
  {
   "cell_type": "markdown",
   "id": "2dc28b63-a726-4deb-82fa-36ea3945bc0f",
   "metadata": {},
   "source": [
    "<div class=\"alert alert-block alert-success\">\n",
    "<h2>Pratimas</h2>\n",
    "\n",
    "\\begin{align}\n",
    "\\begin{bmatrix}\n",
    "1 & 4 & 1 & \\\\\n",
    "0 & 3 & 0 & \\\\\n",
    "1 & -2 & -2 \n",
    "\\end{bmatrix} \n",
    "\\times\n",
    "\\begin{bmatrix}\n",
    "1 \\\\\n",
    "3 \\\\\n",
    "1 \n",
    "\\end{bmatrix} \n",
    "=\n",
    "\\end{align}    \n",
    "    \n",
    "Pabandykite išsiaiškinti, kaip elgtis su šiek tiek sudėtingomis struktūromis, ir neskubėkite ir lėtai atidžiai atlikite uždavinį:    \n",
    "    \n",
    "\n",
    "\\begin{align}\n",
    "\\begin{bmatrix}\n",
    "1 & 2 & 2 & 2\\\\\n",
    "0 & 1 & 0 & 0\\\\\n",
    "2 & 0 & 0 & 4\n",
    "\\end{bmatrix} \n",
    "\\times\n",
    "\\begin{bmatrix}\n",
    "1 & 2 \\\\\n",
    "3 & 0 \\\\\n",
    "1 & 1 \\\\\n",
    "4 & 2\n",
    "\\end{bmatrix} \n",
    "=\n",
    "\\end{align}\n",
    "    \n",
    "<code>**Pastaba**</code>: jei jums sunku, naudokite toliau pateiktą schemą matricos sandaugai apskaičiuoti\n",
    "\n",
    "\\begin{equation*}\n",
    "\\begin{bmatrix}\n",
    "a & b & c \\\\\n",
    "d & e & f \\\\\n",
    "g & h & i \n",
    "\\end{bmatrix}\n",
    "\\times\n",
    "\\begin{bmatrix}\n",
    "r & s & t \\\\\n",
    "u & v & w \\\\\n",
    "x & y & z\n",
    "\\end{bmatrix}\n",
    "=\n",
    "\\begin{bmatrix}\n",
    "ar+bu+cx & as+bv+cy & at+bw+cz\\\\\n",
    "dr+eu+fx & ds+ev+fy & dt+ew+fz \\\\\n",
    "gr+hu+ix & gs+hv+iy & gt+hw+iz\n",
    "\\end{bmatrix}\n",
    "\\end{equation*}    \n",
    "    \n",
    "Papildomi informacijos šaltiniai dėl [matricų daugybos](https://en.wikipedia.org/wiki/Matrix_multiplication)    \n",
    "</div>"
   ]
  },
  {
   "cell_type": "markdown",
   "id": "062fe6ec-6faa-4b45-ad2b-8bc8a347eea9",
   "metadata": {},
   "source": [
    "## Matricos daugyba su matrica\n",
    "\n",
    "Galime padauginti dvi matricas kartu. Kai šis metodas naudojamas sprendžiant mašininio mokymosi problemas, susijusias su parametrų tiesine regresija, šį <code>**galima atlikti vienu kadru, nereikalaujant pasikartojančio algoritmo, pvz., gradiento nusileidimo**</code>. Kai kalbame apie šį algoritmą, paaiškėja, kad matrica – matricos daugyba yra vienas iš pagrindinių žingsnių, kurį turime žinoti.<br>\n",
    "Pakartokite ankstesnės temos praktikos pratimą:\n",
    "\n",
    "\n",
    "\\begin{align}\n",
    "\\begin{bmatrix}\n",
    "1 & 2 & 2 & 2\\\\\n",
    "0 & 1 & 0 & 0\\\\\n",
    "2 & 0 & 0 & 4\n",
    "\\end{bmatrix} \n",
    "\\times\n",
    "\\begin{bmatrix}\n",
    "1 & 2 \\\\\n",
    "3 & 0 \\\\\n",
    "1 & 1 \\\\\n",
    "4 & 2\n",
    "\\end{bmatrix} \n",
    "=\n",
    "\\end{align}\n",
    "\n",
    "Padarykime tai etapais, ištraukdami kai kuriuos stulpelius, tvarkykime tai kaip matricos ir vektoriaus dauginimą.\n",
    "\n",
    "\\begin{align}\n",
    "\\begin{bmatrix}\n",
    "1 & 2 & 2 & 2\\\\\n",
    "0 & 1 & 0 & 0\\\\\n",
    "2 & 0 & 0 & 4\n",
    "\\end{bmatrix} \n",
    "\\times\n",
    "\\begin{bmatrix}\n",
    "1 \\\\\n",
    "3 \\\\\n",
    "1 \\\\\n",
    "4 \n",
    "\\end{bmatrix} \n",
    "=\n",
    "\\begin{bmatrix}\n",
    "17 \\\\\n",
    "3 \\\\\n",
    "18\n",
    "\\end{bmatrix} \n",
    "\\end{align}\n"
   ]
  },
  {
   "cell_type": "code",
   "execution_count": 1,
   "id": "e657f089-cc0a-4daa-ac8f-13df86f12aad",
   "metadata": {},
   "outputs": [
    {
     "name": "stderr",
     "output_type": "stream",
     "text": [
      "C:\\Python37\\lib\\site-packages\\numpy\\_distributor_init.py:32: UserWarning: loaded more than 1 DLL from .libs:\n",
      "C:\\Python37\\lib\\site-packages\\numpy\\.libs\\libopenblas.2V74HQ3MKNZHDCKJELIPPY7V6QMK3UOZ.gfortran-win32.dll\n",
      "C:\\Python37\\lib\\site-packages\\numpy\\.libs\\libopenblas.VTYUM5MXKVFE4PZZER3L7PNO6YB4XFF3.gfortran-win32.dll\n",
      "  stacklevel=1)\n"
     ]
    },
    {
     "data": {
      "text/plain": [
       "array([17,  3, 18])"
      ]
     },
     "execution_count": 1,
     "metadata": {},
     "output_type": "execute_result"
    }
   ],
   "source": [
    "import numpy as np\n",
    "\n",
    "A  = np.array([\n",
    "    [1, 2, 2, 2],\n",
    "    [0, 1, 0, 0],\n",
    "    [2, 0, 0, 4]\n",
    "])\n",
    "\n",
    "c = np.array([1, 3, 1, 4])\n",
    "\n",
    "result = A.dot(c)\n",
    "result"
   ]
  },
  {
   "cell_type": "markdown",
   "id": "f83239c0-2008-4044-9453-37e5c40d9142",
   "metadata": {},
   "source": [
    "Atlikite tą patį su kitu antrosios matricos stulpeliu.\n",
    "\\begin{align}\n",
    "\\begin{bmatrix}\n",
    "1 & 2 & 2 & 2\\\\\n",
    "0 & 1 & 0 & 0\\\\\n",
    "2 & 0 & 0 & 4\n",
    "\\end{bmatrix} \n",
    "\\times\n",
    "\\begin{bmatrix}\n",
    "2 \\\\\n",
    "0 \\\\\n",
    "1 \\\\\n",
    "2 \n",
    "\\end{bmatrix} \n",
    "=\n",
    "\\begin{bmatrix}\n",
    "8 \\\\\n",
    "0 \\\\\n",
    "12\n",
    "\\end{bmatrix} \n",
    "\\end{align}\n",
    "\n",
    "Ir abu rezultatus tiesiog sudėti.\n",
    "\n",
    "\\begin{align}\n",
    "\\begin{bmatrix}\n",
    "1 & 2 & 2 & 2\\\\\n",
    "0 & 1 & 0 & 0\\\\\n",
    "2 & 0 & 0 & 4\n",
    "\\end{bmatrix} \n",
    "\\times\n",
    "\\begin{bmatrix}\n",
    "1 & 2 \\\\\n",
    "3 & 0 \\\\\n",
    "1 & 1 \\\\\n",
    "4 & 2\n",
    "\\end{bmatrix} \n",
    "=\n",
    "\\begin{bmatrix}\n",
    "17 & 8 \\\\\n",
    "3 & 0 \\\\\n",
    "18 & 12\n",
    "\\end{bmatrix} \n",
    "\\end{align}\n"
   ]
  },
  {
   "cell_type": "markdown",
   "id": "fd1fb69a-f3a1-4408-997f-05ff926dd78c",
   "metadata": {},
   "source": [
    "Tai yra mechanika, kaip padauginti matricą iš kitos matricos. Bet jūs iš tikrųjų galite tai padaryti vienu kartu."
   ]
  },
  {
   "cell_type": "code",
   "execution_count": 2,
   "id": "7a993c0a-6cf0-40ad-97ac-4298525d9ecc",
   "metadata": {},
   "outputs": [
    {
     "data": {
      "text/plain": [
       "array([[17,  8],\n",
       "       [ 3,  0],\n",
       "       [18, 12]])"
      ]
     },
     "execution_count": 2,
     "metadata": {},
     "output_type": "execute_result"
    }
   ],
   "source": [
    "A  = np.array([\n",
    "    [1, 2, 2, 2],\n",
    "    [0, 1, 0, 0],\n",
    "    [2, 0, 0, 4]\n",
    "])\n",
    "B = np.array([\n",
    "    [1, 2],\n",
    "    [3, 0],\n",
    "    [1, 1],\n",
    "    [4, 2]\n",
    "])\n",
    "result = A.dot(B)\n",
    "result"
   ]
  },
  {
   "attachments": {
    "m_m_multiplication_details_black.jpg": {
     "image/jpeg": "[encoded data removed]"
    }
   },
   "cell_type": "markdown",
   "id": "2993dd5c-c733-413e-a8c1-9377e475ba73",
   "metadata": {},
   "source": [
    "<code>**Pastaba: atminkite, kad matricų matmenys turi atitikti**</code>\n",
    "Šiuo atveju turėjome matricą su <code>**3x4 ir 4x2**</code>, kuri duos teisėtą rezultatą, kuris yra <code>**3x2**</code> matrica.\n",
    "\n",
    "\\begin{align}\n",
    "\\text{The} \\ i^{th}, \\text{column of the matrix C is obtained by multiplying A with the} \\ i^{th} \\text{column of B} \\ \\text{for i=1,2,...,o}\n",
    "\\end{align}\n",
    "\n",
    "![m_m_multiplication_details_black.jpg](attachment:m_m_multiplication_details_black.jpg)"
   ]
  },
  {
   "cell_type": "markdown",
   "id": "d2d745cd-f254-4014-b14c-d022d1282b09",
   "metadata": {},
   "source": [
    "<div class=\"alert alert-block alert-success\">\n",
    "<h2>Pratimas</h2>\n",
    "\n",
    "Kokią reikšmę turi a ir c?\n",
    "\n",
    "\\begin{align}\n",
    "\\begin{bmatrix}\n",
    "1 & 2 \\\\\n",
    "2 & 1 \\\\\n",
    "5 & 0 \n",
    "\\end{bmatrix} \n",
    "\\times\n",
    "\\begin{bmatrix}\n",
    "2 & 2\\\\\n",
    "0 & 2\n",
    "\\end{bmatrix} \n",
    "=\n",
    "\\begin{bmatrix}\n",
    "2 & 6 \\\\\n",
    "a & b \\\\\n",
    "c & 10\n",
    "\\end{bmatrix} \n",
    "\\end{align}\n",
    "\n",
    "</div>"
   ]
  },
  {
   "cell_type": "markdown",
   "id": "9d37ec84-716a-4c83-90e3-0d4100545ab3",
   "metadata": {},
   "source": [
    "<code>**savybės**</code>:\n",
    "<code>50</code>\n",
    "<code>77</code>\n",
    "<code>52</code>\n",
    "<code>218</code>\n",
    "\n",
    "<code>**Keletas konkuruojančių hipotezių**</code>:\n",
    "\n",
    "\\begin{multline*}\n",
    "h_{\\theta}(x) = -0.1 + 5.25x\n",
    "\\end{multline*}\n",
    "\\begin{multline*}\n",
    "h_{\\theta}(x) = 55 + 1.1x\n",
    "\\end{multline*}\n",
    "\\begin{multline*}\n",
    "h_{\\theta}(x) = -20 + 1.4x\n",
    "\\end{multline*}\n",
    "\n",
    "Mes galime pritaikyti visas tris galimas hipotezes visoms savybėms ir tai galime padaryti labai efektyviai naudodami matricos - matricos dauginimą ir gauti tris prognozes.\n",
    "\n",
    "\\begin{align}\n",
    "\\begin{bmatrix}\n",
    "1 & 50 \\\\\n",
    "1 & 77 \\\\\n",
    "1 & 52 \\\\\n",
    "1 & 218\n",
    "\\end{bmatrix}\n",
    "\\times\n",
    "\\begin{bmatrix}\n",
    "-0.1 & 55  & -20\\\\\n",
    "5.25 & 1.1 & 1.4\n",
    "\\end{bmatrix}\n",
    "=\n",
    "\\begin{bmatrix}\n",
    "262.4 & 110 & 50   \\\\\n",
    "404.15 & 139.7 & 87.8 \\\\\n",
    "272.9 & 112.2 & 52.8 \\\\\n",
    "1144.4 & 294.8 & 285.2 \n",
    "\\end{bmatrix}\n",
    "\\end{align}"
   ]
  },
  {
   "cell_type": "markdown",
   "id": "079986f9-c2ac-4edb-842d-3d6c3ad8be10",
   "metadata": {},
   "source": [
    "### Praktinis taikymo pavyzdys\n",
    "\n",
    "Vadinu <code>**Vieno Šūvio**</code> metodu.\n",
    "Tai labai efektyvus ir supaprastintas būdas spręsti mašininio mokymosi problemas. Mes plačiau papasakosime apie šį metodą <code>**vektorizavimo**</code> temomis.\n",
    "Pažvelkime į puikų matematinį triuką. Turime kai kurių namų dydžių pavyzdžius ir hipotezę, kuri numato būsto kainą. Ir mes norime apskaičiuoti h(x) kiekvienam namui. Tai galime padaryti efektyviai skaičiavimo būdu, naudodami <code>**matricos vektorių dauginimą**</code>\n",
    "\n",
    "<code>**dydžiai**</code>:\n",
    "<code>50</code>\n",
    "<code>77</code>\n",
    "<code>52</code>\n",
    "<code>218</code>\n",
    "\n",
    "\n",
    "$$ h_{\\theta}(x) = -0.1 + 5x$$\n",
    "\n",
    "Leidžiame sudaryti mūsų duomenų imčių matricą ir hipotezės parametrų (koeficientų) vektorių ir padauginti juos kartu.\n",
    "\n",
    "\\begin{equation*}\n",
    "\\begin{bmatrix}\n",
    "-0.1 \\\\\n",
    "5\n",
    "\\end{bmatrix}^{\\top}\n",
    "\\times\n",
    "\\begin{bmatrix}\n",
    "1 & 50 \\\\\n",
    "1 & 77 \\\\\n",
    "1 & 52 \\\\\n",
    "1 & 218\n",
    "\\end{bmatrix}\n",
    "\\end{equation*}\n",
    "\n",
    "Diegdami tai programinėje įrangoje naudojame kai kuriuos duomenų pavyzdžius ir norime panaudoti savo hipotezę kainoms prognozuoti. <code>**Visų šių duomenų pavyzdžių įrašų y reikšmė.**</code> Tai galime padaryti vos per kelias kodo eilutes, mums tereikia tinkamos bibliotekos, kad galėtume atlikti tiesinės algebros operacijas, pvz., matricos dauginimą. Kaip alternatyvą galime tai padaryti naudodami kilpas ir kitus darbus, kurie gali būti gana sudėtingi. Naudojant linijinę algebrą įvairiose programavimo kalbose, tai leidžia ne tik paprasčiausiai koduoti, bet ir dėl subtilių priežasčių skaičiavimo požiūriu daug efektyviau prognozuoti visus duomenų pavyzdžius.\n"
   ]
  },
  {
   "cell_type": "markdown",
   "id": "8143bdb0-e238-4638-984c-748e3c679235",
   "metadata": {},
   "source": [
    "<code>**Hypothesis**</code>:\n",
    "\\begin{multline*}\n",
    "h_{\\theta}(x) = \\theta^\\top x =  \\theta_{0}x_{0} + \\theta_{1}x_{1} \n",
    "\\end{multline*}"
   ]
  },
  {
   "cell_type": "code",
   "execution_count": 3,
   "id": "c9df5099-c66b-4ce6-bf3d-9261cdd4533e",
   "metadata": {},
   "outputs": [
    {
     "name": "stdout",
     "output_type": "stream",
     "text": [
      "X matrix properties\n",
      "<class 'numpy.ndarray'>\n",
      "2\n",
      "(4, 1)\n",
      "θ vector properties\n",
      "<class 'numpy.ndarray'>\n",
      "2\n",
      "(2, 1)\n"
     ]
    }
   ],
   "source": [
    "import numpy as np\n",
    "\n",
    "X = np.array([\n",
    "    [50],\n",
    "    [77],\n",
    "    [52],\n",
    "    [218]\n",
    "])\n",
    "\n",
    "## SUPER IMPORTANT TO EXECUTE .reshape() method to form a vector\n",
    "θ = np.array([-0.1, 5]).reshape(-1,1)\n",
    "\n",
    "##############\n",
    "print(\"X matrix properties\")\n",
    "print(type(X))\n",
    "print(X.ndim)\n",
    "print(X.shape)\n",
    "##############\n",
    "print(\"θ vector properties\")\n",
    "print(type(θ))\n",
    "print(θ.ndim)\n",
    "print(θ.shape)"
   ]
  },
  {
   "cell_type": "code",
   "execution_count": 4,
   "id": "8d2393b1-32cf-47c4-943a-bd758ca514b8",
   "metadata": {},
   "outputs": [],
   "source": [
    "X = np.insert(X, 0, 1, axis=1)"
   ]
  },
  {
   "cell_type": "code",
   "execution_count": 6,
   "id": "4e7b9e65-a453-4d1d-869b-8f7394655e38",
   "metadata": {},
   "outputs": [
    {
     "data": {
      "text/plain": [
       "((4, 2), (2, 1))"
      ]
     },
     "execution_count": 6,
     "metadata": {},
     "output_type": "execute_result"
    }
   ],
   "source": [
    "X.shape, θ.shape"
   ]
  },
  {
   "cell_type": "markdown",
   "id": "1e1e4a54-fbcd-40e9-940d-b3d3aca4cfb9",
   "metadata": {},
   "source": [
    "Tiesinėje algebroje tai matricos \"dot product\" (ang.) kuomet darome matricos ir vektoriaus sandauga arba matricso ir kitos matricos sandauga"
   ]
  },
  {
   "cell_type": "code",
   "execution_count": 7,
   "id": "8d3fd8d3-f832-4c90-8696-961b0d33e307",
   "metadata": {},
   "outputs": [
    {
     "data": {
      "text/plain": [
       "array([[ 249.9],\n",
       "       [ 384.9],\n",
       "       [ 259.9],\n",
       "       [1089.9]])"
      ]
     },
     "execution_count": 7,
     "metadata": {},
     "output_type": "execute_result"
    }
   ],
   "source": [
    "## in math it's called dot product of matrix and vector or another matrix\n",
    "\n",
    "y = X.dot(θ)\n",
    "y"
   ]
  },
  {
   "cell_type": "markdown",
   "id": "6a77e07d-b3b4-45c6-b76d-af774020a38c",
   "metadata": {},
   "source": [
    "## Matricos daugybos savybės\n",
    "\n",
    "Matricos daugyba yra labai naudinga, nes galime sutalpinti daug skaičiavimo į vieną duomenų struktūros operaciją. Yra keletas šios operacijos savybių, kurias turėtume žinoti ir būti atidūs, kai naudojate šį metodą.\n",
    "\n",
    "### Komutacinė savybė \n",
    "\n",
    "<code>**Matricos daugyba NĖRA komutacinė**</code><br>\n",
    "Dirbant su realiaisiais skaičiais , skaliarais, daugyba yra komutacinė ir tvarka nesvarbu.\n",
    "\n",
    "\\begin{multline*}\n",
    "3 \\times 2 = 2 \\times 3\n",
    "\\end{multline*}\n",
    "\n",
    "<code>**Tačiau tai netinka matricos daugybai**</code><br>\n",
    "Tegu A ir B yra matricos\n",
    "\n",
    "\\begin{multline*}\n",
    "A \\times B \\neq B \\times A\n",
    "\\end{multline*}\n",
    "\n",
    "Netinka savavališkai pakeisti matricų dauginimo tvarką.<br>\n",
    "Jei sukeisime tvarką tarp šių dviejų matricų, gausime skirtingus sprendimus.\n",
    "\n",
    "\\begin{multline*}\n",
    "\\begin{bmatrix}\n",
    "1 & 1 \\\\\n",
    "0 & 0\n",
    "\\end{bmatrix}\n",
    "\\times\n",
    "\\begin{bmatrix}\n",
    "0 & 0 \\\\\n",
    "2 & 0\n",
    "\\end{bmatrix}\n",
    "=\n",
    "\\begin{bmatrix}\n",
    "2 & 0 \\\\\n",
    "0 & 0\n",
    "\\end{bmatrix}\n",
    "\\end{multline*}\n",
    "\n",
    "\n",
    "\\begin{multline*}\n",
    "\\begin{bmatrix}\n",
    "0 & 0 \\\\\n",
    "2 & 0\n",
    "\\end{bmatrix}\n",
    "\\times\n",
    "\\begin{bmatrix}\n",
    "1 & 1 \\\\\n",
    "0 & 0\n",
    "\\end{bmatrix}\n",
    "=\n",
    "\\begin{bmatrix}\n",
    "0 & 0 \\\\\n",
    "2 & 2\n",
    "\\end{bmatrix}\n",
    "\\end{multline*}\n",
    "\n",
    "Apskritai matricos daugybos tvarkos pakeitimas gali netgi pakeisti rezultato matmenis.\n",
    "Jei <code>**A x B**</code> yra <code>**mxn ir nxm**</code>, tada <code>**A x B**</code> bus <code>**mxm**</code> matmenų struktūros matrica ir <code>**B x A**</code> bus <code>**nxn**</code> matmenų struktūra."
   ]
  },
  {
   "cell_type": "markdown",
   "id": "d61e9cb8-ae72-422e-9435-35e13401d91b",
   "metadata": {},
   "source": [
    "### Asociatyvi savybė\n",
    "\n",
    "Nagrinėdami skaliarus (realius skaičius), turime asociatyvines savybes pf realiųjų skaičių daugyba.\n",
    "\n",
    "\\begin{multline*}\n",
    "3 \\times 2 \\times 2 = (3 \\times 2) \\times 2 = 3 \\times (2 \\times 2) = 12\n",
    "\\end{multline*}\n",
    "\n",
    "<code>**Matricų sandauga yra asociatyvi**</code><br>\n",
    "\\begin{multline*}\n",
    "A \\times B \\times C = A \\times (B \\times C) = (A \\times B) \\times C\n",
    "\\end{multline*}\n",
    "\n",
    "\\begin{multline*}\n",
    "D = B \\times C, A \\times D\n",
    "\\end{multline*}\n",
    "\n",
    "\n",
    "\\begin{multline*}\n",
    "E = A \\times B, E \\times C\n",
    "\\end{multline*}\n",
    "\n",
    "Abi šios parinktys suteiks mums tą patį sprendimą."
   ]
  },
  {
   "cell_type": "markdown",
   "id": "8034639b-eb52-4480-bb93-e956ee44d09f",
   "metadata": {},
   "source": [
    "## Tapatybės matrica"
   ]
  },
  {
   "cell_type": "markdown",
   "id": "88f5ffd1-5416-40f7-b0c1-926e196d288d",
   "metadata": {},
   "source": [
    "Kalbėdami apie skaliarus, galime manyti, kad tai yra daugybos tapatybė.\n",
    "Tarkime, kad bet kurį realųjį skaičių (a) padauginame iš 1.\n",
    "\n",
    "\\begin{multline*}\n",
    "1 \\times a = a \\times 1 = a\n",
    "\\end{multline*}\n",
    "\n",
    "Tai tapatybės operacija ir ji turi atitikti šią lygtį.\n",
    "Tiesinėje algebroje, susijusioje su matricomis, yra <code>**tapatybės matrica**</code>, pažymėta <code>**aš**</code> ir tai reiškia <code>**kvadratinę matricą**</code> jo matmenys yra <code>**nxn**</code>."
   ]
  },
  {
   "cell_type": "code",
   "execution_count": 8,
   "id": "ef293cfb-3976-4d23-a8cd-6bf4a6fe96f3",
   "metadata": {},
   "outputs": [
    {
     "data": {
      "text/plain": [
       "array([[1., 0., 0., 0., 0., 0., 0., 0.],\n",
       "       [0., 1., 0., 0., 0., 0., 0., 0.],\n",
       "       [0., 0., 1., 0., 0., 0., 0., 0.],\n",
       "       [0., 0., 0., 1., 0., 0., 0., 0.],\n",
       "       [0., 0., 0., 0., 1., 0., 0., 0.],\n",
       "       [0., 0., 0., 0., 0., 1., 0., 0.],\n",
       "       [0., 0., 0., 0., 0., 0., 1., 0.],\n",
       "       [0., 0., 0., 0., 0., 0., 0., 1.]])"
      ]
     },
     "execution_count": 8,
     "metadata": {},
     "output_type": "execute_result"
    }
   ],
   "source": [
    "import numpy as np\n",
    "\n",
    "A = np.eye(8)\n",
    "A"
   ]
  },
  {
   "cell_type": "markdown",
   "id": "44f5b71f-9cbb-49ea-8575-06a9549ac149",
   "metadata": {},
   "source": [
    "Jis turi savybę, kad jis turi <code>**1 išilgai įstrižainių (lt. istrižainės) ir 0 visur kitur**</code>.\n",
    "\n",
    "Bet kuriai matricai A\n",
    "\n",
    "\\begin{multline*}\n",
    "A \\times I = I \\times A = A\n",
    "\\end{multline*}"
   ]
  },
  {
   "cell_type": "markdown",
   "id": "9ea59e27-49c8-452d-bf99-d8dc6d9457e9",
   "metadata": {},
   "source": [
    "## Inversija ir transpozicija\n",
    "\n",
    "Kaip atvirkštinis ryšys su realiais skaičiais. Atminkite, kad 1 skaičius realiųjų skaičių erdvėje atlieka <code>**tapatybės**</code> vaidmenį, nes akivaizdu, kad padauginimas iš bet ko yra lygus jam pačiam. Ir yra savybė, kad kiekvienas realusis skaičius turi <code>**atvirkštinį**</code>, pavyzdžiui, 3·(3ⁿ) = 1 , kur n=-1. (3ⁿ) kur n=-1 yra toks pat kaip 1/3. Tai gali būti bet koks tikrasis skaičius, produktas visada bus tapatybė.<br>\n",
    "<code>**Tačiau tikrojo skaičiaus erdvėje ne viskas turi atvirkštinę reikšmę**</code>, pvz., 0, jo atvirkštinė vertė 1/0 būtų neapibrėžta.\n",
    "Taigi, kaip tai taikoma matricai ir kaip kompiuteriu apversti matricą. Idėja tokia:\n",
    "\n",
    "\n",
    "\\begin{multline*}\n",
    "AA^{-1}= A^{-1}A = I\n",
    "\\end{multline*}\n",
    "\n",
    "Jei A yra <code>**mxm matrica, kitaip vadinama kvadratine matrica**</code> ir jei ji turi atvirkštinę, tada jos sandauga yra lygi tapatybės matricai.\n"
   ]
  },
  {
   "cell_type": "markdown",
   "id": "ba380452-4d48-4cd7-8386-9ae5dabf5906",
   "metadata": {},
   "source": [
    "\\begin{multline*}\n",
    "\\begin{bmatrix}\n",
    "3 & 4 \\\\\n",
    "2 & 16\n",
    "\\end{bmatrix}^{-1}\n",
    " = \n",
    "\\dfrac{1}{3 \\times 16 - 4 \\times 2 }\n",
    "\\times\n",
    "\\begin{bmatrix}\n",
    "16 & -4 \\\\\n",
    "-2 & 3\n",
    "\\end{bmatrix}  \n",
    "= 0.025 \\times\n",
    "\\begin{bmatrix}\n",
    "16 & -4 \\\\\n",
    "-2 & 3\n",
    "\\end{bmatrix}  \n",
    "=\n",
    "\\begin{bmatrix}\n",
    "0.4 & -0.1 \\\\\n",
    "-0.05 & 0.075\n",
    "\\end{bmatrix}  \n",
    "\\end{multline*}\n",
    "\n",
    "Tačiau šiais laikais retai kas tai daro rankomis, dauguma programinės įrangos programavimo kalbų linijinės algebros bibliotekos turi įmontuotus įrankius šiai operacijai atlikti."
   ]
  },
  {
   "cell_type": "code",
   "execution_count": 9,
   "id": "400cfd2e-59cf-4d53-8006-b75d8ed12389",
   "metadata": {},
   "outputs": [
    {
     "data": {
      "text/plain": [
       "array([[ 3,  4],\n",
       "       [ 2, 16]])"
      ]
     },
     "execution_count": 9,
     "metadata": {},
     "output_type": "execute_result"
    }
   ],
   "source": [
    "import numpy as np\n",
    "\n",
    "A  = np.array([\n",
    "    [3, 4 ],\n",
    "    [2, 16]\n",
    "])\n",
    "A"
   ]
  },
  {
   "cell_type": "code",
   "execution_count": 10,
   "id": "bdd5be1d-07e8-4634-8b05-a253e50ae380",
   "metadata": {},
   "outputs": [
    {
     "data": {
      "text/plain": [
       "array([[ 0.4  , -0.1  ],\n",
       "       [-0.05 ,  0.075]])"
      ]
     },
     "execution_count": 10,
     "metadata": {},
     "output_type": "execute_result"
    }
   ],
   "source": [
    "B = np.linalg.inv(A)\n",
    "B"
   ]
  },
  {
   "cell_type": "code",
   "execution_count": 11,
   "id": "b7acdb6f-be41-457f-9275-48c31712aa2a",
   "metadata": {},
   "outputs": [
    {
     "data": {
      "text/plain": [
       "numpy.ndarray"
      ]
     },
     "execution_count": 11,
     "metadata": {},
     "output_type": "execute_result"
    }
   ],
   "source": [
    "type(A)\n"
   ]
  },
  {
   "cell_type": "code",
   "execution_count": 12,
   "id": "0aaab364-ae45-4d64-b1de-8307f15b37dc",
   "metadata": {},
   "outputs": [
    {
     "data": {
      "text/plain": [
       "array([[1., 0.],\n",
       "       [0., 1.]])"
      ]
     },
     "execution_count": 12,
     "metadata": {},
     "output_type": "execute_result"
    }
   ],
   "source": [
    "I = A.dot(B)\n",
    "I"
   ]
  },
  {
   "cell_type": "code",
   "execution_count": 13,
   "id": "f3aec108-9a87-45d8-a0b9-c7f62d6eca2e",
   "metadata": {},
   "outputs": [
    {
     "data": {
      "text/plain": [
       "1.0"
      ]
     },
     "execution_count": 13,
     "metadata": {},
     "output_type": "execute_result"
    }
   ],
   "source": [
    "det = np.linalg.det(I)\n",
    "det"
   ]
  },
  {
   "cell_type": "markdown",
   "id": "5fb046b2-34c1-4c75-9f2e-35e3865237a6",
   "metadata": {},
   "source": [
    "<code>**Matricos, kurios neturi atvirkštinės reikšmės, yra „vienaskaitos“ arba „išsigimusios“**</code><br>\n",
    "\n",
    "Kita speciali matricos operacija, kurią atliksime, yra <code>**transponuoti**</code>\n",
    "\n",
    "\\begin{multline*}\n",
    "A = \n",
    "\\begin{bmatrix}\n",
    "1 & 2 & 0 \\\\\n",
    "3 & 5 & 9\n",
    "\\end{bmatrix}, \\\n",
    "B =  A^{\\top} =\n",
    "\\begin{bmatrix}\n",
    "1 & 3 \\\\\n",
    "2 & 5 \\\\\n",
    "0 & 9\n",
    "\\end{bmatrix}\n",
    "\\end{multline*}\n",
    "\n",
    "<code>**Tiesiog konvertuokite eilutes į stulpelius**</code> Kitas būdas galvoti apie perkėlimą yra pavaizduoti 45° ašį iš kairės į dešinę, kuri kerta matricą ir mes atspindime arba apverčiame išilgai tos ašies savo matricos vertes.\n",
    "\n",
    "\\begin{multline*}\n",
    "\\text{Let A be an matrix m} \\times \\text{n and let B} = A^{\\top}. \n",
    "\\text{Then B is an n} \\times \\text{m matrix and} \\ B_{ij} = A_{ji}\n",
    "\\end{multline*}\n",
    "\n",
    "\\begin{multline*}\n",
    "B_{12} = A_{21} = 3\n",
    "\\end{multline*}"
   ]
  },
  {
   "cell_type": "code",
   "execution_count": 14,
   "id": "64b8e393-b11e-433e-8972-4bc471d66c8c",
   "metadata": {},
   "outputs": [
    {
     "data": {
      "text/plain": [
       "array([[1, 2, 0],\n",
       "       [3, 5, 9]])"
      ]
     },
     "execution_count": 14,
     "metadata": {},
     "output_type": "execute_result"
    }
   ],
   "source": [
    "A  = np.array([\n",
    "    [1, 2, 0],\n",
    "    [3, 5, 9]\n",
    "])\n",
    "\n",
    "A"
   ]
  },
  {
   "cell_type": "code",
   "execution_count": 15,
   "id": "be840035-226e-43b4-a06c-2d3e48ec52dc",
   "metadata": {},
   "outputs": [
    {
     "data": {
      "text/plain": [
       "array([[1, 3],\n",
       "       [2, 5],\n",
       "       [0, 9]])"
      ]
     },
     "execution_count": 15,
     "metadata": {},
     "output_type": "execute_result"
    }
   ],
   "source": [
    "B = A.T\n",
    "B"
   ]
  },
  {
   "cell_type": "code",
   "execution_count": 16,
   "id": "1c87e03f-757d-49b0-81dc-7834cb67c673",
   "metadata": {},
   "outputs": [
    {
     "data": {
      "text/plain": [
       "array([[1, 3],\n",
       "       [2, 5],\n",
       "       [0, 9]])"
      ]
     },
     "execution_count": 16,
     "metadata": {},
     "output_type": "execute_result"
    }
   ],
   "source": [
    "B = np.transpose(A)\n",
    "B"
   ]
  },
  {
   "cell_type": "markdown",
   "id": "25818dc5-7e0c-49e6-9680-24958af5545c",
   "metadata": {},
   "source": [
    "## Tenzoriai\n",
    "\n",
    "<code>**Scalar (rank-0 tensor)**</code>\n",
    "\n",
    "\\begin{multline*}\n",
    "\\mathbf{x} \\in \\mathbb{R}\n",
    "\\end{multline*}\n",
    "\n",
    "<code>**Vector (column) (rank-1 tensor)**</code>\n",
    "\n",
    "\\begin{multline*}\n",
    "\\mathbf{x} \\in \\mathbb{R}^{n \\times 1}\n",
    "\\end{multline*}\n",
    "\n",
    "<code>**Vector (row) (rank-1 tensor)**</code>\n",
    "\n",
    "\\begin{multline*}\n",
    "\\mathbf{x}^{\\top} \\in \\mathbb{R}^{1 \\times n}\n",
    "\\end{multline*}\n",
    "\n",
    "<code>**Matrix (rank-2 tensor)**</code>\n",
    "\n",
    "\\begin{multline*}\n",
    "\\mathbf{X} \\in \\mathbb{R}^{m \\times n}\n",
    "\\end{multline*}\n",
    "\n",
    "<code>**Tensor (rank-3 tensor)**</code>\n",
    "\n",
    "\\begin{multline*}\n",
    "\\mathbf{X} \\in \\mathbb{R}^{m \\times n \\times p}\n",
    "\\end{multline*}"
   ]
  },
  {
   "cell_type": "code",
   "execution_count": null,
   "id": "fe67b85d-51e8-4ea1-921d-85294f739f6c",
   "metadata": {},
   "outputs": [],
   "source": []
  },
  {
   "attachments": {
    "tensors_structure.jpg": {
     "image/jpeg": "[encoded data removed]"
    }
   },
   "cell_type": "markdown",
   "id": "c29368fe",
   "metadata": {},
   "source": [
    "![tensors_structure.jpg](attachment:tensors_structure.jpg)"
   ]
  },
  {
   "cell_type": "markdown",
   "id": "636344c2-6d21-4427-a695-5464a6d9c3d6",
   "metadata": {},
   "source": [
    "Dažnai naudosime 𝐗 kaip specialų susitarimą, nurodydami <code>**dizaino matricą**</code>. Tai matrica, kurioje yra mokymo pavyzdžiai ir funkcijos (įvestys) ir struktūra <code>**𝐗∈ℝ 𝑛×𝑚**</code>, nes dažnai naudojamas <code>**𝑛**</code> atkreipti dėmesį į pavyzdžių skaičių literatūroje daugelyje disciplinų."
   ]
  },
  {
   "cell_type": "code",
   "execution_count": null,
   "id": "5dc96877-d542-49e8-b4c4-c93526278fa9",
   "metadata": {},
   "outputs": [],
   "source": []
  },
  {
   "cell_type": "code",
   "execution_count": null,
   "id": "8c3f7d70-01a3-494e-85b2-41514043ebea",
   "metadata": {},
   "outputs": [],
   "source": []
  },
  {
   "cell_type": "code",
   "execution_count": null,
   "id": "c87ea376-53d4-4d86-9ea5-6e90bd8770de",
   "metadata": {},
   "outputs": [],
   "source": []
  },
  {
   "cell_type": "code",
   "execution_count": null,
   "id": "4770c9ef-d11a-4e00-99bb-f7b66d39fce4",
   "metadata": {},
   "outputs": [],
   "source": []
  },
  {
   "cell_type": "code",
   "execution_count": null,
   "id": "22ef900f-635b-42c3-b1f3-d1e70d013e98",
   "metadata": {},
   "outputs": [],
   "source": []
  },
  {
   "cell_type": "code",
   "execution_count": null,
   "id": "1a737c5f-91b0-4a60-9003-2572d10122b6",
   "metadata": {},
   "outputs": [],
   "source": []
  },
  {
   "cell_type": "code",
   "execution_count": null,
   "id": "6921e768-e239-4c2d-99d4-2fc28399c013",
   "metadata": {},
   "outputs": [],
   "source": []
  },
  {
   "cell_type": "code",
   "execution_count": null,
   "id": "8a911b50-5cf4-4800-bba4-1ddf44c82c75",
   "metadata": {},
   "outputs": [],
   "source": []
  },
  {
   "cell_type": "code",
   "execution_count": null,
   "id": "127553c5-9d33-416b-95fe-f7b12b74f643",
   "metadata": {},
   "outputs": [],
   "source": []
  },
  {
   "cell_type": "code",
   "execution_count": null,
   "id": "a2fd5f8e-f70a-40b2-b482-6d5767018d55",
   "metadata": {},
   "outputs": [],
   "source": []
  },
  {
   "cell_type": "code",
   "execution_count": null,
   "id": "11f1da25-865f-4e30-996c-bb48d41b617f",
   "metadata": {},
   "outputs": [],
   "source": []
  }
 ],
 "metadata": {
  "kernelspec": {
   "display_name": "Python 3",
   "language": "python",
   "name": "python3"
  },
  "language_info": {
   "codemirror_mode": {
    "name": "ipython",
    "version": 3
   },
   "file_extension": ".py",
   "mimetype": "text/x-python",
   "name": "python",
   "nbconvert_exporter": "python",
   "pygments_lexer": "ipython3",
   "version": "3.7.4"
  }
 },
 "nbformat": 4,
 "nbformat_minor": 5
}
