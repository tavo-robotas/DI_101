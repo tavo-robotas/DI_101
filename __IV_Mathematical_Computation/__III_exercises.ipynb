{
 "cells": [
  {
   "cell_type": "markdown",
   "id": "665c6a23",
   "metadata": {},
   "source": [
    "# Pratybos"
   ]
  },
  {
   "cell_type": "markdown",
   "id": "9d6cd83e",
   "metadata": {},
   "source": [
    "<code>**1-2  : Duomenys ir grafikai**</code><br>\n",
    "<code>**3-5  : Matrica ir vektorius**</code><br>\n",
    "<code>**6-7  : Išvestinės**</code><br>\n",
    "<code>**8-10 : Tiesinė regresija**</code><br>\n"
   ]
  },
  {
   "cell_type": "markdown",
   "id": "36ef2217",
   "metadata": {},
   "source": [
    "### Duomenys ir grafikai"
   ]
  },
  {
   "cell_type": "markdown",
   "id": "178ba9cb",
   "metadata": {},
   "source": [
    "## #1"
   ]
  },
  {
   "cell_type": "code",
   "execution_count": null,
   "id": "d58b93be-8c55-4682-b318-e0202c8f6006",
   "metadata": {},
   "outputs": [],
   "source": [
    "# Šią eilute įvykdyti yra butina nes taip importuojate\n",
    "# pyplot modulį iš matplotlib bibliotekos ir pandas biblioteką\n",
    "# plt.style.use('seaborn'), šis stilius gali būti pakeistas jūsų pačių nuožiura\n",
    "\n",
    "from matplotlib import pyplot as plt\n",
    "import pandas as pd\n",
    "\n",
    "plt.style.use('seaborn')"
   ]
  },
  {
   "cell_type": "markdown",
   "id": "2516713c",
   "metadata": {},
   "source": [
    "Programuotojų alyginimai yra saugomi <code>**dev_salary.csv**</code> faile kuris yra \n",
    "<code>**DI_101/data_samples**</code> aplanke. Jūsų uždavinys yra \n",
    " 1) Įkelti šiuos duomenys (rekomenduoju naudotis `pd.read_csv()` metodu) ir iš jų išskirti dvi kategorijas:\n",
    "   - All devs\n",
    "   - Age\n",
    " 2) Atvaizduoti šiuos išskyrtus duomenys <code>**taškinės diagramos**</code> formoje. Diagromos x ašis turi būti programuotojų amžius (ang. age) ir y ašis visų programuotojų alyginimai (ang. all devs)."
   ]
  },
  {
   "cell_type": "code",
   "execution_count": null,
   "id": "dfbb7e1e",
   "metadata": {},
   "outputs": [],
   "source": [
    "#TODO: Uždavinio 1 sprendimas turi būti čia"
   ]
  },
  {
   "cell_type": "code",
   "execution_count": null,
   "id": "ca57e4fb-64be-4925-bfd4-4986d6d09934",
   "metadata": {},
   "outputs": [],
   "source": [
    "#TODO: 2 sprendimas turi būti čia"
   ]
  },
  {
   "cell_type": "markdown",
   "id": "de4a0908",
   "metadata": {},
   "source": [
    "## #2"
   ]
  },
  {
   "cell_type": "markdown",
   "id": "d3895083",
   "metadata": {},
   "source": [
    "Lietuvos darbuotojų vidutinis ir minimalus darbo užmokestis ir vidutinė socialinio draudimo senatvės pensija nuo 2016 II ketvirčio iki 2022 II ketvirčio yra išsaugoti .csv failę kuris yra saugomas <code>**DI_101/data_samples**</code> aplanke pavadinimu <code>**lt_sal_pen_prep.csv**</code> Duomenų kategorijos yra šios : \n",
    " - Neto atlyginimas - `neto`\n",
    " - Bruto atlyginimas - `bruto`\n",
    " - Minimali mėnesinė alga - `minimal`\n",
    " - Senatvės pensija - `pension`\n",
    " \n",
    " Jūsų uždavinys:\n",
    " 1) Įkelti šiuo duomenys naudojantis `pd.read_csv()` metodu, žinoma jeigu norite galite tai padaryti kitu metodu, tačiau rekomenduoju šį kaip patogiausią.\n",
    " 2) Atvaizduoti šiuos duomenys viename grafike, neto ir bruto alyginimus kaip vertikalią stulpelinę diagramą, o minimalią mėnėsinę alga ir senatvės pensija tame pačiame grafike kaip kreives. "
   ]
  },
  {
   "cell_type": "code",
   "execution_count": null,
   "id": "629050bd-4365-44a0-a200-8999f7a5ac8c",
   "metadata": {},
   "outputs": [],
   "source": [
    "#TODO: Uždavinio 1 sprendimas turi būti čia"
   ]
  },
  {
   "cell_type": "code",
   "execution_count": 148,
   "id": "e5fd1234-0f79-4908-b645-f17a617e2e08",
   "metadata": {},
   "outputs": [],
   "source": [
    "#TODO: 2 sprendimas ir grafikas turi būti čia"
   ]
  },
  {
   "cell_type": "markdown",
   "id": "394dbe4f",
   "metadata": {},
   "source": [
    "### Matrica ir vektorius"
   ]
  },
  {
   "cell_type": "markdown",
   "id": "87091170",
   "metadata": {},
   "source": [
    "## #3"
   ]
  },
  {
   "cell_type": "markdown",
   "id": "24488c7e-5e15-4a00-b62b-4e94c06dfbab",
   "metadata": {},
   "source": [
    "Aprašyti matricas kaip `np.array` duomenų struktūras ir alikti sandaugos operaciją"
   ]
  },
  {
   "cell_type": "markdown",
   "id": "c91d4fad",
   "metadata": {},
   "source": [
    "\\begin{align}\n",
    "\\begin{bmatrix}\n",
    "0.22 & 3.2 \\\\\n",
    "4.5 & 0.11 \\\\\n",
    "0.12 & 0.5 \\\\\n",
    "3.1 & 2.5\n",
    "\\end{bmatrix}\n",
    "\\times\n",
    "\\begin{bmatrix}\n",
    "0.5 & 2.1  & -2.5\\\\\n",
    "2.25 & -1.5 & 2.4\n",
    "\\end{bmatrix}\n",
    "\\end{align}"
   ]
  },
  {
   "cell_type": "code",
   "execution_count": null,
   "id": "d4033701",
   "metadata": {},
   "outputs": [],
   "source": [
    "# TODO: Jūsų operacijos turi būti čia"
   ]
  },
  {
   "cell_type": "markdown",
   "id": "079281f4",
   "metadata": {},
   "source": [
    "## #4"
   ]
  },
  {
   "cell_type": "markdown",
   "id": "f2eea646-a15c-455b-9754-364df541d075",
   "metadata": {},
   "source": [
    "Kokia operacija reikia atlikti su A matrica kad rezultatas būtų toks kaip parodyta žemiau ?"
   ]
  },
  {
   "cell_type": "markdown",
   "id": "9f9d44ea-b831-4497-9ac5-f5088a85bef7",
   "metadata": {},
   "source": [
    "\\begin{multline*}\n",
    "A = \n",
    "\\begin{bmatrix}\n",
    "7 & -4 & -3 \\\\\n",
    "2.5 & 9 & 1.2 \\\\\n",
    "\\end{bmatrix}\n",
    "\\\n",
    "\\rightarrow\n",
    "\\\n",
    "\\begin{bmatrix}\n",
    "7 & 2.5  \\\\\n",
    "-4 & 9 \\\\\n",
    "-3 & 1.2 \n",
    "\\end{bmatrix}\n",
    "\\end{multline*}"
   ]
  },
  {
   "cell_type": "code",
   "execution_count": 33,
   "id": "959babea",
   "metadata": {},
   "outputs": [],
   "source": [
    "# TODO: operacijos sprendimą parašykite čia"
   ]
  },
  {
   "cell_type": "markdown",
   "id": "25cf44f1",
   "metadata": {},
   "source": [
    "## #5"
   ]
  },
  {
   "cell_type": "markdown",
   "id": "5a2c9f7c-c74f-4380-b009-6834863065f3",
   "metadata": {},
   "source": [
    "Kokias operacija reikia atlikti su kvadratinę matrica D kad rezultatas būtų taip kaip parodyta žemiau ?"
   ]
  },
  {
   "cell_type": "markdown",
   "id": "fb459907-5012-4d97-85ea-4445cfe805d2",
   "metadata": {},
   "source": [
    "\\begin{multline*}\n",
    "D = \n",
    "\\begin{bmatrix}\n",
    "3 & 1.5 & 2 \\\\\n",
    "-1 & 1 & 0.5 \\\\\n",
    "-0.25 & 0.2 & 0.25 \\\\\n",
    "\\end{bmatrix}\n",
    "\\\n",
    "\\rightarrow\n",
    "\\\n",
    "\\begin{bmatrix}\n",
    "1 & 0 & 0 \\\\\n",
    "0 & 1 & 0 \\\\\n",
    "0 & 0 & 1 \\\\\n",
    "\\end{bmatrix}\n",
    "\\end{multline*}"
   ]
  },
  {
   "cell_type": "markdown",
   "id": "a0e0eae4-7290-4bb7-b993-d8cca6289c4a",
   "metadata": {},
   "source": [
    "<code>**Pastaba**</code> atliekant skaičiavimus su numpy jūsų rezultatų reikšmės matricoje gali pavirsti į pavyzdžiui tokias reikšmes: <code>**1.12757026e-17, -2.77555756e-17, 5.20417043e-18**</code>, dėl to nesijaudinkite tai yra labai maži skaičiai, tai indikuoja <code>**e-17, e-18 ir pan.**</code> esantis gali. Šiuos skaičius suapvalinus gautume 0."
   ]
  },
  {
   "cell_type": "code",
   "execution_count": null,
   "id": "d1a2b1bd",
   "metadata": {},
   "outputs": [],
   "source": [
    "# TODO: sprendimą rašykite čia"
   ]
  },
  {
   "cell_type": "markdown",
   "id": "cc40b1af-0058-49dd-b1d3-fc8a8400e3ea",
   "metadata": {},
   "source": [
    "## Išvestinės"
   ]
  },
  {
   "cell_type": "markdown",
   "id": "c302da15",
   "metadata": {},
   "source": [
    "## #6"
   ]
  },
  {
   "cell_type": "markdown",
   "id": "649dcc88",
   "metadata": {},
   "source": [
    "Kokia yra šios funkcijos išvestinė ? : <br>\n",
    "\\begin{multline*}\n",
    "f(x) = 2x^2\n",
    "\\end{multline*}"
   ]
  },
  {
   "cell_type": "code",
   "execution_count": null,
   "id": "31e6f31b-2554-428a-81cc-e2b99095190d",
   "metadata": {},
   "outputs": [
    {
     "data": {
      "image/png": "[encoded data removed]",
      "text/plain": [
       "<Figure size 720x432 with 1 Axes>"
      ]
     },
     "metadata": {},
     "output_type": "display_data"
    }
   ],
   "source": []
  },
  {
   "cell_type": "code",
   "execution_count": null,
   "id": "a935ef1b-4016-47c2-9465-13b5c2a6bb40",
   "metadata": {},
   "outputs": [],
   "source": [
    "#TODO:\n",
    "# jūsų atsakymas turi būti čia:"
   ]
  },
  {
   "cell_type": "markdown",
   "id": "1c393ddf-01a6-4645-9779-b3a82c98801d",
   "metadata": {},
   "source": [
    "## #7"
   ]
  },
  {
   "cell_type": "markdown",
   "id": "a991be4c-b7cb-4eb2-8b53-d2666bc8cb59",
   "metadata": {},
   "source": [
    "Kokia yra šios funkcijos išvestinė ? : <br>\n",
    "\n",
    "\\begin{multline*}\n",
    "f(x) = 2 + x^4\n",
    "\\end{multline*}"
   ]
  },
  {
   "cell_type": "code",
   "execution_count": null,
   "id": "963cca7b-69bc-4685-9119-9785133d3ca0",
   "metadata": {},
   "outputs": [
    {
     "data": {
      "image/png": "[encoded data removed]",
      "text/plain": [
       "<Figure size 720x432 with 1 Axes>"
      ]
     },
     "metadata": {},
     "output_type": "display_data"
    }
   ],
   "source": []
  },
  {
   "cell_type": "code",
   "execution_count": 54,
   "id": "970f1433",
   "metadata": {},
   "outputs": [],
   "source": [
    "#TODO:\n",
    "# jūsų atsakymas turi būti čia:"
   ]
  },
  {
   "cell_type": "markdown",
   "id": "27846b3d-c3fe-42d9-9f9e-ffa26092dc2b",
   "metadata": {},
   "source": [
    "## Tiesinė regresija"
   ]
  },
  {
   "cell_type": "markdown",
   "id": "58fb9ac2",
   "metadata": {},
   "source": [
    "## #8"
   ]
  },
  {
   "cell_type": "markdown",
   "id": "da6ed3f5",
   "metadata": {},
   "source": [
    "Mūsų modelis turi du koeficientus  θ0 ir  θ1:\n",
    "\n",
    "$$h_{\\theta}(x) = \\theta_{0} + \\theta_{1}x$$\n",
    "\n",
    "Kas šiame tiesiniame modelyje yra šie du koefcientai ?"
   ]
  },
  {
   "cell_type": "code",
   "execution_count": 60,
   "id": "c1889a9e-cf17-4e2b-9732-e64ee46dd66c",
   "metadata": {},
   "outputs": [],
   "source": [
    "#TODO\n",
    "# atsakymus rašote už lygybės ženklo, vienu žodžiu kabutėse \n",
    "# atsakymas gali būti anglų ir lietuvių kalbose (tik nenaudokite lieviškų raidžių!).\n",
    "𝜃0 = ''\n",
    "𝜃1 = ''"
   ]
  },
  {
   "cell_type": "markdown",
   "id": "92f0f5ef",
   "metadata": {},
   "source": [
    "## #9"
   ]
  },
  {
   "cell_type": "markdown",
   "id": "0f36d57a",
   "metadata": {},
   "source": [
    "Turime duomenų rinkinį ir ne ityn gerą modelį.\n",
    "\n",
    "$$h_{\\theta}(x) = 10 + 1x$$"
   ]
  },
  {
   "cell_type": "code",
   "execution_count": 62,
   "id": "2ea2a2a8-546d-4d5e-aa16-323f371032d6",
   "metadata": {},
   "outputs": [
    {
     "data": {
      "image/png": "[encoded data removed]",
      "text/plain": [
       "<Figure size 864x576 with 1 Axes>"
      ]
     },
     "metadata": {},
     "output_type": "display_data"
    }
   ],
   "source": [
    "%run ../scripts/_linear_regression_sample_c.py"
   ]
  },
  {
   "cell_type": "markdown",
   "id": "4bcbed63-8e68-46a7-baea-73f9640156cc",
   "metadata": {},
   "source": [
    "Šio duomenų rinkinio reikšmės yra:"
   ]
  },
  {
   "cell_type": "code",
   "execution_count": 63,
   "id": "1ed6e575-c906-4f53-baf3-8a8c9f53e36e",
   "metadata": {},
   "outputs": [],
   "source": [
    "x = [6.575, 6.421, 7.185, 6.998, 7.147, 6.43,  6.012, 6.172, 5.631, 6.004]\n",
    "y = [24,  21.6, 34.7, 33.4, 36.2, 28.7, 22.9, 27.1, 16.5, 18.9]"
   ]
  },
  {
   "cell_type": "markdown",
   "id": "bb65621b-eac9-44bb-b77c-7bca8673c9a5",
   "metadata": {},
   "source": [
    "Taikydami kainos funkciją <code>**(vidutinę kvadratinę klaidą, angl. mean squared error)**</code>, apskaičiuokite modelio su koeficientais 𝜃0 = 10, 𝜃1 = 1, klaidos kainą:\n",
    "\n",
    "$$J(\\theta_{1}) = \\dfrac{1}{2m}\\sum_{i=1}^{m}(h_{\\theta}(x^{(i)} ) -y^{(i)})^2 $$"
   ]
  },
  {
   "cell_type": "code",
   "execution_count": 66,
   "id": "2fb32f10-dd23-4013-9005-9f8a49a75549",
   "metadata": {},
   "outputs": [],
   "source": [
    "#TODO apskaičuotą reikšmę įrašykite čia vietoje 0:\n",
    "cost = 0"
   ]
  },
  {
   "cell_type": "markdown",
   "id": "d26d363f",
   "metadata": {},
   "source": [
    "## #10"
   ]
  },
  {
   "cell_type": "markdown",
   "id": "e2338c36-9c91-41ab-89b1-4c90611109cf",
   "metadata": {},
   "source": [
    "Nurodykite bent vieną variantą su koeficientų reikšmėmis kuomet pastarojo modelio, su tuo pačiu duomenų rinkiniu, klaidos kainą būtų bet šiek tiek mažesnė."
   ]
  },
  {
   "cell_type": "code",
   "execution_count": null,
   "id": "820d2f64",
   "metadata": {},
   "outputs": [],
   "source": [
    "#TODO įrašykite koeficiento reikšmes vietoje 0\n",
    "𝜃0 = 0\n",
    "𝜃1 = 0"
   ]
  },
  {
   "cell_type": "markdown",
   "id": "4f297f21",
   "metadata": {},
   "source": [
    "<code>**Šių uždavinų užbaigimo terminas iki 11/12 (imtinai). Sekmės!**</code>"
   ]
  },
  {
   "cell_type": "code",
   "execution_count": null,
   "id": "59ed7dd1-1e2e-40c2-8860-e6743c43c871",
   "metadata": {},
   "outputs": [],
   "source": []
  }
 ],
 "metadata": {
  "kernelspec": {
   "display_name": "Python 3",
   "language": "python",
   "name": "python3"
  },
  "language_info": {
   "codemirror_mode": {
    "name": "ipython",
    "version": 3
   },
   "file_extension": ".py",
   "mimetype": "text/x-python",
   "name": "python",
   "nbconvert_exporter": "python",
   "pygments_lexer": "ipython3",
   "version": "3.7.4"
  }
 },
 "nbformat": 4,
 "nbformat_minor": 5
}
