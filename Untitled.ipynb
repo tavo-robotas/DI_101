{
 "cells": [
  {
   "cell_type": "code",
   "execution_count": 26,
   "id": "13889d67-6e08-45c5-908a-e2a74fce7648",
   "metadata": {},
   "outputs": [],
   "source": [
    "import time\n",
    "import random"
   ]
  },
  {
   "cell_type": "code",
   "execution_count": null,
   "id": "f3358249-7bb3-4a0e-b968-5faea6a0df45",
   "metadata": {},
   "outputs": [],
   "source": [
    "randomnumbers = [for n in range(1000)]"
   ]
  },
  {
   "cell_type": "code",
   "execution_count": 63,
   "id": "a24b22e5-08ad-41e0-8c48-db829bc1e3c6",
   "metadata": {},
   "outputs": [],
   "source": [
    "integers = random.sample(range(0, 11000000), 10000000)"
   ]
  },
  {
   "cell_type": "code",
   "execution_count": 64,
   "id": "57812d3a-97e9-47a7-a243-796fccd278ec",
   "metadata": {},
   "outputs": [],
   "source": [
    "def linear_search(arr, target):\n",
    "    t0 = time.time()\n",
    "    n = len(arr)\n",
    "    for i in range(n):\n",
    "        if target == arr[i]:\n",
    "            t1 = time.time()\n",
    "            print(t1 - t0)\n",
    "            return i\n",
    "    \n",
    "    return -1"
   ]
  },
  {
   "cell_type": "code",
   "execution_count": 65,
   "id": "221a4f21-65d9-43ff-9b0a-33472b8b9124",
   "metadata": {},
   "outputs": [
    {
     "name": "stdout",
     "output_type": "stream",
     "text": [
      "2.9501380920410156\n"
     ]
    },
    {
     "data": {
      "text/plain": [
       "5347574"
      ]
     },
     "execution_count": 65,
     "metadata": {},
     "output_type": "execute_result"
    }
   ],
   "source": [
    "linear_search(integers, 6)"
   ]
  },
  {
   "cell_type": "code",
   "execution_count": 74,
   "id": "19f721af-6ca9-4196-911f-60c262e3aff7",
   "metadata": {},
   "outputs": [],
   "source": [
    "def binary_search(arr, target):\n",
    "    start = 0\n",
    "    end   = len(arr) - 1\n",
    "    while (start <= end):\n",
    "        mid = (start + end) // 2\n",
    "        if (arr[mid] > target):\n",
    "            end = mid - 1\n",
    "        elif (arr[mid] < target):\n",
    "            start = mid + 1\n",
    "        else:\n",
    "            return mid\n",
    "    return None"
   ]
  },
  {
   "cell_type": "code",
   "execution_count": 92,
   "id": "f039f2b8-50da-4b0d-914f-c9d19409b5c0",
   "metadata": {},
   "outputs": [],
   "source": [
    "deze = [11, 22, 9, 8, 51, 66, 17, 2, 81, 43]"
   ]
  },
  {
   "cell_type": "code",
   "execution_count": 93,
   "id": "ca8896cb-e409-4c76-a039-26485ec46d32",
   "metadata": {},
   "outputs": [],
   "source": [
    "def binary_search(arr,n):    \n",
    "   l     = 0    \n",
    "   h     = len(arr) - 1       \n",
    "   while i <= h:    \n",
    "      mid = (l + h) // 2   \n",
    "   \n",
    "      if arr[mid] == n:    \n",
    "         print(f\"radau narį {n} pozicijoje {mid+1}\")    \n",
    "  \n",
    "         return True     \n",
    "      if arr[mid] > n:    \n",
    "         h = mid - 1    \n",
    "      if arr[mid] < n:    \n",
    "         l = mid + 1    \n",
    "   if found !=1:    \n",
    "      print(f\"ieškomas narys {n} nerastas\")    \n",
    "       \n",
    "   return -1  "
   ]
  },
  {
   "cell_type": "code",
   "execution_count": 91,
   "id": "2e5b7085-0604-4ae6-b186-1dc4ce454f98",
   "metadata": {},
   "outputs": [
    {
     "ename": "KeyboardInterrupt",
     "evalue": "",
     "output_type": "error",
     "traceback": [
      "\u001b[1;31m---------------------------------------------------------------------------\u001b[0m",
      "\u001b[1;31mKeyboardInterrupt\u001b[0m                         Traceback (most recent call last)",
      "\u001b[1;32m<ipython-input-91-6705d3684e65>\u001b[0m in \u001b[0;36m<module>\u001b[1;34m\u001b[0m\n\u001b[1;32m----> 1\u001b[1;33m \u001b[0mbinary_search\u001b[0m\u001b[1;33m(\u001b[0m\u001b[0mdeze\u001b[0m\u001b[1;33m,\u001b[0m \u001b[1;36m43\u001b[0m\u001b[1;33m)\u001b[0m\u001b[1;33m\u001b[0m\u001b[1;33m\u001b[0m\u001b[0m\n\u001b[0m",
      "\u001b[1;32m<ipython-input-90-39a7ae023054>\u001b[0m in \u001b[0;36mbinary_search\u001b[1;34m(arr, n)\u001b[0m\n\u001b[0;32m      2\u001b[0m    \u001b[0ml\u001b[0m     \u001b[1;33m=\u001b[0m \u001b[1;36m0\u001b[0m\u001b[1;33m\u001b[0m\u001b[1;33m\u001b[0m\u001b[0m\n\u001b[0;32m      3\u001b[0m    \u001b[0mh\u001b[0m     \u001b[1;33m=\u001b[0m \u001b[0mlen\u001b[0m\u001b[1;33m(\u001b[0m\u001b[0marr\u001b[0m\u001b[1;33m)\u001b[0m \u001b[1;33m-\u001b[0m \u001b[1;36m1\u001b[0m\u001b[1;33m\u001b[0m\u001b[1;33m\u001b[0m\u001b[0m\n\u001b[1;32m----> 4\u001b[1;33m    \u001b[1;32mwhile\u001b[0m \u001b[0mi\u001b[0m \u001b[1;33m<=\u001b[0m \u001b[0mh\u001b[0m\u001b[1;33m:\u001b[0m\u001b[1;33m\u001b[0m\u001b[1;33m\u001b[0m\u001b[0m\n\u001b[0m\u001b[0;32m      5\u001b[0m       \u001b[0mmid\u001b[0m \u001b[1;33m=\u001b[0m \u001b[1;33m(\u001b[0m\u001b[0ml\u001b[0m \u001b[1;33m+\u001b[0m \u001b[0mh\u001b[0m\u001b[1;33m)\u001b[0m \u001b[1;33m//\u001b[0m \u001b[1;36m2\u001b[0m\u001b[1;33m\u001b[0m\u001b[1;33m\u001b[0m\u001b[0m\n\u001b[0;32m      6\u001b[0m \u001b[1;33m\u001b[0m\u001b[0m\n",
      "\u001b[1;31mKeyboardInterrupt\u001b[0m: "
     ]
    }
   ],
   "source": [
    "binary_search(deze, 43)"
   ]
  },
  {
   "cell_type": "code",
   "execution_count": null,
   "id": "adb7231f-1062-4bd6-81b6-a823b1de6f2f",
   "metadata": {},
   "outputs": [],
   "source": []
  }
 ],
 "metadata": {
  "kernelspec": {
   "display_name": "Python 3",
   "language": "python",
   "name": "python3"
  },
  "language_info": {
   "codemirror_mode": {
    "name": "ipython",
    "version": 3
   },
   "file_extension": ".py",
   "mimetype": "text/x-python",
   "name": "python",
   "nbconvert_exporter": "python",
   "pygments_lexer": "ipython3",
   "version": "3.7.4"
  }
 },
 "nbformat": 4,
 "nbformat_minor": 5
}
