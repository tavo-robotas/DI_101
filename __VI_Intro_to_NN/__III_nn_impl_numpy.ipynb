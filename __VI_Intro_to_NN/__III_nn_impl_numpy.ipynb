{
 "cells": [
  {
   "cell_type": "markdown",
   "id": "9c382419-5c10-493d-a755-f196ff3fb138",
   "metadata": {},
   "source": [
    "# III Neuroniniai tinklai (NumPy)\n",
    "\n",
    "## XOR"
   ]
  },
  {
   "cell_type": "code",
   "execution_count": null,
   "id": "b8fb7fb4-7720-432a-ae52-278d6a19c2fb",
   "metadata": {},
   "outputs": [],
   "source": []
  },
  {
   "cell_type": "code",
   "execution_count": null,
   "id": "7b71d64e-ecc3-489a-9953-0a9a67d75e72",
   "metadata": {},
   "outputs": [],
   "source": []
  },
  {
   "cell_type": "markdown",
   "id": "8797b2e0-56fb-452a-a5fe-210faca8a02d",
   "metadata": {},
   "source": [
    "## MNIST"
   ]
  },
  {
   "cell_type": "code",
   "execution_count": null,
   "id": "78d2af28-431d-4ffc-a5ff-9bcd25a4388a",
   "metadata": {},
   "outputs": [],
   "source": []
  },
  {
   "cell_type": "code",
   "execution_count": null,
   "id": "988f1a73-c053-47d6-a36e-47595263dfe8",
   "metadata": {},
   "outputs": [],
   "source": []
  }
 ],
 "metadata": {
  "kernelspec": {
   "display_name": "Python 3",
   "language": "python",
   "name": "python3"
  },
  "language_info": {
   "codemirror_mode": {
    "name": "ipython",
    "version": 3
   },
   "file_extension": ".py",
   "mimetype": "text/x-python",
   "name": "python",
   "nbconvert_exporter": "python",
   "pygments_lexer": "ipython3",
   "version": "3.7.4"
  }
 },
 "nbformat": 4,
 "nbformat_minor": 5
}
