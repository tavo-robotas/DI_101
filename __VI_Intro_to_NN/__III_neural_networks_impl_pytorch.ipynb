{
 "cells": [
  {
   "cell_type": "markdown",
   "id": "52b1cce0-2fbf-41df-8b14-634ab12f0b7d",
   "metadata": {},
   "source": [
    "# III Neuroniniai tinklai (PyTorch)"
   ]
  },
  {
   "cell_type": "code",
   "execution_count": null,
   "id": "5590220e-7775-4ee3-a8fc-ec741c59aa20",
   "metadata": {},
   "outputs": [],
   "source": [
    "import time\n",
    "\n",
    "import torch\n",
    "import torch.nn.functional as F\n",
    "\n",
    "import numpy as np\n",
    "import pandas as pd\n",
    "\n",
    "import matplotlib.pyplot as plt\n",
    "from matplotlib.colors import ListedColormap"
   ]
  },
  {
   "cell_type": "code",
   "execution_count": null,
   "id": "e3e7f807-3839-47bd-a06b-833624d404da",
   "metadata": {},
   "outputs": [],
   "source": [
    "DEVICE     = ('cuda:0' if torch.cuda.is_available() else 'cpu')\n",
    "NUM_EPOCHS = 250"
   ]
  },
  {
   "cell_type": "code",
   "execution_count": null,
   "id": "62bd0e8d-acc7-497c-9ce0-ea2cd483676a",
   "metadata": {},
   "outputs": [],
   "source": [
    "data = pd.read_csv('xor.csv')\n",
    "X    = data[['x1', 'x2']].values\n",
    "y    = data['label'].values"
   ]
  },
  {
   "cell_type": "code",
   "execution_count": null,
   "id": "98588dae-560b-4060-9e7e-3c8dd460dda9",
   "metadata": {},
   "outputs": [],
   "source": [
    "plt.figure(figsize=(14,8))\n",
    "plt.scatter(X[y==0, 0], X[y==0, 1], marker='o', s=80, c='b')\n",
    "plt.scatter(X[y==1, 0], X[y==1, 1], marker='o', s=80, c='g')\n",
    "plt.tight_layout()"
   ]
  },
  {
   "cell_type": "code",
   "execution_count": null,
   "id": "ef86cb38-1be2-46e3-a53a-57a29cb0ca66",
   "metadata": {},
   "outputs": [],
   "source": [
    "class MLPLinear(torch.nn.Module):\n",
    "\n",
    "    def __init__(self, num_features, num_hidden_1, num_classes):\n",
    "        super(MLPLinear, self).__init__()\n",
    "        \n",
    "        self.num_classes = num_classes\n",
    "        \n",
    "        self.linear_1   = torch.nn.Linear(num_features, num_hidden_1)\n",
    "        self.linear_out = torch.nn.Linear(num_hidden_1, num_classes)\n",
    "        \n",
    "    def forward(self, x):\n",
    "        \n",
    "        out = self.linear_1(x)\n",
    "        #out = F.relu(out)\n",
    "        \n",
    "        logits = self.linear_out(out)\n",
    "        probas = F.softmax(logits, dim=1)\n",
    "        return logits, probas"
   ]
  },
  {
   "cell_type": "code",
   "execution_count": null,
   "id": "47305a30-ac5e-4d09-9b33-5ae739a4fa63",
   "metadata": {},
   "outputs": [],
   "source": [
    "torch.manual_seed(RANDOM_SEED)\n",
    "\n",
    "model     = MLPLinear(num_features=2, num_hidden_1=50, num_classes=2)\n",
    "model     = model1.to(DEVICE)\n",
    "optimizer = torch.optim.SGD(model.parameters(), lr=0.1)"
   ]
  },
  {
   "cell_type": "code",
   "execution_count": null,
   "id": "625be00a-ec5b-4de5-a56a-920c19bda01c",
   "metadata": {},
   "outputs": [],
   "source": [
    "start_time     = time.time()\n",
    "minibatch_cost = []\n",
    "\n",
    "features = torch.tensor(X, dtype=torch.float).to(DEVICE)\n",
    "targets  = torch.tensor(y, dtype=torch.long).to(DEVICE)\n",
    "\n",
    "for epoch in range(NUM_EPOCHS):\n",
    "    logits, probas = model(features)\n",
    "    cost           = F.cross_entropy(logits, targets)\n",
    "   \n",
    "    optimizer.zero_grad()\n",
    "    cost.backward()\n",
    "    minibatch_cost.append(cost)\n",
    "    optimizer.step()\n",
    "\n",
    "    print (f'epoch: {epoch+1:03d}/{NUM_EPOCHS:03d} | cost: {cost:.4f}')\n",
    "    \n",
    "print(f'laikas:{((time.time() - start_time)/60)} min')"
   ]
  },
  {
   "cell_type": "code",
   "execution_count": null,
   "id": "b8bdeaa0-508c-4594-b4e9-13105a46a782",
   "metadata": {},
   "outputs": [],
   "source": [
    "def plot_decision_regions(X, y, classifier, resolution=0.02):\n",
    "\n",
    "    markers = ('s', 'x', 'o', '^', 'v')\n",
    "    colors = ('red', 'blue', 'lightgreen', 'gray', 'cyan')\n",
    "    cmap = ListedColormap(colors[:len(np.unique(y))])\n",
    "\n",
    "    # plot the decision surface\n",
    "    x1_min, x1_max = X[:, 0].min() - 1, X[:, 0].max() + 1\n",
    "    x2_min, x2_max = X[:, 1].min() - 1, X[:, 1].max() + 1\n",
    "    xx1, xx2 = np.meshgrid(np.arange(x1_min, x1_max, resolution),\n",
    "                           np.arange(x2_min, x2_max, resolution))\n",
    "    tensor = torch.tensor(np.array([xx1.ravel(), xx2.ravel()]).T).float()\n",
    "    logits, probas = classifier.forward(tensor)\n",
    "    Z = np.argmax(probas.detach().numpy(), axis=1)\n",
    "\n",
    "    Z = Z.reshape(xx1.shape)\n",
    "    \n",
    "    plt.figure(figsize=(14,8))\n",
    "    plt.contourf(xx1, xx2, Z, alpha=0.4, cmap=cmap)\n",
    "    plt.xlim(xx1.min(), xx1.max())\n",
    "    plt.ylim(xx2.min(), xx2.max())\n",
    "\n",
    "    # plot class samples\n",
    "    for idx, cl in enumerate(np.unique(y)):\n",
    "        plt.scatter(x=X[y == cl, 0], y=X[y == cl, 1],\n",
    "                    alpha=0.8, color=cmap(idx),\n",
    "                    edgecolor='black',\n",
    "                    marker=markers[idx], \n",
    "                    label=cl)"
   ]
  },
  {
   "cell_type": "code",
   "execution_count": null,
   "id": "31e8eb7c-87c1-4187-9497-9ab4db6b7da7",
   "metadata": {},
   "outputs": [],
   "source": [
    "plot_decision_regions(features, targets, classifier=model1)\n",
    "plt.tight_layout()"
   ]
  }
 ],
 "metadata": {
  "kernelspec": {
   "display_name": "Python 3",
   "language": "python",
   "name": "python3"
  },
  "language_info": {
   "codemirror_mode": {
    "name": "ipython",
    "version": 3
   },
   "file_extension": ".py",
   "mimetype": "text/x-python",
   "name": "python",
   "nbconvert_exporter": "python",
   "pygments_lexer": "ipython3",
   "version": "3.7.4"
  }
 },
 "nbformat": 4,
 "nbformat_minor": 5
}
