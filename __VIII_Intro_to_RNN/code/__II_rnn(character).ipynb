{
 "cells": [
  {
   "cell_type": "markdown",
   "id": "8fc86015-95cb-4d78-90b4-c3e1bc2cf12b",
   "metadata": {},
   "source": [
    "# II Character RNN (LSTM) "
   ]
  },
  {
   "cell_type": "markdown",
   "id": "cac49092-e45a-4dfb-8f8b-16c95f331ed1",
   "metadata": {},
   "source": [
    "Palyginti trumpas ir paprastas simbolio lygio RNN modelis skirtas generuoti naujus tekstą pagal įvesties tekstą.\n",
    "Remiamasi šia implementacija: https://github.com/spro/practical-pytorch/blob/master/char-rnn-generation/char-rnn-generation.ipynb"
   ]
  },
  {
   "cell_type": "markdown",
   "id": "450a90f5-ad29-44a7-a240-07e99004e1de",
   "metadata": {},
   "source": [
    "[re - regular expression operations](https://docs.python.org/3/library/re.html)<br>\n",
    "[string - common string operations](https://docs.python.org/3/library/string.html)<br>\n",
    "[unicode](https://docs.python.org/3/c-api/unicode.html)"
   ]
  },
  {
   "cell_type": "code",
   "execution_count": null,
   "id": "bc9b69a2-866d-422b-96a1-efa066f557a4",
   "metadata": {},
   "outputs": [],
   "source": [
    "!pip install unidecode"
   ]
  },
  {
   "cell_type": "code",
   "execution_count": null,
   "id": "0b676a60-b016-46f2-8f73-52c7fe867172",
   "metadata": {},
   "outputs": [],
   "source": [
    "import re\n",
    "import time\n",
    "import torch\n",
    "import random\n",
    "import string\n",
    "import shutils\n",
    "import unidecode\n",
    "import matplotlib.pyplot as plt\n",
    "\n",
    "\n",
    "torch.backends.cudnn.deterministic = True"
   ]
  },
  {
   "cell_type": "code",
   "execution_count": null,
   "id": "8f856da2-c53e-42f7-9783-21db0c5bdaf6",
   "metadata": {},
   "outputs": [],
   "source": [
    "from google.colab import drive \n",
    "drive.mount('/content/drive')"
   ]
  },
  {
   "cell_type": "code",
   "execution_count": null,
   "id": "b457d369-335c-44de-b509-3426921c5875",
   "metadata": {},
   "outputs": [],
   "source": [
    "sys.path.append('/content/drive/My Drive/Colab Notebooks')"
   ]
  },
  {
   "cell_type": "markdown",
   "id": "4bf8acff-1624-4075-8f10-a16881baa887",
   "metadata": {},
   "source": [
    "Keletas hyperametrų tokie kaip `TEXT_PORTION_SIZE` kuris reiškia kokio ilgio poricja yra. Čia nenaudosime `EPOCHS`, o `NUM_ITER` ir visi kiti jau naudoti tipiniai parametrai."
   ]
  },
  {
   "cell_type": "code",
   "execution_count": null,
   "id": "b48bf17d-a8f8-4b62-8cba-421db0c950bd",
   "metadata": {},
   "outputs": [],
   "source": [
    "DEVICE            = torch.device('cpu')\n",
    "NUM_ITER          = 5000\n",
    "HIDDEN_DIM        = 100\n",
    "RANDOM_SEED       = 123\n",
    "LEARNING_RATE     = 0.005\n",
    "EMBEDDING_DIM     = 100\n",
    "NUM_HIDDEN_LAYERS = 1\n",
    "TEXT_PORTION_SIZE = 200\n",
    "\n",
    "torch.manual_seed(RANDOM_SEED)"
   ]
  },
  {
   "cell_type": "markdown",
   "id": "8f4669a4-cf07-49c4-a687-41a0051a6715",
   "metadata": {},
   "source": [
    "Konvertuojame visus ASCII simbolius, kuriuos pateikia `string.printable` ir naudosime kaip simbolių rinkinį (100 simbolių)."
   ]
  },
  {
   "cell_type": "code",
   "execution_count": 3,
   "id": "7cc156b2-9e44-44b4-ab56-aeb310d9bf10",
   "metadata": {},
   "outputs": [
    {
     "data": {
      "text/plain": [
       "'0123456789abcdefghijklmnopqrstuvwxyzABCDEFGHIJKLMNOPQRSTUVWXYZ!\"#$%&\\'()*+,-./:;<=>?@[\\\\]^_`{|}~ \\t\\n\\r\\x0b\\x0c'"
      ]
     },
     "execution_count": 3,
     "metadata": {},
     "output_type": "execute_result"
    }
   ],
   "source": [
    "string.printable"
   ]
  },
  {
   "cell_type": "code",
   "execution_count": null,
   "id": "42a9c76f-e4a8-46cf-b4ed-a5fa005f5fee",
   "metadata": {},
   "outputs": [],
   "source": [
    "shutil.copy('/content/drive/My Drive/Colab Notebooks/datasets/covid19_faq.txt', 'covid19_faq.txt')"
   ]
  },
  {
   "cell_type": "markdown",
   "id": "e6730895-ee42-48f6-b7f1-b4188ae015e5",
   "metadata": {},
   "source": [
    "Naudosime duomenų rinkinį kuris covid dažniausiai užduodami klausimai."
   ]
  },
  {
   "cell_type": "code",
   "execution_count": null,
   "id": "791814c1-fc84-4ddd-b436-f19e83ecf203",
   "metadata": {},
   "outputs": [],
   "source": [
    "with open('covid19_faq.txt', 'r') as f:\n",
    "    textfile = f.read()\n",
    "\n",
    "# konvertuoti specialiuosius simbolius\n",
    "textfile = unidecode.unidecode(textfile)\n",
    "\n",
    "# pašalinti papildomus tarpelius\n",
    "textfile = re.sub(' +',' ', textfile)\n",
    "\n",
    "TEXT_LENGTH = len(textfile)\n",
    "\n",
    "print(f'Number of characters in text: {TEXT_LENGTH}')"
   ]
  },
  {
   "cell_type": "markdown",
   "id": "f2eab75e-4890-4208-b4c3-1125e81302bb",
   "metadata": {},
   "source": [
    "Padaliname tekstą į mažesnes atsitiktines porcijas. Šie sakiniai gali būtų sintaksiškai ir gramatiškai neteisingai sukarpyti kas nėra gerai. Raalaus atvejo programoje norite turėti funkciją, kuri sukuria pilnus sakinius."
   ]
  },
  {
   "cell_type": "code",
   "execution_count": null,
   "id": "7e5a2140-3f91-494a-b09a-75dbbf2d49c0",
   "metadata": {},
   "outputs": [],
   "source": [
    "random.seed(RANDOM_SEED)\n",
    "\n",
    "def random_portion(textfile):\n",
    "    start_index = random.randint(0, TEXT_LENGTH - TEXT_PORTION_SIZE)\n",
    "    end_index = start_index + TEXT_PORTION_SIZE + 1\n",
    "    return textfile[start_index:end_index]\n",
    "\n",
    "print(random_portion(textfile))"
   ]
  },
  {
   "cell_type": "markdown",
   "id": "90b46ecc-f1cc-4fcd-95a0-d5de49e5ca16",
   "metadata": {},
   "source": [
    "Konvertuojame simbolius į tensorius (simbolius į skaičius), ši funkcija randa indeksus, tai simbolio `a` indeksas būtų 10."
   ]
  },
  {
   "cell_type": "code",
   "execution_count": null,
   "id": "8b3eb9b7-cdca-43fc-95b7-c6e51141c4de",
   "metadata": {},
   "outputs": [],
   "source": [
    "def char_to_tensor(text):\n",
    "    lst = [string.printable.index(c) for c in text]\n",
    "    tensor = torch.tensor(lst).long()\n",
    "    return tensor\n",
    "\n",
    "print(char_to_tensor('abcDEF'))"
   ]
  },
  {
   "cell_type": "markdown",
   "id": "4e03cc8a-519a-4ed7-9558-bf78c1f0dc4b",
   "metadata": {},
   "source": [
    "Atsitiktinės imties traukimas modelio mokymui. Ir taip pat ši funkcija gaus mūsų etiketes. Etiketės yra įvestis, perkeltos per vieną simbolį nes šio NN uždavinys yra nuspėti sekantį simbolį."
   ]
  },
  {
   "cell_type": "code",
   "execution_count": null,
   "id": "ca3fd26d-e780-4b82-a418-3ff64580f6c2",
   "metadata": {},
   "outputs": [],
   "source": [
    "def draw_random_sample(textfile):    \n",
    "    text_long = char_to_tensor(random_portion(textfile))\n",
    "    inputs = text_long[:-1]\n",
    "    targets = text_long[1:]\n",
    "    return inputs, targets"
   ]
  },
  {
   "cell_type": "code",
   "execution_count": null,
   "id": "d0b01a39-c969-44e2-b1c7-a3f3f86c132b",
   "metadata": {},
   "outputs": [],
   "source": [
    "draw_random_sample(textfile)"
   ]
  },
  {
   "cell_type": "markdown",
   "id": "b817ed33-d0c8-4899-8257-d476604728a6",
   "metadata": {},
   "source": [
    "## Modelis \n",
    "\n",
    "Mūsų RNN implementacija. Naudojame `LSTMCell` klasę kuri yra labiau intuityvi nei `LSTM`."
   ]
  },
  {
   "cell_type": "markdown",
   "id": "a92d7550-8cf2-48c0-b6f0-ef072c866b7b",
   "metadata": {},
   "source": [
    "Mūsų teksto simbolių įvesties `one hot` kodavimas šioje implemetacijoje yra skaitines reikšmes, skaičius 2, skaičius 0 ir t.t"
   ]
  },
  {
   "cell_type": "code",
   "execution_count": null,
   "id": "96c33528-4d57-40d8-b885-9f6aab227431",
   "metadata": {},
   "outputs": [],
   "source": [
    "class RNN(torch.nn.Module):\n",
    "    def __init__(self, input_size, embed_size, hidden_size, output_size):\n",
    "        super().__init__()\n",
    "        \n",
    "        # paslėptas matmuo yra 128\n",
    "        self.hidden_size = hidden_size\n",
    "       \n",
    "        # Tai yra mūsų įterpimo sluoksnis, kuris pereina nuo sveikojo simbolio skaičiaus iki 100 dydžio įterpimo vektoriaus\n",
    "        self.embed = torch.nn.Embedding(num_embeddings=input_size, embedding_dim=embed_size)\n",
    "        # lstm celės kompozicija susideda iš 100 narių dydžio vektoriaus (embed_size, o paslėptas dydis yra 128 (hidden_size)\n",
    "        # įterpimo sluoksnis išves 100 matmenų vektorių, o paslėptas sluoksnis bus 128 matmenų vektorius\n",
    "        self.rnn = torch.nn.LSTMCell(input_size=embed_size, hidden_size=hidden_size)\n",
    "        \n",
    "        self.fc = torch.nn.Linear(hidden_size, output_size)\n",
    "    \n",
    "    def forward(self, character, hidden, cell_state):\n",
    "        # tikisi simbolio dydžio [batch_size, 1]\n",
    "        \n",
    "        # simbolis yra duodamas įterpimo sluoksniui, batch (pakuotės) dydis yra 1\n",
    "        # [batch size, embedding dim] = [1, embedding dim]\n",
    "        embedded = self.embed(character)\n",
    "        \n",
    "        # LSTMcell duodame įterpimo vektorių (1x100) kartu su paslėta ir celės būsena iš prieš tai\n",
    "        # buvusios iteracijos\n",
    "        # https://i.stack.imgur.com/SjnTl.png\n",
    "        (hidden, cell_state) = self.rnn(embedded, (hidden, cell_state))\n",
    "        # 1. output dim: [batch size, output_size] = [1, output_size]\n",
    "        # 2. hidden dim: [batch size, hidden dim]  = [1, hidden dim]\n",
    "        # 3. cell dim:   [batch size, hidden dim]  = [1, hidden dim]\n",
    "        \n",
    "        output = self.fc(hidden)\n",
    "\n",
    "        return output, hidden, cell_state\n",
    "    \n",
    "    # zero state inicializavimas\n",
    "    def init_zero_state(self):\n",
    "        init_hidden = torch.zeros(1, self.hidden_size).to(DEVICE)\n",
    "        init_cell   = torch.zeros(1, self.hidden_size).to(DEVICE)\n",
    "        return (init_hidden, init_cell)"
   ]
  },
  {
   "cell_type": "code",
   "execution_count": null,
   "id": "c1cf0bc4-7b04-474f-88e8-f168b09153e8",
   "metadata": {},
   "outputs": [],
   "source": [
    "torch.manual_seed(RANDOM_SEED)"
   ]
  },
  {
   "cell_type": "code",
   "execution_count": null,
   "id": "495bdeb8-1c4a-4c4e-865d-626734af2522",
   "metadata": {},
   "outputs": [],
   "source": [
    "model = RNN(len(string.printable), EMBEDDING_DIM, HIDDEN_DIM, len(string.printable))\n",
    "model = model.to(DEVICE)"
   ]
  },
  {
   "cell_type": "code",
   "execution_count": null,
   "id": "cdc3e226-391f-465d-a4cf-016a04ffc700",
   "metadata": {},
   "outputs": [],
   "source": [
    "optimizer = torch.optim.Adam(model.parameters(), lr=LEARNING_RATE)"
   ]
  },
  {
   "cell_type": "code",
   "execution_count": null,
   "id": "703d4c1c-7b6b-4cd1-87a7-3ec9b9b163dd",
   "metadata": {},
   "outputs": [],
   "source": [
    "def evaluate(model, prime_str='A', predict_len=100, temperature=0.8):\n",
    "    \n",
    "    (hidden, cell_state) = model.init_zero_state()\n",
    "    prime_input = char_to_tensor(prime_str)\n",
    "    predicted = prime_str\n",
    "\n",
    "    # sukuriame paslėptą pradinę būseną, naudojame pradinę eilutę, modelis stabilizuojasi\n",
    "    for p in range(len(prime_str) - 1):\n",
    "        inp = prime_input[p].unsqueeze(0)\n",
    "        _, hidden, cell_state = model(inp.to(DEVICE), hidden, cell_state)\n",
    "    inp = prime_input[-1].unsqueeze(0)\n",
    "    \n",
    "    for p in range(predict_len):\n",
    "\n",
    "        outputs, hidden, cell_state = model(inp.to(DEVICE), hidden, cell_state)\n",
    "        \n",
    "        # Atsitiktinis mėginys iš tinklo kaip daugianario skirstinys (distribution)\n",
    "        # inspired by https://en.wikipedia.org/wiki/Boltzmann_distribution\n",
    "        output_dist = outputs.data.view(-1).div(temperature).exp() # e^{logits / T ∈[0, 1]}\n",
    "        top_i = torch.multinomial(output_dist, 1)[0]\n",
    "        \n",
    "        # Pridėkite numatytą simbolį prie eilutės ir naudokite kaip kitą įvestį\n",
    "        predicted_char = string.printable[top_i]\n",
    "        predicted += predicted_char\n",
    "        inp = char_to_tensor(predicted_char)\n",
    "\n",
    "    return predicted"
   ]
  },
  {
   "cell_type": "markdown",
   "id": "1cae2d88-cf32-4bd0-8852-f1882b837630",
   "metadata": {},
   "source": [
    "## Treniravimas"
   ]
  },
  {
   "cell_type": "markdown",
   "id": "b09f74e3-bdc4-4ca3-b0bc-e7e5c18c26df",
   "metadata": {},
   "source": [
    "iteruosime 5000 kartų, tai reiškia bus 5000 žignsių"
   ]
  },
  {
   "cell_type": "code",
   "execution_count": null,
   "id": "3b2ee779-8ad1-4286-8734-ddd7d59d11c1",
   "metadata": {},
   "outputs": [],
   "source": [
    "start_time = time.time()\n",
    "\n",
    "loss_list = []\n",
    "\n",
    "for iteration in range(NUM_ITER):\n",
    "    # inizializuojame zero state\n",
    "    # kiekviena iteracija praeis per vieną 200 dydžio teksto dalį.\n",
    "    hidden, cell_state = model.init_zero_state()\n",
    "    optimizer.zero_grad()\n",
    "    \n",
    "    loss = 0.\n",
    "    inputs, targets = draw_random_sample(textfile)\n",
    "    inputs, targets = inputs.to(DEVICE), targets.to(DEVICE)\n",
    "    \n",
    "    for c in range(TEXT_PORTION_SIZE):\n",
    "        # metodas unsqueeze(0) naudojamas dėl  [batch_size, 1], pridedam tusčia dimensija\n",
    "        # priminės hidden, cell_state reikšmės yra iš zero state inicializacijos bet su sekančia iteracija\n",
    "        # modelis generuos naujas ir jas pernaudos rekursyviai.\n",
    "        outputs, hidden, cell_state = model(inputs[c].unsqueeze(0), hidden, cell_state)\n",
    "        loss += torch.nn.functional.cross_entropy(outputs, targets[c].view(1))\n",
    " \n",
    "    # kainos vidurkis\n",
    "    loss /= TEXT_PORTION_SIZE\n",
    "    loss.backward()\n",
    "    \n",
    "    # atnaujiname modelio parametrus\n",
    "    optimizer.step()\n",
    "\n",
    "    #logeris\n",
    "    with torch.no_grad():\n",
    "        if iteration % 200 == 0:\n",
    "            \n",
    "            print(f'Praėjęs laika: {(time.time() - start_time)/60:.2f} min')\n",
    "            print(f'Iteracija {iteration} | kaina {loss.item():.2f}\\n\\n')\n",
    "            # vieto to kad vien tik išspaudinti kaina tai pat įvertiname modelį.\n",
    "            # leidžiant jam generuoti tekstą\n",
    "            print(evaluate(model, 'Th', 200), '\\n')\n",
    "            print(50*'=')\n",
    "            \n",
    "            loss_list.append(loss.item())\n",
    "            plt.clf()\n",
    "            plt.plot(range(len(loss_list)), loss_list)\n",
    "            plt.ylabel('kaina')\n",
    "            plt.xlabel('iteracija x 1000')\n",
    "            plt.savefig('kaina.pdf')\n",
    "            \n",
    "plt.clf()\n",
    "plt.ylabel('kaina')\n",
    "plt.xlabel('iteracija x 1000')\n",
    "plt.plot(range(len(loss_list)), loss_list)\n",
    "plt.show()"
   ]
  }
 ],
 "metadata": {
  "kernelspec": {
   "display_name": "Python 3",
   "language": "python",
   "name": "python3"
  },
  "language_info": {
   "codemirror_mode": {
    "name": "ipython",
    "version": 3
   },
   "file_extension": ".py",
   "mimetype": "text/x-python",
   "name": "python",
   "nbconvert_exporter": "python",
   "pygments_lexer": "ipython3",
   "version": "3.7.4"
  }
 },
 "nbformat": 4,
 "nbformat_minor": 5
}
