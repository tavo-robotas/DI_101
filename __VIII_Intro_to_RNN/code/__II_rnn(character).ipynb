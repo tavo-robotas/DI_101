{
 "cells": [
  {
   "cell_type": "markdown",
   "id": "8fc86015-95cb-4d78-90b4-c3e1bc2cf12b",
   "metadata": {},
   "source": [
    "# II Character RNN (LSTM) "
   ]
  },
  {
   "cell_type": "code",
   "execution_count": 2,
   "id": "a5ad0d27-51a2-4e5e-81b3-04d5acb13b76",
   "metadata": {},
   "outputs": [],
   "source": [
    "import string"
   ]
  },
  {
   "cell_type": "code",
   "execution_count": null,
   "id": "0b676a60-b016-46f2-8f73-52c7fe867172",
   "metadata": {},
   "outputs": [],
   "source": [
    "import re\n",
    "import time\n",
    "import torch\n",
    "import random\n",
    "import string\n",
    "import unidecode\n",
    "import matplotlib.pyplot as plt\n",
    "\n",
    "\n",
    "torch.backends.cudnn.deterministic = True"
   ]
  },
  {
   "cell_type": "code",
   "execution_count": null,
   "id": "8f856da2-c53e-42f7-9783-21db0c5bdaf6",
   "metadata": {},
   "outputs": [],
   "source": [
    "from google.colab import drive \n",
    "drive.mount('/content/drive')"
   ]
  },
  {
   "cell_type": "code",
   "execution_count": null,
   "id": "b457d369-335c-44de-b509-3426921c5875",
   "metadata": {},
   "outputs": [],
   "source": [
    "sys.path.append('/content/drive/My Drive/Colab Notebooks')"
   ]
  },
  {
   "cell_type": "code",
   "execution_count": null,
   "id": "b48bf17d-a8f8-4b62-8cba-421db0c950bd",
   "metadata": {},
   "outputs": [],
   "source": [
    "DEVICE            = torch.device('cpu')\n",
    "NUM_ITER          = 5000\n",
    "HIDDEN_DIM        = 100\n",
    "RANDOM_SEED       = 123\n",
    "LEARNING_RATE     = 0.005\n",
    "EMBEDDING_DIM     = 100\n",
    "NUM_HIDDEN_LAYERS = 1\n",
    "TEXT_PORTION_SIZE = 200\n",
    "\n",
    "torch.manual_seed(RANDOM_SEED)"
   ]
  },
  {
   "cell_type": "code",
   "execution_count": 3,
   "id": "7cc156b2-9e44-44b4-ab56-aeb310d9bf10",
   "metadata": {},
   "outputs": [
    {
     "data": {
      "text/plain": [
       "'0123456789abcdefghijklmnopqrstuvwxyzABCDEFGHIJKLMNOPQRSTUVWXYZ!\"#$%&\\'()*+,-./:;<=>?@[\\\\]^_`{|}~ \\t\\n\\r\\x0b\\x0c'"
      ]
     },
     "execution_count": 3,
     "metadata": {},
     "output_type": "execute_result"
    }
   ],
   "source": [
    "string.printable"
   ]
  },
  {
   "cell_type": "code",
   "execution_count": null,
   "id": "42a9c76f-e4a8-46cf-b4ed-a5fa005f5fee",
   "metadata": {},
   "outputs": [],
   "source": [
    "shutil.copy('/content/drive/My Drive/Colab Notebooks/datasets/covid19_faq.txt', 'covid19_faq.txt')"
   ]
  },
  {
   "cell_type": "code",
   "execution_count": null,
   "id": "791814c1-fc84-4ddd-b436-f19e83ecf203",
   "metadata": {},
   "outputs": [],
   "source": [
    "with open('covid19_faq.txt', 'r') as f:\n",
    "    textfile = f.read()\n",
    "\n",
    "# convert special characters\n",
    "textfile = unidecode.unidecode(textfile)\n",
    "\n",
    "# strip extra whitespaces\n",
    "textfile = re.sub(' +',' ', textfile)\n",
    "\n",
    "TEXT_LENGTH = len(textfile)\n",
    "\n",
    "print(f'Number of characters in text: {TEXT_LENGTH}')"
   ]
  },
  {
   "cell_type": "code",
   "execution_count": null,
   "id": "7e5a2140-3f91-494a-b09a-75dbbf2d49c0",
   "metadata": {},
   "outputs": [],
   "source": [
    "random.seed(RANDOM_SEED)\n",
    "\n",
    "def random_portion(textfile):\n",
    "    start_index = random.randint(0, TEXT_LENGTH - TEXT_PORTION_SIZE)\n",
    "    end_index = start_index + TEXT_PORTION_SIZE + 1\n",
    "    return textfile[start_index:end_index]\n",
    "\n",
    "print(random_portion(textfile))"
   ]
  },
  {
   "cell_type": "code",
   "execution_count": null,
   "id": "8b3eb9b7-cdca-43fc-95b7-c6e51141c4de",
   "metadata": {},
   "outputs": [],
   "source": [
    "def char_to_tensor(text):\n",
    "    lst = [string.printable.index(c) for c in text]\n",
    "    tensor = torch.tensor(lst).long()\n",
    "    return tensor\n",
    "\n",
    "print(char_to_tensor('abcDEF'))"
   ]
  },
  {
   "cell_type": "code",
   "execution_count": null,
   "id": "ca3fd26d-e780-4b82-a418-3ff64580f6c2",
   "metadata": {},
   "outputs": [],
   "source": [
    "def draw_random_sample(textfile):    \n",
    "    text_long = char_to_tensor(random_portion(textfile))\n",
    "    inputs = text_long[:-1]\n",
    "    targets = text_long[1:]\n",
    "    return inputs, targets"
   ]
  },
  {
   "cell_type": "code",
   "execution_count": null,
   "id": "d0b01a39-c969-44e2-b1c7-a3f3f86c132b",
   "metadata": {},
   "outputs": [],
   "source": [
    "draw_random_sample(textfile)"
   ]
  },
  {
   "cell_type": "code",
   "execution_count": null,
   "id": "96c33528-4d57-40d8-b885-9f6aab227431",
   "metadata": {},
   "outputs": [],
   "source": [
    "class RNN(torch.nn.Module):\n",
    "    def __init__(self, input_size, embed_size,\n",
    "                 hidden_size, output_size, num_layers):\n",
    "        super().__init__()\n",
    "\n",
    "        self.hidden_size = hidden_size\n",
    "        self.num_layers = num_layers\n",
    "        \n",
    "        self.embed = torch.nn.Embedding(num_embeddings=input_size,\n",
    "                                        embedding_dim=embed_size)\n",
    "        self.rnn = torch.nn.LSTM(input_size=embed_size,\n",
    "                                 hidden_size=hidden_size,\n",
    "                                 num_layers=num_layers)\n",
    "        self.fc = torch.nn.Linear(hidden_size, output_size)\n",
    "    \n",
    "    def forward(self, features, hidden_and_cell_state):\n",
    "        # text dim: [1] -> [[1]] (features = 1 character)\n",
    "        features = features.view(1, -1)\n",
    "        \n",
    "        # embedded dim = [text length, batch size, embedding dim] = [1, 1, embedding dim]\n",
    "        embedded = self.embed(features)\n",
    "        \n",
    "        output, hidden_and_cell_state = self.rnn(embedded, hidden_and_cell_state)\n",
    "        # 1. output dim: [sentence length, batch size, hidden dim] = [1, 1, hidden dim]\n",
    "        # 2. (last) hidden dim: [num layers, batch size, hidden dim] = [num layers, 1, hidden dim]\n",
    "        # 3. cell dim: [num layers, batch size, hidden dim] = [num layers, 1, hidden dim]\n",
    "        \n",
    "        output.squeeze_(0)\n",
    "        output = self.fc(output)\n",
    "        return output, hidden_and_cell_state\n",
    "      \n",
    "    def init_zero_state(self):\n",
    "        init_hidden = torch.zeros(self.num_layers, 1, self.hidden_size).to(DEVICE)\n",
    "        init_cell = torch.zeros(self.num_layers, 1, self.hidden_size).to(DEVICE)\n",
    "        return (init_hidden, init_cell)"
   ]
  },
  {
   "cell_type": "code",
   "execution_count": null,
   "id": "495bdeb8-1c4a-4c4e-865d-626734af2522",
   "metadata": {},
   "outputs": [],
   "source": [
    "torch.manual_seed(RANDOM_SEED)\n",
    "model = RNN(len(string.printable), EMBEDDING_DIM, HIDDEN_DIM,\n",
    "            len(string.printable), NUM_HIDDEN_LAYERS)\n",
    "model = model.to(DEVICE)\n",
    "optimizer = torch.optim.Adam(model.parameters(), lr=LEARNING_RATE)"
   ]
  },
  {
   "cell_type": "code",
   "execution_count": null,
   "id": "703d4c1c-7b6b-4cd1-87a7-3ec9b9b163dd",
   "metadata": {},
   "outputs": [],
   "source": [
    "def evaluate(model, prime_str='A', predict_len=100, temperature=0.8):\n",
    "    ## based on https://github.com/spro/practical-pytorch/\n",
    "    ## blob/master/char-rnn-generation/char-rnn-generation.ipynb\n",
    "\n",
    "    hidden_and_cell_state = model.init_zero_state()\n",
    "    prime_input = char_to_tensor(prime_str)\n",
    "    predicted = prime_str\n",
    "\n",
    "    # Use priming string to \"build up\" hidden state\n",
    "    for p in range(len(prime_str) - 1):\n",
    "        _, hidden_and_cell_state = model(prime_input[p].to(DEVICE), hidden_and_cell_state)\n",
    "    inp = prime_input[-1]\n",
    "    \n",
    "    for p in range(predict_len):\n",
    "        output, hidden_and_cell_state = model(inp.to(DEVICE), hidden_and_cell_state)\n",
    "        \n",
    "        # Sample from the network as a multinomial distribution\n",
    "        output_dist = output.data.view(-1).div(temperature).exp()\n",
    "        top_i = torch.multinomial(output_dist, 1)[0]\n",
    "        \n",
    "        # Add predicted character to string and use as next input\n",
    "        predicted_char = string.printable[top_i]\n",
    "        predicted += predicted_char\n",
    "        inp = char_to_tensor(predicted_char)\n",
    "\n",
    "    return predicted"
   ]
  },
  {
   "cell_type": "code",
   "execution_count": null,
   "id": "3b2ee779-8ad1-4286-8734-ddd7d59d11c1",
   "metadata": {},
   "outputs": [],
   "source": [
    "start_time = time.time()\n",
    "\n",
    "loss_list = []\n",
    "\n",
    "for iteration in range(NUM_ITER):\n",
    "\n",
    "    hidden_and_cell_state = model.init_zero_state()\n",
    "    optimizer.zero_grad()\n",
    "    \n",
    "    loss = 0.\n",
    "    inputs, targets = draw_random_sample(textfile)\n",
    "    inputs, targets = inputs.to(DEVICE), targets.to(DEVICE)\n",
    "    for c in range(TEXT_PORTION_SIZE):\n",
    "        outputs, hidden_and_cell_state = model(inputs[c], hidden_and_cell_state)\n",
    "        loss += torch.nn.functional.cross_entropy(outputs, targets[c].view(1))\n",
    "\n",
    "    loss /= TEXT_PORTION_SIZE\n",
    "    loss.backward()\n",
    "    \n",
    "    ### UPDATE MODEL PARAMETERS\n",
    "    optimizer.step()\n",
    "\n",
    "    ### LOGGING\n",
    "    with torch.no_grad():\n",
    "        if iteration % 200 == 0:\n",
    "            print(f'Time elapsed: {(time.time() - start_time)/60:.2f} min')\n",
    "            print(f'Iteration {iteration} | Loss {loss.item():.2f}\\n\\n')\n",
    "            print(evaluate(model, 'Th', 200), '\\n')\n",
    "            print(50*'=')\n",
    "            \n",
    "            loss_list.append(loss.item())\n",
    "            plt.clf()\n",
    "            plt.plot(range(len(loss_list)), loss_list)\n",
    "            plt.ylabel('Loss')\n",
    "            plt.xlabel('Iteration x 1000')\n",
    "            plt.savefig('loss2.pdf')\n",
    "            \n",
    "plt.clf()\n",
    "plt.ylabel('Loss')\n",
    "plt.xlabel('Iteration x 1000')\n",
    "plt.plot(range(len(loss_list)), loss_list)\n",
    "plt.show()"
   ]
  }
 ],
 "metadata": {
  "kernelspec": {
   "display_name": "Python 3",
   "language": "python",
   "name": "python3"
  },
  "language_info": {
   "codemirror_mode": {
    "name": "ipython",
    "version": 3
   },
   "file_extension": ".py",
   "mimetype": "text/x-python",
   "name": "python",
   "nbconvert_exporter": "python",
   "pygments_lexer": "ipython3",
   "version": "3.7.4"
  }
 },
 "nbformat": 4,
 "nbformat_minor": 5
}
