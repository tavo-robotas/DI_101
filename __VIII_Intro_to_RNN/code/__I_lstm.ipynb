{
 "cells": [
  {
   "cell_type": "markdown",
   "id": "9da3bb0f-3536-443f-b98e-52d36a3cabbd",
   "metadata": {},
   "source": [
    "# I RNN (LSTM)"
   ]
  },
  {
   "cell_type": "markdown",
   "id": "94fe2b03-a0c1-4b41-a009-b255a9295357",
   "metadata": {},
   "source": [
    "[torchtext](https://pytorch.org/text/stable/index.html)"
   ]
  },
  {
   "cell_type": "code",
   "execution_count": null,
   "id": "467095e2-511e-4282-ac2c-06816a111a44",
   "metadata": {},
   "outputs": [],
   "source": [
    "import sys\n",
    "import time\n",
    "import torch\n",
    "import random\n",
    "import torchtext\n",
    "import pandas as pd\n",
    "import torch.nn.functional as F\n",
    "\n",
    "torch.backends.cudnn.deterministic = True"
   ]
  },
  {
   "cell_type": "code",
   "execution_count": null,
   "id": "39a4031a-fba9-4227-a93e-e7b5222ea96d",
   "metadata": {},
   "outputs": [],
   "source": [
    "from google.colab import drive \n",
    "drive.mount('/content/drive')"
   ]
  },
  {
   "cell_type": "code",
   "execution_count": null,
   "id": "34d4b620-a34f-4c04-a7c9-f47dc8443cab",
   "metadata": {},
   "outputs": [],
   "source": [
    "sys.path.append('/content/drive/My Drive/Colab Notebooks')"
   ]
  },
  {
   "cell_type": "code",
   "execution_count": null,
   "id": "d6b8b5e9-ffba-4cbd-9b3f-6b1635f9e2e8",
   "metadata": {},
   "outputs": [],
   "source": [
    "RANDOM_SEED     = 123\n",
    "VOCABULARY_SIZE = 20000\n",
    "LEARNING_RATE   = 0.005\n",
    "BATCH_SIZE      = 128\n",
    "NUM_EPOCHS      = 15\n",
    "EMBEDDING_DIM   = 128\n",
    "HIDDEN_DIM      = 256\n",
    "NUM_CLASSES     = 2\n",
    "DEVICE          = torch.device('cuda:0' if torch.cuda.is_available() else 'cpu')"
   ]
  },
  {
   "cell_type": "code",
   "execution_count": null,
   "id": "aa26ec0c-d8c0-4206-9593-61b30fa5d66c",
   "metadata": {},
   "outputs": [],
   "source": [
    "torch.manual_seed(RANDOM_SEED)"
   ]
  },
  {
   "cell_type": "markdown",
   "id": "d398031c-c1eb-487d-8faf-2997b6f720b9",
   "metadata": {},
   "source": [
    "## Duomenų rinkinys\n",
    "\n",
    "Apdorotas IMDB filmų peržiūros duomenų rinkinys kurio orginalas yra iš (https://ai.stanford.edu/~amaas/data/sentiment/).csv formato faile"
   ]
  },
  {
   "cell_type": "code",
   "execution_count": null,
   "id": "22ffb199-0b10-4a18-9f70-64b8ea2e2875",
   "metadata": {},
   "outputs": [],
   "source": [
    "shutil.copy('/content/drive/My Drive/Colab Notebooks/datasets/movie_data.csv.gz', 'movie_data.csv.gz')"
   ]
  },
  {
   "cell_type": "code",
   "execution_count": null,
   "id": "db8405e6-099e-4a9d-a504-8006b190c964",
   "metadata": {},
   "outputs": [],
   "source": [
    "!gunzip -f movie_data.csv.gz "
   ]
  },
  {
   "cell_type": "code",
   "execution_count": null,
   "id": "b05bc5ba-bfa3-42b1-b89e-f9b7665bbd71",
   "metadata": {},
   "outputs": [],
   "source": [
    "df = pd.read_csv('movie_data.csv')\n",
    "df.head()"
   ]
  },
  {
   "cell_type": "code",
   "execution_count": null,
   "id": "08367e20-238f-4468-a22d-28157935c982",
   "metadata": {},
   "outputs": [],
   "source": [
    "df.columns = ['TEXT_COLUMN_NAME', 'LABEL_COLUMN_NAME']\n",
    "df.to_csv('movie_data.csv', index=None)"
   ]
  },
  {
   "cell_type": "code",
   "execution_count": null,
   "id": "64168143-6e42-47e7-8b95-fbbc40bfecf8",
   "metadata": {},
   "outputs": [],
   "source": [
    "df = pd.read_csv('movie_data.csv')\n",
    "df.head()"
   ]
  },
  {
   "cell_type": "code",
   "execution_count": null,
   "id": "d9fe6a7c-b937-471c-a841-642f88971e34",
   "metadata": {},
   "outputs": [],
   "source": [
    "del df"
   ]
  },
  {
   "cell_type": "markdown",
   "id": "411c6645-e132-40f6-b20c-0c011a042a26",
   "metadata": {},
   "source": [
    "## Parengiame duomenų rinkinį su `torchtext`"
   ]
  },
  {
   "cell_type": "markdown",
   "id": "9957a668-f956-4bc2-8496-73776faf9611",
   "metadata": {},
   "source": [
    "Tam naudosime python biblioteka kuri vadinasi <code>**[spacy](https://spacy.io/usage)**</code>. Tai labai populiari NLP (natural language processing) biblioteka ir mes naudosime iš šios bibliotekos `tokenizer`"
   ]
  },
  {
   "cell_type": "code",
   "execution_count": null,
   "id": "5f84444f-0875-4eb9-aa86-5490aae308cd",
   "metadata": {},
   "outputs": [],
   "source": [
    "!pip install setuptools wheel spacy"
   ]
  },
  {
   "cell_type": "code",
   "execution_count": null,
   "id": "88b07e6e-c355-4766-a8af-47136f383a0c",
   "metadata": {},
   "outputs": [],
   "source": [
    "!python -m spacy download en_core_web_sm"
   ]
  },
  {
   "cell_type": "code",
   "execution_count": null,
   "id": "a7b96f5c-82da-4b89-bc9d-77c2cac156fa",
   "metadata": {},
   "outputs": [],
   "source": [
    "TEXT = torchtext.legacy.data.Field(\n",
    "    tokenize='spacy', # numatytasis tarpų padalijimas\n",
    "    tokenizer_language='en_core_web_sm' # anglų kalbos žodynas\n",
    ")\n",
    "\n",
    "# Etikečių apdorojimo apibrėžimas\n",
    "LABEL = torchtext.legacy.data.LabelField(dtype=torch.long)"
   ]
  },
  {
   "cell_type": "code",
   "execution_count": null,
   "id": "079bf0c1-fbbb-4bd4-a1c0-02963b392a2f",
   "metadata": {},
   "outputs": [],
   "source": [
    "fields = [('TEXT_COLUMN_NAME', TEXT), ('LABEL_COLUMN_NAME', LABEL)]\n",
    "\n",
    "dataset = torchtext.legacy.data.TabularDataset(\n",
    "    path='movie_data.csv', \n",
    "    format='csv',\n",
    "    skip_header=True, \n",
    "    fields=fields\n",
    ")"
   ]
  },
  {
   "cell_type": "code",
   "execution_count": null,
   "id": "dbe3d39c-dd2e-4441-8d87-136b115e98bb",
   "metadata": {},
   "outputs": [],
   "source": [
    "# train_data, valid_data, test_data = dataset.split(\n",
    "#     split_ratio=[0.7, 0.1, 0.2],\n",
    "#     random_state=random.seed(RANDOM_SEED))\n",
    "\n",
    "# print(f'treniravimo duomenys: {len(train_data)}')\n",
    "# print(f'validacijos duomenys: {len(valid_data)}')\n",
    "# print(f'testavimo duomenys  : {len(test_data)}')"
   ]
  },
  {
   "cell_type": "code",
   "execution_count": null,
   "id": "dcdda7d5-bac3-49a1-b316-16f89b295248",
   "metadata": {},
   "outputs": [],
   "source": [
    "train_data, test_data = dataset.split(\n",
    "    split_ratio=[0.8, 0.2],\n",
    "    random_state=random.seed(RANDOM_SEED))\n",
    "\n",
    "print(f'treniravimo duomenys: {len(train_data)}')\n",
    "print(f'testavimo duomenys  : {len(test_data)}')"
   ]
  },
  {
   "cell_type": "code",
   "execution_count": null,
   "id": "cea169c5-088e-47dc-a516-1850eaedb09d",
   "metadata": {},
   "outputs": [],
   "source": [
    "train_data, valid_data = train_data.split(\n",
    "    split_ratio=[0.85, 0.15],\n",
    "    random_state=random.seed(RANDOM_SEED))\n",
    "\n",
    "print(f'treniravimo duomenys: {len(train_data)}')\n",
    "print(f'testavimo duomenys  : {len(valid_data)}')"
   ]
  },
  {
   "cell_type": "markdown",
   "id": "25ecc551-4f8e-42ab-8a0c-cbf9d7d8274b",
   "metadata": {},
   "source": [
    "python [vars](https://docs.python.org/3/library/functions.html#vars)"
   ]
  },
  {
   "cell_type": "code",
   "execution_count": null,
   "id": "2b05dce4-97c7-4c78-afe1-d89cbfb14444",
   "metadata": {},
   "outputs": [],
   "source": [
    "print(vars(train_data.examples[0]))"
   ]
  },
  {
   "cell_type": "markdown",
   "id": "fe5b21a5-c4a0-483f-a87b-254a808ed2ed",
   "metadata": {},
   "source": [
    "## Sukuriame žodyną\n",
    "\n",
    "kurkite žodyną pagal dažniausius žodžius naudojant `VOCABULARY_SIZE = 20000`"
   ]
  },
  {
   "cell_type": "code",
   "execution_count": null,
   "id": "94f501c0-e110-444d-a791-fe8a0bc75320",
   "metadata": {},
   "outputs": [],
   "source": [
    "TEXT.build_vocab(train_data, max_size=VOCABULARY_SIZE)\n",
    "LABEL.build_vocab(train_data)\n",
    "\n",
    "print(f'Žodyno dydis   : {len(TEXT.vocab)}')\n",
    "print(f'Klasių skaičius: {len(LABEL.vocab)}')"
   ]
  },
  {
   "cell_type": "markdown",
   "id": "76273b3b-0213-4a44-a4a2-c362ee0020b5",
   "metadata": {},
   "source": [
    " - 20002 dėl `<unk>` ir `<pad>` tokenų.\n",
    " - PyTorch RNN gali susidoroti su skirtingais ilgiais dėl dinaminių grafikų, tačiau užpildymas `padding` yra būtinas norint užpildyti tokio pat ilgio sekas tam tikroje mini pakuotėje, kad galėtume jas saugoti masyve."
   ]
  },
  {
   "cell_type": "markdown",
   "id": "09c8a642-2ab7-4f20-8fe7-aef9c383e17c",
   "metadata": {},
   "source": [
    "<code>**Dažniausi žodžiai:**</code>"
   ]
  },
  {
   "cell_type": "code",
   "execution_count": null,
   "id": "f2b5a891-bd0d-40ad-982c-59870ba01696",
   "metadata": {},
   "outputs": [],
   "source": [
    "print(TEXT.vocab.freqs.most_common(20))"
   ]
  },
  {
   "cell_type": "markdown",
   "id": "e33ceb6e-a7f2-46a1-b850-7ea5d6298ed4",
   "metadata": {},
   "source": [
    "<code>**Tokenai atitinkantys pirmuosius 10 indeksų (0,1,...,9):**</code>"
   ]
  },
  {
   "cell_type": "code",
   "execution_count": null,
   "id": "f419522d-db1c-4c04-b173-9abf48f7d22d",
   "metadata": {},
   "outputs": [],
   "source": [
    "print(TEXT.vocab.itos[:10])"
   ]
  },
  {
   "cell_type": "markdown",
   "id": "1bb68873-35db-405d-bf18-62c67a28bae4",
   "metadata": {},
   "source": [
    "<code>**Konvertuojame tekstą į skaičių:**</code>"
   ]
  },
  {
   "cell_type": "code",
   "execution_count": null,
   "id": "4dde51ce-e226-47b2-86f9-03650fd9ca16",
   "metadata": {},
   "outputs": [],
   "source": [
    "print(TEXT.vocab.stoi['the'])"
   ]
  },
  {
   "cell_type": "markdown",
   "id": "2f071acb-a322-489c-a064-c23dfcefdb90",
   "metadata": {},
   "source": [
    "<code>**Etiketės**</code>"
   ]
  },
  {
   "cell_type": "code",
   "execution_count": null,
   "id": "63759882-9044-46de-ad04-a5fd1f412760",
   "metadata": {},
   "outputs": [],
   "source": [
    "print(LABEL.vocab.stoi)"
   ]
  },
  {
   "cell_type": "markdown",
   "id": "e39c94bf-890d-4636-b201-0d86ed20908e",
   "metadata": {},
   "source": [
    "<code>**Etikečių dažnis**</code>"
   ]
  },
  {
   "cell_type": "code",
   "execution_count": null,
   "id": "fd70784b-61ad-4163-a181-20af554f8ff4",
   "metadata": {},
   "outputs": [],
   "source": [
    "LABEL.vocab.freqs"
   ]
  },
  {
   "cell_type": "markdown",
   "id": "7fa1bafc-1f39-409d-a246-6714f1b2a147",
   "metadata": {},
   "source": [
    "## Duomenų krautuvas"
   ]
  },
  {
   "cell_type": "code",
   "execution_count": null,
   "id": "dbdb8b0c-b180-4573-ae45-b0cd2910b37a",
   "metadata": {},
   "outputs": [],
   "source": [
    "train_loader, valid_loader, test_loader = \\\n",
    "    torchtext.legacy.data.BucketIterator.splits(\n",
    "        (train_data, valid_data, test_data),\n",
    "         batch_size=BATCH_SIZE,\n",
    "         sort_within_batch=False,\n",
    "         sort_key=lambda x: len(x.TEXT_COLUMN_NAME),\n",
    "         device=DEVICE\n",
    "    )"
   ]
  },
  {
   "cell_type": "code",
   "execution_count": null,
   "id": "a089e8bb-94fb-457d-b13b-ecd0384db438",
   "metadata": {},
   "outputs": [],
   "source": [
    "print('Treniravimas')\n",
    "for batch in train_loader:\n",
    "    print(f'Teksto matricos dydis: {batch.TEXT_COLUMN_NAME.size()}')\n",
    "    print(f'Etikečių vektoriaus dydis: {batch.LABEL_COLUMN_NAME.size()}')\n",
    "    break\n",
    "    \n",
    "print('\\nValidacija:')\n",
    "for batch in valid_loader:\n",
    "    print(f'Teksto matricos dydis: {batch.TEXT_COLUMN_NAME.size()}')\n",
    "    print(f'Etikečių vektoriaus dydis: {batch.LABEL_COLUMN_NAME.size()}')\n",
    "    break\n",
    "    \n",
    "print('\\nTestavimas:')\n",
    "for batch in test_loader:\n",
    "    print(f'Teksto matricos dydis: {batch.TEXT_COLUMN_NAME.size()}')\n",
    "    print(f'Etikečių vektoriaus dydis: {batch.LABEL_COLUMN_NAME.size()}')\n",
    "    break\n"
   ]
  },
  {
   "cell_type": "code",
   "execution_count": null,
   "id": "a922fb7b-bade-4284-b79f-122b70699846",
   "metadata": {},
   "outputs": [],
   "source": [
    "class RNN(torch.nn.Module):\n",
    "    \n",
    "    def __init__(self, input_dim, embedding_dim, hidden_dim, output_dim):\n",
    "        super().__init__()\n",
    "\n",
    "        self.embedding = torch.nn.Embedding(input_dim, embedding_dim)\n",
    "        #self.rnn = torch.nn.RNN(embedding_dim,\n",
    "        #                        hidden_dim,\n",
    "        #                        nonlinearity='relu')\n",
    "        self.rnn = torch.nn.LSTM(embedding_dim,\n",
    "                                 hidden_dim)        \n",
    "        \n",
    "        self.fc = torch.nn.Linear(hidden_dim, output_dim)\n",
    "        \n",
    "\n",
    "    def forward(self, text):\n",
    "        # text dim: [sentence length, batch size]\n",
    "        \n",
    "        embedded = self.embedding(text)\n",
    "        # embedded dim: [sentence length, batch size, embedding dim]\n",
    "        \n",
    "        output, (hidden, cell) = self.rnn(embedded)\n",
    "        # output dim: [sentence length, batch size, hidden dim]\n",
    "        # hidden dim: [1, batch size, hidden dim]\n",
    "\n",
    "        hidden.squeeze_(0)\n",
    "        # hidden dim: [batch size, hidden dim]\n",
    "        \n",
    "        output = self.fc(hidden)\n",
    "        return output\n"
   ]
  },
  {
   "cell_type": "code",
   "execution_count": null,
   "id": "8557d291-20f5-45c3-b2f6-72810f7c562e",
   "metadata": {},
   "outputs": [],
   "source": [
    "class RNN_packed(torch.nn.Module):\n",
    "    \n",
    "    def __init__(self, input_dim, embedding_dim, hidden_dim, output_dim):\n",
    "        super().__init__()\n",
    "\n",
    "        self.embedding = torch.nn.Embedding(input_dim, embedding_dim)\n",
    "        self.rnn       = torch.nn.LSTM(embedding_dim, hidden_dim)        \n",
    "        self.fc        = torch.nn.Linear(hidden_dim, output_dim)\n",
    "        \n",
    "\n",
    "    def forward(self, text, text_length):\n",
    "        # teksto matmenys: [sakinio ilgis, pakuotės dydis]\n",
    "        \n",
    "        embedded = self.embedding(text)\n",
    "        # ebedded dim: [sakinio ilgis, pakuotės dydis, iterptin dim]\n",
    "        \n",
    "        ## nauja\n",
    "        packed = torch.nn.utils.rnn.pack_padded_sequence(embedded, text_length.to('cpu'))\n",
    "        \n",
    "        packed_output, (hidden, cell) = self.rnn(packed)\n",
    "        # output dim: [sentence length, batch size, hidden dim]\n",
    "        # hidden dim: [1, batch size, hidden dim]\n",
    "\n",
    "        hidden.squeeze_(0)\n",
    "        # hidden dim: [batch size, hidden dim]\n",
    "        \n",
    "        output = self.fc(hidden)\n",
    "        return output"
   ]
  },
  {
   "cell_type": "code",
   "execution_count": null,
   "id": "11f9be16-590f-49db-bfad-a91952fe592d",
   "metadata": {},
   "outputs": [],
   "source": [
    "torch.manual_seed(RANDOM_SEED)\n",
    "model = RNN(input_dim=len(TEXT.vocab),\n",
    "            embedding_dim=EMBEDDING_DIM,\n",
    "            hidden_dim=HIDDEN_DIM,\n",
    "            output_dim=NUM_CLASSES # gali naudoti 1 dvejetainei klasifikacijai\n",
    ")\n",
    "\n",
    "model = model.to(DEVICE)\n",
    "optimizer = torch.optim.Adam(model.parameters(), lr=0.005)\n"
   ]
  },
  {
   "cell_type": "code",
   "execution_count": null,
   "id": "c188cbd9-5531-4c33-b4b2-978d74bdd525",
   "metadata": {},
   "outputs": [],
   "source": [
    "torch.manual_seed(RANDOM_SEED)\n",
    "model = RNN_packed(input_dim=len(TEXT.vocab),\n",
    "            embedding_dim=EMBEDDING_DIM,\n",
    "            hidden_dim=HIDDEN_DIM,\n",
    "            output_dim=NUM_CLASSES # could use 1 for binary classification\n",
    ")\n",
    "\n",
    "model = model.to(DEVICE)\n",
    "optimizer = torch.optim.Adam(model.parameters(), lr=0.005)"
   ]
  },
  {
   "cell_type": "code",
   "execution_count": null,
   "id": "1506e083-ec12-40a9-b11b-430abaaf7040",
   "metadata": {},
   "outputs": [],
   "source": [
    "def compute_accuracy(model, data_loader, device):\n",
    "\n",
    "    with torch.no_grad():\n",
    "\n",
    "        correct_pred, num_examples = 0, 0\n",
    "\n",
    "        for i, (features, targets) in enumerate(data_loader):\n",
    "\n",
    "            features = features.to(device)\n",
    "            targets = targets.float().to(device)\n",
    "\n",
    "            logits = model(features)\n",
    "            _, predicted_labels = torch.max(logits, 1)\n",
    "\n",
    "            num_examples += targets.size(0)\n",
    "            correct_pred += (predicted_labels == targets).sum()\n",
    "    return correct_pred.float()/num_examples * 100\n",
    "\n",
    "\n",
    "     "
   ]
  },
  {
   "cell_type": "code",
   "execution_count": null,
   "id": "ffb0d15b-1a78-4821-9e2a-ad2f84772ebb",
   "metadata": {},
   "outputs": [],
   "source": [
    "start_time = time.time()\n",
    "\n",
    "for epoch in range(NUM_EPOCHS):\n",
    "    model.train()\n",
    "    for batch_idx, batch_data in enumerate(train_loader):\n",
    "        \n",
    "        text = batch_data.TEXT_COLUMN_NAME.to(DEVICE)\n",
    "        labels = batch_data.LABEL_COLUMN_NAME.to(DEVICE)\n",
    "\n",
    "        ### FORWARD AND BACK PROP\n",
    "        logits = model(text)\n",
    "        loss = F.cross_entropy(logits, labels)\n",
    "        optimizer.zero_grad()\n",
    "        \n",
    "        loss.backward()\n",
    "        \n",
    "        ### UPDATE MODEL PARAMETERS\n",
    "        optimizer.step()\n",
    "        \n",
    "        ### LOGGING\n",
    "        if not batch_idx % 50:\n",
    "            print (f'Epoch: {epoch+1:03d}/{NUM_EPOCHS:03d} | '\n",
    "                   f'Batch {batch_idx:03d}/{len(train_loader):03d} | '\n",
    "                   f'Loss: {loss:.4f}')\n",
    "\n",
    "    with torch.set_grad_enabled(False):\n",
    "        print(f'training accuracy: '\n",
    "              f'{compute_accuracy(model, train_loader, DEVICE):.2f}%'\n",
    "              f'\\nvalid accuracy: '\n",
    "              f'{compute_accuracy(model, valid_loader, DEVICE):.2f}%')\n",
    "        \n",
    "    print(f'Time elapsed: {(time.time() - start_time)/60:.2f} min')\n",
    "    \n",
    "print(f'Total Training Time: {(time.time() - start_time)/60:.2f} min')\n",
    "print(f'Test accuracy: {compute_accuracy(model, test_loader, DEVICE):.2f}%')\n"
   ]
  },
  {
   "cell_type": "code",
   "execution_count": null,
   "id": "cfea61e1-d350-4539-a0f8-a19a67b9dbdb",
   "metadata": {},
   "outputs": [],
   "source": [
    "import spacy\n",
    "\n",
    "\n",
    "nlp = spacy.blank(\"en\")\n",
    "\n",
    "def predict_sentiment(model, sentence):\n",
    "\n",
    "    model.eval()\n",
    "    tokenized = [tok.text for tok in nlp.tokenizer(sentence)]\n",
    "    indexed = [TEXT.vocab.stoi[t] for t in tokenized]\n",
    "    length = [len(indexed)]\n",
    "    tensor = torch.LongTensor(indexed).to(DEVICE)\n",
    "    tensor = tensor.unsqueeze(1)\n",
    "    length_tensor = torch.LongTensor(length)\n",
    "    prediction = torch.nn.functional.softmax(model(tensor), dim=1)\n",
    "    return prediction[0][0].item()\n",
    "\n",
    "print('Probability positive:')\n",
    "predict_sentiment(model, \"This is such an awesome movie, I really love it!\")"
   ]
  },
  {
   "cell_type": "code",
   "execution_count": null,
   "id": "ea5925a7-10cb-4248-a028-3553bec8e41c",
   "metadata": {},
   "outputs": [],
   "source": [
    "print('Probability negative:')\n",
    "1-predict_sentiment(model, \"I really hate this movie. It is really bad and sucks!\")"
   ]
  },
  {
   "cell_type": "code",
   "execution_count": null,
   "id": "23571a45-0bae-4454-b337-8e51ecb0192d",
   "metadata": {},
   "outputs": [],
   "source": []
  }
 ],
 "metadata": {
  "kernelspec": {
   "display_name": "Python 3",
   "language": "python",
   "name": "python3"
  },
  "language_info": {
   "codemirror_mode": {
    "name": "ipython",
    "version": 3
   },
   "file_extension": ".py",
   "mimetype": "text/x-python",
   "name": "python",
   "nbconvert_exporter": "python",
   "pygments_lexer": "ipython3",
   "version": "3.7.4"
  }
 },
 "nbformat": 4,
 "nbformat_minor": 5
}
