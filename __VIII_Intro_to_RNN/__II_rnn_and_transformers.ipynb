{
 "cells": [
  {
   "cell_type": "markdown",
   "id": "2924618b-9cb1-4d41-bd79-69e90c400e76",
   "metadata": {},
   "source": [
    "# II Pakartoniniai neuroniniai ir transformatoriai\n",
    "\n",
    "## Temos\n",
    "\n",
    "<code>**1  : Seku generavimas su žodžio ir simbolių RNNs**</code><br>\n",
    "<code>**2  : Simbolių RNN (PyTorch)**</code><br>\n",
    "<code>**3  : Dėmesio mechanizmas**</code><br>\n",
    "<code>**4  : Dėmesys be RNN**</code><br>\n",
    "<code>**5  : Dėmesys ir mastelio taško produkto dėmesys**</code><br>\n",
    "<code>**6  : Daugelio taškų dėmesys**</code><br>\n",
    "<code>**7  : Transformatoriaus architektūra**</code><br>\n",
    "<code>**8  : Populiarus transformatorių modeliai: BERT, BART, GPT**</code><br>\n",
    "<code>**9  : GPT-v1 generatyvinis paruoštas transformatorius**</code><br>\n",
    "<code>**10 : BERT: dvikryptis kodavimo atvaizdavimas iš transformatorių**</code><br>\n",
    "<code>**11 : GPT-v2: kalbos modeliai yra be priežiūros besimokantys \"multitaskeriai\"**</code><br>\n",
    "<code>**12 : GPT-v3: kalbos modeliai mokosi keliais bandymais**</code><br>\n",
    "<code>**13 : BART: kombinuojami dvikrypčiai ir auto regresyvus transformatoriai**</code><br>\n",
    "<code>**14 : DistilBERT: filmų apžvalgų klasifikatorius (PyTorch)**</code><br>"
   ]
  },
  {
   "cell_type": "code",
   "execution_count": 1,
   "id": "2d05139f-1c68-4a86-a7f2-80006f116869",
   "metadata": {},
   "outputs": [],
   "source": [
    "#TODO approx 3:50:00"
   ]
  },
  {
   "cell_type": "code",
   "execution_count": null,
   "id": "55c29b51-52c2-44ac-b2f3-8314fb4a8a81",
   "metadata": {},
   "outputs": [],
   "source": []
  }
 ],
 "metadata": {
  "kernelspec": {
   "display_name": "Python 3",
   "language": "python",
   "name": "python3"
  },
  "language_info": {
   "codemirror_mode": {
    "name": "ipython",
    "version": 3
   },
   "file_extension": ".py",
   "mimetype": "text/x-python",
   "name": "python",
   "nbconvert_exporter": "python",
   "pygments_lexer": "ipython3",
   "version": "3.7.4"
  }
 },
 "nbformat": 4,
 "nbformat_minor": 5
}
